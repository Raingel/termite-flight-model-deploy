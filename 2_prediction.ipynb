{
 "cells": [
  {
   "cell_type": "code",
   "execution_count": 1,
   "metadata": {},
   "outputs": [
    {
     "name": "stdout",
     "output_type": "stream",
     "text": [
      "cf_glm_model.pkl\n",
      "cf_lda_model.pkl\n",
      "cf_nn_model.pkl\n",
      "cf_nn_nn_model.pkl\n",
      "cf_rf_model.pkl\n",
      "cf_svm_model.pkl\n",
      "cg_glm_model.pkl\n",
      "cg_lda_model.pkl\n",
      "cg_nn_model.pkl\n",
      "cg_rf_model.pkl\n",
      "cg_svm_model.pkl\n"
     ]
    }
   ],
   "source": [
    "#List all models in the model directory\n",
    "import os \n",
    "\n",
    "def list_models():\n",
    "    models = os.listdir('models')\n",
    "    for model in models:\n",
    "        if model.endswith('.pkl'):\n",
    "            print(model)\n",
    "\n",
    "if __name__ == '__main__':\n",
    "    list_models()\n",
    "    "
   ]
  },
  {
   "cell_type": "code",
   "execution_count": 3,
   "metadata": {},
   "outputs": [
    {
     "name": "stdout",
     "output_type": "stream",
     "text": [
      "處理網格點：lon=120.25, lat=22.0\n"
     ]
    },
    {
     "name": "stderr",
     "output_type": "stream",
     "text": [
      "c:\\Users\\allen\\.conda\\envs\\termite_model\\lib\\site-packages\\sklearn\\base.py:380: InconsistentVersionWarning: Trying to unpickle estimator LabelBinarizer from version 1.5.1 when using version 1.6.1. This might lead to breaking code or invalid results. Use at your own risk. For more info please refer to:\n",
      "https://scikit-learn.org/stable/model_persistence.html#security-maintainability-limitations\n",
      "  warnings.warn(\n",
      "c:\\Users\\allen\\.conda\\envs\\termite_model\\lib\\site-packages\\sklearn\\base.py:380: InconsistentVersionWarning: Trying to unpickle estimator MLPClassifier from version 1.5.1 when using version 1.6.1. This might lead to breaking code or invalid results. Use at your own risk. For more info please refer to:\n",
      "https://scikit-learn.org/stable/model_persistence.html#security-maintainability-limitations\n",
      "  warnings.warn(\n"
     ]
    },
    {
     "name": "stdout",
     "output_type": "stream",
     "text": [
      "處理網格點：lon=120.5, lat=22.0\n"
     ]
    },
    {
     "name": "stderr",
     "output_type": "stream",
     "text": [
      "c:\\Users\\allen\\.conda\\envs\\termite_model\\lib\\site-packages\\sklearn\\base.py:380: InconsistentVersionWarning: Trying to unpickle estimator LabelBinarizer from version 1.5.1 when using version 1.6.1. This might lead to breaking code or invalid results. Use at your own risk. For more info please refer to:\n",
      "https://scikit-learn.org/stable/model_persistence.html#security-maintainability-limitations\n",
      "  warnings.warn(\n",
      "c:\\Users\\allen\\.conda\\envs\\termite_model\\lib\\site-packages\\sklearn\\base.py:380: InconsistentVersionWarning: Trying to unpickle estimator MLPClassifier from version 1.5.1 when using version 1.6.1. This might lead to breaking code or invalid results. Use at your own risk. For more info please refer to:\n",
      "https://scikit-learn.org/stable/model_persistence.html#security-maintainability-limitations\n",
      "  warnings.warn(\n"
     ]
    },
    {
     "name": "stdout",
     "output_type": "stream",
     "text": [
      "處理網格點：lon=120.75, lat=22.0\n"
     ]
    },
    {
     "name": "stderr",
     "output_type": "stream",
     "text": [
      "c:\\Users\\allen\\.conda\\envs\\termite_model\\lib\\site-packages\\sklearn\\base.py:380: InconsistentVersionWarning: Trying to unpickle estimator LabelBinarizer from version 1.5.1 when using version 1.6.1. This might lead to breaking code or invalid results. Use at your own risk. For more info please refer to:\n",
      "https://scikit-learn.org/stable/model_persistence.html#security-maintainability-limitations\n",
      "  warnings.warn(\n",
      "c:\\Users\\allen\\.conda\\envs\\termite_model\\lib\\site-packages\\sklearn\\base.py:380: InconsistentVersionWarning: Trying to unpickle estimator MLPClassifier from version 1.5.1 when using version 1.6.1. This might lead to breaking code or invalid results. Use at your own risk. For more info please refer to:\n",
      "https://scikit-learn.org/stable/model_persistence.html#security-maintainability-limitations\n",
      "  warnings.warn(\n"
     ]
    },
    {
     "name": "stdout",
     "output_type": "stream",
     "text": [
      "處理網格點：lon=121.0, lat=22.0\n"
     ]
    },
    {
     "name": "stderr",
     "output_type": "stream",
     "text": [
      "c:\\Users\\allen\\.conda\\envs\\termite_model\\lib\\site-packages\\sklearn\\base.py:380: InconsistentVersionWarning: Trying to unpickle estimator LabelBinarizer from version 1.5.1 when using version 1.6.1. This might lead to breaking code or invalid results. Use at your own risk. For more info please refer to:\n",
      "https://scikit-learn.org/stable/model_persistence.html#security-maintainability-limitations\n",
      "  warnings.warn(\n",
      "c:\\Users\\allen\\.conda\\envs\\termite_model\\lib\\site-packages\\sklearn\\base.py:380: InconsistentVersionWarning: Trying to unpickle estimator MLPClassifier from version 1.5.1 when using version 1.6.1. This might lead to breaking code or invalid results. Use at your own risk. For more info please refer to:\n",
      "https://scikit-learn.org/stable/model_persistence.html#security-maintainability-limitations\n",
      "  warnings.warn(\n"
     ]
    },
    {
     "name": "stdout",
     "output_type": "stream",
     "text": [
      "處理網格點：lon=121.25, lat=22.0\n"
     ]
    },
    {
     "name": "stderr",
     "output_type": "stream",
     "text": [
      "c:\\Users\\allen\\.conda\\envs\\termite_model\\lib\\site-packages\\sklearn\\base.py:380: InconsistentVersionWarning: Trying to unpickle estimator LabelBinarizer from version 1.5.1 when using version 1.6.1. This might lead to breaking code or invalid results. Use at your own risk. For more info please refer to:\n",
      "https://scikit-learn.org/stable/model_persistence.html#security-maintainability-limitations\n",
      "  warnings.warn(\n",
      "c:\\Users\\allen\\.conda\\envs\\termite_model\\lib\\site-packages\\sklearn\\base.py:380: InconsistentVersionWarning: Trying to unpickle estimator MLPClassifier from version 1.5.1 when using version 1.6.1. This might lead to breaking code or invalid results. Use at your own risk. For more info please refer to:\n",
      "https://scikit-learn.org/stable/model_persistence.html#security-maintainability-limitations\n",
      "  warnings.warn(\n"
     ]
    },
    {
     "name": "stdout",
     "output_type": "stream",
     "text": [
      "處理網格點：lon=120.0, lat=22.25\n"
     ]
    },
    {
     "name": "stderr",
     "output_type": "stream",
     "text": [
      "c:\\Users\\allen\\.conda\\envs\\termite_model\\lib\\site-packages\\sklearn\\base.py:380: InconsistentVersionWarning: Trying to unpickle estimator LabelBinarizer from version 1.5.1 when using version 1.6.1. This might lead to breaking code or invalid results. Use at your own risk. For more info please refer to:\n",
      "https://scikit-learn.org/stable/model_persistence.html#security-maintainability-limitations\n",
      "  warnings.warn(\n",
      "c:\\Users\\allen\\.conda\\envs\\termite_model\\lib\\site-packages\\sklearn\\base.py:380: InconsistentVersionWarning: Trying to unpickle estimator MLPClassifier from version 1.5.1 when using version 1.6.1. This might lead to breaking code or invalid results. Use at your own risk. For more info please refer to:\n",
      "https://scikit-learn.org/stable/model_persistence.html#security-maintainability-limitations\n",
      "  warnings.warn(\n"
     ]
    },
    {
     "name": "stdout",
     "output_type": "stream",
     "text": [
      "處理網格點：lon=120.25, lat=22.25\n"
     ]
    },
    {
     "name": "stderr",
     "output_type": "stream",
     "text": [
      "c:\\Users\\allen\\.conda\\envs\\termite_model\\lib\\site-packages\\sklearn\\base.py:380: InconsistentVersionWarning: Trying to unpickle estimator LabelBinarizer from version 1.5.1 when using version 1.6.1. This might lead to breaking code or invalid results. Use at your own risk. For more info please refer to:\n",
      "https://scikit-learn.org/stable/model_persistence.html#security-maintainability-limitations\n",
      "  warnings.warn(\n",
      "c:\\Users\\allen\\.conda\\envs\\termite_model\\lib\\site-packages\\sklearn\\base.py:380: InconsistentVersionWarning: Trying to unpickle estimator MLPClassifier from version 1.5.1 when using version 1.6.1. This might lead to breaking code or invalid results. Use at your own risk. For more info please refer to:\n",
      "https://scikit-learn.org/stable/model_persistence.html#security-maintainability-limitations\n",
      "  warnings.warn(\n"
     ]
    },
    {
     "name": "stdout",
     "output_type": "stream",
     "text": [
      "處理網格點：lon=120.5, lat=22.25\n"
     ]
    },
    {
     "name": "stderr",
     "output_type": "stream",
     "text": [
      "c:\\Users\\allen\\.conda\\envs\\termite_model\\lib\\site-packages\\sklearn\\base.py:380: InconsistentVersionWarning: Trying to unpickle estimator LabelBinarizer from version 1.5.1 when using version 1.6.1. This might lead to breaking code or invalid results. Use at your own risk. For more info please refer to:\n",
      "https://scikit-learn.org/stable/model_persistence.html#security-maintainability-limitations\n",
      "  warnings.warn(\n",
      "c:\\Users\\allen\\.conda\\envs\\termite_model\\lib\\site-packages\\sklearn\\base.py:380: InconsistentVersionWarning: Trying to unpickle estimator MLPClassifier from version 1.5.1 when using version 1.6.1. This might lead to breaking code or invalid results. Use at your own risk. For more info please refer to:\n",
      "https://scikit-learn.org/stable/model_persistence.html#security-maintainability-limitations\n",
      "  warnings.warn(\n"
     ]
    },
    {
     "name": "stdout",
     "output_type": "stream",
     "text": [
      "處理網格點：lon=120.75, lat=22.25\n"
     ]
    },
    {
     "name": "stderr",
     "output_type": "stream",
     "text": [
      "c:\\Users\\allen\\.conda\\envs\\termite_model\\lib\\site-packages\\sklearn\\base.py:380: InconsistentVersionWarning: Trying to unpickle estimator LabelBinarizer from version 1.5.1 when using version 1.6.1. This might lead to breaking code or invalid results. Use at your own risk. For more info please refer to:\n",
      "https://scikit-learn.org/stable/model_persistence.html#security-maintainability-limitations\n",
      "  warnings.warn(\n",
      "c:\\Users\\allen\\.conda\\envs\\termite_model\\lib\\site-packages\\sklearn\\base.py:380: InconsistentVersionWarning: Trying to unpickle estimator MLPClassifier from version 1.5.1 when using version 1.6.1. This might lead to breaking code or invalid results. Use at your own risk. For more info please refer to:\n",
      "https://scikit-learn.org/stable/model_persistence.html#security-maintainability-limitations\n",
      "  warnings.warn(\n"
     ]
    },
    {
     "name": "stdout",
     "output_type": "stream",
     "text": [
      "處理網格點：lon=121.0, lat=22.25\n"
     ]
    },
    {
     "name": "stderr",
     "output_type": "stream",
     "text": [
      "c:\\Users\\allen\\.conda\\envs\\termite_model\\lib\\site-packages\\sklearn\\base.py:380: InconsistentVersionWarning: Trying to unpickle estimator LabelBinarizer from version 1.5.1 when using version 1.6.1. This might lead to breaking code or invalid results. Use at your own risk. For more info please refer to:\n",
      "https://scikit-learn.org/stable/model_persistence.html#security-maintainability-limitations\n",
      "  warnings.warn(\n",
      "c:\\Users\\allen\\.conda\\envs\\termite_model\\lib\\site-packages\\sklearn\\base.py:380: InconsistentVersionWarning: Trying to unpickle estimator MLPClassifier from version 1.5.1 when using version 1.6.1. This might lead to breaking code or invalid results. Use at your own risk. For more info please refer to:\n",
      "https://scikit-learn.org/stable/model_persistence.html#security-maintainability-limitations\n",
      "  warnings.warn(\n"
     ]
    },
    {
     "name": "stdout",
     "output_type": "stream",
     "text": [
      "處理網格點：lon=121.25, lat=22.25\n"
     ]
    },
    {
     "name": "stderr",
     "output_type": "stream",
     "text": [
      "c:\\Users\\allen\\.conda\\envs\\termite_model\\lib\\site-packages\\sklearn\\base.py:380: InconsistentVersionWarning: Trying to unpickle estimator LabelBinarizer from version 1.5.1 when using version 1.6.1. This might lead to breaking code or invalid results. Use at your own risk. For more info please refer to:\n",
      "https://scikit-learn.org/stable/model_persistence.html#security-maintainability-limitations\n",
      "  warnings.warn(\n",
      "c:\\Users\\allen\\.conda\\envs\\termite_model\\lib\\site-packages\\sklearn\\base.py:380: InconsistentVersionWarning: Trying to unpickle estimator MLPClassifier from version 1.5.1 when using version 1.6.1. This might lead to breaking code or invalid results. Use at your own risk. For more info please refer to:\n",
      "https://scikit-learn.org/stable/model_persistence.html#security-maintainability-limitations\n",
      "  warnings.warn(\n"
     ]
    },
    {
     "name": "stdout",
     "output_type": "stream",
     "text": [
      "處理網格點：lon=121.5, lat=22.25\n"
     ]
    },
    {
     "name": "stderr",
     "output_type": "stream",
     "text": [
      "c:\\Users\\allen\\.conda\\envs\\termite_model\\lib\\site-packages\\sklearn\\base.py:380: InconsistentVersionWarning: Trying to unpickle estimator LabelBinarizer from version 1.5.1 when using version 1.6.1. This might lead to breaking code or invalid results. Use at your own risk. For more info please refer to:\n",
      "https://scikit-learn.org/stable/model_persistence.html#security-maintainability-limitations\n",
      "  warnings.warn(\n",
      "c:\\Users\\allen\\.conda\\envs\\termite_model\\lib\\site-packages\\sklearn\\base.py:380: InconsistentVersionWarning: Trying to unpickle estimator MLPClassifier from version 1.5.1 when using version 1.6.1. This might lead to breaking code or invalid results. Use at your own risk. For more info please refer to:\n",
      "https://scikit-learn.org/stable/model_persistence.html#security-maintainability-limitations\n",
      "  warnings.warn(\n"
     ]
    },
    {
     "name": "stdout",
     "output_type": "stream",
     "text": [
      "處理網格點：lon=121.75, lat=22.25\n"
     ]
    },
    {
     "name": "stderr",
     "output_type": "stream",
     "text": [
      "c:\\Users\\allen\\.conda\\envs\\termite_model\\lib\\site-packages\\sklearn\\base.py:380: InconsistentVersionWarning: Trying to unpickle estimator LabelBinarizer from version 1.5.1 when using version 1.6.1. This might lead to breaking code or invalid results. Use at your own risk. For more info please refer to:\n",
      "https://scikit-learn.org/stable/model_persistence.html#security-maintainability-limitations\n",
      "  warnings.warn(\n",
      "c:\\Users\\allen\\.conda\\envs\\termite_model\\lib\\site-packages\\sklearn\\base.py:380: InconsistentVersionWarning: Trying to unpickle estimator MLPClassifier from version 1.5.1 when using version 1.6.1. This might lead to breaking code or invalid results. Use at your own risk. For more info please refer to:\n",
      "https://scikit-learn.org/stable/model_persistence.html#security-maintainability-limitations\n",
      "  warnings.warn(\n"
     ]
    },
    {
     "name": "stdout",
     "output_type": "stream",
     "text": [
      "處理網格點：lon=122.0, lat=22.25\n"
     ]
    },
    {
     "name": "stderr",
     "output_type": "stream",
     "text": [
      "c:\\Users\\allen\\.conda\\envs\\termite_model\\lib\\site-packages\\sklearn\\base.py:380: InconsistentVersionWarning: Trying to unpickle estimator LabelBinarizer from version 1.5.1 when using version 1.6.1. This might lead to breaking code or invalid results. Use at your own risk. For more info please refer to:\n",
      "https://scikit-learn.org/stable/model_persistence.html#security-maintainability-limitations\n",
      "  warnings.warn(\n",
      "c:\\Users\\allen\\.conda\\envs\\termite_model\\lib\\site-packages\\sklearn\\base.py:380: InconsistentVersionWarning: Trying to unpickle estimator MLPClassifier from version 1.5.1 when using version 1.6.1. This might lead to breaking code or invalid results. Use at your own risk. For more info please refer to:\n",
      "https://scikit-learn.org/stable/model_persistence.html#security-maintainability-limitations\n",
      "  warnings.warn(\n"
     ]
    },
    {
     "name": "stdout",
     "output_type": "stream",
     "text": [
      "處理網格點：lon=120.0, lat=22.5\n"
     ]
    },
    {
     "name": "stderr",
     "output_type": "stream",
     "text": [
      "c:\\Users\\allen\\.conda\\envs\\termite_model\\lib\\site-packages\\sklearn\\base.py:380: InconsistentVersionWarning: Trying to unpickle estimator LabelBinarizer from version 1.5.1 when using version 1.6.1. This might lead to breaking code or invalid results. Use at your own risk. For more info please refer to:\n",
      "https://scikit-learn.org/stable/model_persistence.html#security-maintainability-limitations\n",
      "  warnings.warn(\n",
      "c:\\Users\\allen\\.conda\\envs\\termite_model\\lib\\site-packages\\sklearn\\base.py:380: InconsistentVersionWarning: Trying to unpickle estimator MLPClassifier from version 1.5.1 when using version 1.6.1. This might lead to breaking code or invalid results. Use at your own risk. For more info please refer to:\n",
      "https://scikit-learn.org/stable/model_persistence.html#security-maintainability-limitations\n",
      "  warnings.warn(\n"
     ]
    },
    {
     "name": "stdout",
     "output_type": "stream",
     "text": [
      "處理網格點：lon=120.25, lat=22.5\n"
     ]
    },
    {
     "name": "stderr",
     "output_type": "stream",
     "text": [
      "c:\\Users\\allen\\.conda\\envs\\termite_model\\lib\\site-packages\\sklearn\\base.py:380: InconsistentVersionWarning: Trying to unpickle estimator LabelBinarizer from version 1.5.1 when using version 1.6.1. This might lead to breaking code or invalid results. Use at your own risk. For more info please refer to:\n",
      "https://scikit-learn.org/stable/model_persistence.html#security-maintainability-limitations\n",
      "  warnings.warn(\n",
      "c:\\Users\\allen\\.conda\\envs\\termite_model\\lib\\site-packages\\sklearn\\base.py:380: InconsistentVersionWarning: Trying to unpickle estimator MLPClassifier from version 1.5.1 when using version 1.6.1. This might lead to breaking code or invalid results. Use at your own risk. For more info please refer to:\n",
      "https://scikit-learn.org/stable/model_persistence.html#security-maintainability-limitations\n",
      "  warnings.warn(\n"
     ]
    },
    {
     "name": "stdout",
     "output_type": "stream",
     "text": [
      "處理網格點：lon=120.5, lat=22.5\n"
     ]
    },
    {
     "name": "stderr",
     "output_type": "stream",
     "text": [
      "c:\\Users\\allen\\.conda\\envs\\termite_model\\lib\\site-packages\\sklearn\\base.py:380: InconsistentVersionWarning: Trying to unpickle estimator LabelBinarizer from version 1.5.1 when using version 1.6.1. This might lead to breaking code or invalid results. Use at your own risk. For more info please refer to:\n",
      "https://scikit-learn.org/stable/model_persistence.html#security-maintainability-limitations\n",
      "  warnings.warn(\n",
      "c:\\Users\\allen\\.conda\\envs\\termite_model\\lib\\site-packages\\sklearn\\base.py:380: InconsistentVersionWarning: Trying to unpickle estimator MLPClassifier from version 1.5.1 when using version 1.6.1. This might lead to breaking code or invalid results. Use at your own risk. For more info please refer to:\n",
      "https://scikit-learn.org/stable/model_persistence.html#security-maintainability-limitations\n",
      "  warnings.warn(\n"
     ]
    },
    {
     "name": "stdout",
     "output_type": "stream",
     "text": [
      "處理網格點：lon=120.75, lat=22.5\n"
     ]
    },
    {
     "name": "stderr",
     "output_type": "stream",
     "text": [
      "c:\\Users\\allen\\.conda\\envs\\termite_model\\lib\\site-packages\\sklearn\\base.py:380: InconsistentVersionWarning: Trying to unpickle estimator LabelBinarizer from version 1.5.1 when using version 1.6.1. This might lead to breaking code or invalid results. Use at your own risk. For more info please refer to:\n",
      "https://scikit-learn.org/stable/model_persistence.html#security-maintainability-limitations\n",
      "  warnings.warn(\n",
      "c:\\Users\\allen\\.conda\\envs\\termite_model\\lib\\site-packages\\sklearn\\base.py:380: InconsistentVersionWarning: Trying to unpickle estimator MLPClassifier from version 1.5.1 when using version 1.6.1. This might lead to breaking code or invalid results. Use at your own risk. For more info please refer to:\n",
      "https://scikit-learn.org/stable/model_persistence.html#security-maintainability-limitations\n",
      "  warnings.warn(\n"
     ]
    },
    {
     "name": "stdout",
     "output_type": "stream",
     "text": [
      "處理網格點：lon=121.0, lat=22.5\n"
     ]
    },
    {
     "name": "stderr",
     "output_type": "stream",
     "text": [
      "c:\\Users\\allen\\.conda\\envs\\termite_model\\lib\\site-packages\\sklearn\\base.py:380: InconsistentVersionWarning: Trying to unpickle estimator LabelBinarizer from version 1.5.1 when using version 1.6.1. This might lead to breaking code or invalid results. Use at your own risk. For more info please refer to:\n",
      "https://scikit-learn.org/stable/model_persistence.html#security-maintainability-limitations\n",
      "  warnings.warn(\n",
      "c:\\Users\\allen\\.conda\\envs\\termite_model\\lib\\site-packages\\sklearn\\base.py:380: InconsistentVersionWarning: Trying to unpickle estimator MLPClassifier from version 1.5.1 when using version 1.6.1. This might lead to breaking code or invalid results. Use at your own risk. For more info please refer to:\n",
      "https://scikit-learn.org/stable/model_persistence.html#security-maintainability-limitations\n",
      "  warnings.warn(\n"
     ]
    },
    {
     "name": "stdout",
     "output_type": "stream",
     "text": [
      "處理網格點：lon=121.25, lat=22.5\n"
     ]
    },
    {
     "name": "stderr",
     "output_type": "stream",
     "text": [
      "c:\\Users\\allen\\.conda\\envs\\termite_model\\lib\\site-packages\\sklearn\\base.py:380: InconsistentVersionWarning: Trying to unpickle estimator LabelBinarizer from version 1.5.1 when using version 1.6.1. This might lead to breaking code or invalid results. Use at your own risk. For more info please refer to:\n",
      "https://scikit-learn.org/stable/model_persistence.html#security-maintainability-limitations\n",
      "  warnings.warn(\n",
      "c:\\Users\\allen\\.conda\\envs\\termite_model\\lib\\site-packages\\sklearn\\base.py:380: InconsistentVersionWarning: Trying to unpickle estimator MLPClassifier from version 1.5.1 when using version 1.6.1. This might lead to breaking code or invalid results. Use at your own risk. For more info please refer to:\n",
      "https://scikit-learn.org/stable/model_persistence.html#security-maintainability-limitations\n",
      "  warnings.warn(\n"
     ]
    },
    {
     "name": "stdout",
     "output_type": "stream",
     "text": [
      "處理網格點：lon=121.5, lat=22.5\n"
     ]
    },
    {
     "name": "stderr",
     "output_type": "stream",
     "text": [
      "c:\\Users\\allen\\.conda\\envs\\termite_model\\lib\\site-packages\\sklearn\\base.py:380: InconsistentVersionWarning: Trying to unpickle estimator LabelBinarizer from version 1.5.1 when using version 1.6.1. This might lead to breaking code or invalid results. Use at your own risk. For more info please refer to:\n",
      "https://scikit-learn.org/stable/model_persistence.html#security-maintainability-limitations\n",
      "  warnings.warn(\n",
      "c:\\Users\\allen\\.conda\\envs\\termite_model\\lib\\site-packages\\sklearn\\base.py:380: InconsistentVersionWarning: Trying to unpickle estimator MLPClassifier from version 1.5.1 when using version 1.6.1. This might lead to breaking code or invalid results. Use at your own risk. For more info please refer to:\n",
      "https://scikit-learn.org/stable/model_persistence.html#security-maintainability-limitations\n",
      "  warnings.warn(\n"
     ]
    },
    {
     "name": "stdout",
     "output_type": "stream",
     "text": [
      "處理網格點：lon=121.75, lat=22.5\n"
     ]
    },
    {
     "name": "stderr",
     "output_type": "stream",
     "text": [
      "c:\\Users\\allen\\.conda\\envs\\termite_model\\lib\\site-packages\\sklearn\\base.py:380: InconsistentVersionWarning: Trying to unpickle estimator LabelBinarizer from version 1.5.1 when using version 1.6.1. This might lead to breaking code or invalid results. Use at your own risk. For more info please refer to:\n",
      "https://scikit-learn.org/stable/model_persistence.html#security-maintainability-limitations\n",
      "  warnings.warn(\n",
      "c:\\Users\\allen\\.conda\\envs\\termite_model\\lib\\site-packages\\sklearn\\base.py:380: InconsistentVersionWarning: Trying to unpickle estimator MLPClassifier from version 1.5.1 when using version 1.6.1. This might lead to breaking code or invalid results. Use at your own risk. For more info please refer to:\n",
      "https://scikit-learn.org/stable/model_persistence.html#security-maintainability-limitations\n",
      "  warnings.warn(\n"
     ]
    },
    {
     "name": "stdout",
     "output_type": "stream",
     "text": [
      "處理網格點：lon=122.0, lat=22.5\n"
     ]
    },
    {
     "name": "stderr",
     "output_type": "stream",
     "text": [
      "c:\\Users\\allen\\.conda\\envs\\termite_model\\lib\\site-packages\\sklearn\\base.py:380: InconsistentVersionWarning: Trying to unpickle estimator LabelBinarizer from version 1.5.1 when using version 1.6.1. This might lead to breaking code or invalid results. Use at your own risk. For more info please refer to:\n",
      "https://scikit-learn.org/stable/model_persistence.html#security-maintainability-limitations\n",
      "  warnings.warn(\n",
      "c:\\Users\\allen\\.conda\\envs\\termite_model\\lib\\site-packages\\sklearn\\base.py:380: InconsistentVersionWarning: Trying to unpickle estimator MLPClassifier from version 1.5.1 when using version 1.6.1. This might lead to breaking code or invalid results. Use at your own risk. For more info please refer to:\n",
      "https://scikit-learn.org/stable/model_persistence.html#security-maintainability-limitations\n",
      "  warnings.warn(\n"
     ]
    },
    {
     "name": "stdout",
     "output_type": "stream",
     "text": [
      "處理網格點：lon=119.75, lat=22.75\n"
     ]
    },
    {
     "name": "stderr",
     "output_type": "stream",
     "text": [
      "c:\\Users\\allen\\.conda\\envs\\termite_model\\lib\\site-packages\\sklearn\\base.py:380: InconsistentVersionWarning: Trying to unpickle estimator LabelBinarizer from version 1.5.1 when using version 1.6.1. This might lead to breaking code or invalid results. Use at your own risk. For more info please refer to:\n",
      "https://scikit-learn.org/stable/model_persistence.html#security-maintainability-limitations\n",
      "  warnings.warn(\n",
      "c:\\Users\\allen\\.conda\\envs\\termite_model\\lib\\site-packages\\sklearn\\base.py:380: InconsistentVersionWarning: Trying to unpickle estimator MLPClassifier from version 1.5.1 when using version 1.6.1. This might lead to breaking code or invalid results. Use at your own risk. For more info please refer to:\n",
      "https://scikit-learn.org/stable/model_persistence.html#security-maintainability-limitations\n",
      "  warnings.warn(\n"
     ]
    },
    {
     "name": "stdout",
     "output_type": "stream",
     "text": [
      "處理網格點：lon=120.0, lat=22.75\n"
     ]
    },
    {
     "name": "stderr",
     "output_type": "stream",
     "text": [
      "c:\\Users\\allen\\.conda\\envs\\termite_model\\lib\\site-packages\\sklearn\\base.py:380: InconsistentVersionWarning: Trying to unpickle estimator LabelBinarizer from version 1.5.1 when using version 1.6.1. This might lead to breaking code or invalid results. Use at your own risk. For more info please refer to:\n",
      "https://scikit-learn.org/stable/model_persistence.html#security-maintainability-limitations\n",
      "  warnings.warn(\n",
      "c:\\Users\\allen\\.conda\\envs\\termite_model\\lib\\site-packages\\sklearn\\base.py:380: InconsistentVersionWarning: Trying to unpickle estimator MLPClassifier from version 1.5.1 when using version 1.6.1. This might lead to breaking code or invalid results. Use at your own risk. For more info please refer to:\n",
      "https://scikit-learn.org/stable/model_persistence.html#security-maintainability-limitations\n",
      "  warnings.warn(\n"
     ]
    },
    {
     "name": "stdout",
     "output_type": "stream",
     "text": [
      "處理網格點：lon=120.25, lat=22.75\n"
     ]
    },
    {
     "name": "stderr",
     "output_type": "stream",
     "text": [
      "c:\\Users\\allen\\.conda\\envs\\termite_model\\lib\\site-packages\\sklearn\\base.py:380: InconsistentVersionWarning: Trying to unpickle estimator LabelBinarizer from version 1.5.1 when using version 1.6.1. This might lead to breaking code or invalid results. Use at your own risk. For more info please refer to:\n",
      "https://scikit-learn.org/stable/model_persistence.html#security-maintainability-limitations\n",
      "  warnings.warn(\n",
      "c:\\Users\\allen\\.conda\\envs\\termite_model\\lib\\site-packages\\sklearn\\base.py:380: InconsistentVersionWarning: Trying to unpickle estimator MLPClassifier from version 1.5.1 when using version 1.6.1. This might lead to breaking code or invalid results. Use at your own risk. For more info please refer to:\n",
      "https://scikit-learn.org/stable/model_persistence.html#security-maintainability-limitations\n",
      "  warnings.warn(\n"
     ]
    },
    {
     "name": "stdout",
     "output_type": "stream",
     "text": [
      "處理網格點：lon=120.5, lat=22.75\n"
     ]
    },
    {
     "name": "stderr",
     "output_type": "stream",
     "text": [
      "c:\\Users\\allen\\.conda\\envs\\termite_model\\lib\\site-packages\\sklearn\\base.py:380: InconsistentVersionWarning: Trying to unpickle estimator LabelBinarizer from version 1.5.1 when using version 1.6.1. This might lead to breaking code or invalid results. Use at your own risk. For more info please refer to:\n",
      "https://scikit-learn.org/stable/model_persistence.html#security-maintainability-limitations\n",
      "  warnings.warn(\n",
      "c:\\Users\\allen\\.conda\\envs\\termite_model\\lib\\site-packages\\sklearn\\base.py:380: InconsistentVersionWarning: Trying to unpickle estimator MLPClassifier from version 1.5.1 when using version 1.6.1. This might lead to breaking code or invalid results. Use at your own risk. For more info please refer to:\n",
      "https://scikit-learn.org/stable/model_persistence.html#security-maintainability-limitations\n",
      "  warnings.warn(\n"
     ]
    },
    {
     "name": "stdout",
     "output_type": "stream",
     "text": [
      "處理網格點：lon=120.75, lat=22.75\n"
     ]
    },
    {
     "name": "stderr",
     "output_type": "stream",
     "text": [
      "c:\\Users\\allen\\.conda\\envs\\termite_model\\lib\\site-packages\\sklearn\\base.py:380: InconsistentVersionWarning: Trying to unpickle estimator LabelBinarizer from version 1.5.1 when using version 1.6.1. This might lead to breaking code or invalid results. Use at your own risk. For more info please refer to:\n",
      "https://scikit-learn.org/stable/model_persistence.html#security-maintainability-limitations\n",
      "  warnings.warn(\n",
      "c:\\Users\\allen\\.conda\\envs\\termite_model\\lib\\site-packages\\sklearn\\base.py:380: InconsistentVersionWarning: Trying to unpickle estimator MLPClassifier from version 1.5.1 when using version 1.6.1. This might lead to breaking code or invalid results. Use at your own risk. For more info please refer to:\n",
      "https://scikit-learn.org/stable/model_persistence.html#security-maintainability-limitations\n",
      "  warnings.warn(\n"
     ]
    },
    {
     "name": "stdout",
     "output_type": "stream",
     "text": [
      "處理網格點：lon=121.0, lat=22.75\n"
     ]
    },
    {
     "name": "stderr",
     "output_type": "stream",
     "text": [
      "c:\\Users\\allen\\.conda\\envs\\termite_model\\lib\\site-packages\\sklearn\\base.py:380: InconsistentVersionWarning: Trying to unpickle estimator LabelBinarizer from version 1.5.1 when using version 1.6.1. This might lead to breaking code or invalid results. Use at your own risk. For more info please refer to:\n",
      "https://scikit-learn.org/stable/model_persistence.html#security-maintainability-limitations\n",
      "  warnings.warn(\n",
      "c:\\Users\\allen\\.conda\\envs\\termite_model\\lib\\site-packages\\sklearn\\base.py:380: InconsistentVersionWarning: Trying to unpickle estimator MLPClassifier from version 1.5.1 when using version 1.6.1. This might lead to breaking code or invalid results. Use at your own risk. For more info please refer to:\n",
      "https://scikit-learn.org/stable/model_persistence.html#security-maintainability-limitations\n",
      "  warnings.warn(\n"
     ]
    },
    {
     "name": "stdout",
     "output_type": "stream",
     "text": [
      "處理網格點：lon=121.25, lat=22.75\n"
     ]
    },
    {
     "name": "stderr",
     "output_type": "stream",
     "text": [
      "c:\\Users\\allen\\.conda\\envs\\termite_model\\lib\\site-packages\\sklearn\\base.py:380: InconsistentVersionWarning: Trying to unpickle estimator LabelBinarizer from version 1.5.1 when using version 1.6.1. This might lead to breaking code or invalid results. Use at your own risk. For more info please refer to:\n",
      "https://scikit-learn.org/stable/model_persistence.html#security-maintainability-limitations\n",
      "  warnings.warn(\n",
      "c:\\Users\\allen\\.conda\\envs\\termite_model\\lib\\site-packages\\sklearn\\base.py:380: InconsistentVersionWarning: Trying to unpickle estimator MLPClassifier from version 1.5.1 when using version 1.6.1. This might lead to breaking code or invalid results. Use at your own risk. For more info please refer to:\n",
      "https://scikit-learn.org/stable/model_persistence.html#security-maintainability-limitations\n",
      "  warnings.warn(\n"
     ]
    },
    {
     "name": "stdout",
     "output_type": "stream",
     "text": [
      "處理網格點：lon=121.5, lat=22.75\n"
     ]
    },
    {
     "name": "stderr",
     "output_type": "stream",
     "text": [
      "c:\\Users\\allen\\.conda\\envs\\termite_model\\lib\\site-packages\\sklearn\\base.py:380: InconsistentVersionWarning: Trying to unpickle estimator LabelBinarizer from version 1.5.1 when using version 1.6.1. This might lead to breaking code or invalid results. Use at your own risk. For more info please refer to:\n",
      "https://scikit-learn.org/stable/model_persistence.html#security-maintainability-limitations\n",
      "  warnings.warn(\n",
      "c:\\Users\\allen\\.conda\\envs\\termite_model\\lib\\site-packages\\sklearn\\base.py:380: InconsistentVersionWarning: Trying to unpickle estimator MLPClassifier from version 1.5.1 when using version 1.6.1. This might lead to breaking code or invalid results. Use at your own risk. For more info please refer to:\n",
      "https://scikit-learn.org/stable/model_persistence.html#security-maintainability-limitations\n",
      "  warnings.warn(\n"
     ]
    },
    {
     "name": "stdout",
     "output_type": "stream",
     "text": [
      "處理網格點：lon=121.75, lat=22.75\n"
     ]
    },
    {
     "name": "stderr",
     "output_type": "stream",
     "text": [
      "c:\\Users\\allen\\.conda\\envs\\termite_model\\lib\\site-packages\\sklearn\\base.py:380: InconsistentVersionWarning: Trying to unpickle estimator LabelBinarizer from version 1.5.1 when using version 1.6.1. This might lead to breaking code or invalid results. Use at your own risk. For more info please refer to:\n",
      "https://scikit-learn.org/stable/model_persistence.html#security-maintainability-limitations\n",
      "  warnings.warn(\n",
      "c:\\Users\\allen\\.conda\\envs\\termite_model\\lib\\site-packages\\sklearn\\base.py:380: InconsistentVersionWarning: Trying to unpickle estimator MLPClassifier from version 1.5.1 when using version 1.6.1. This might lead to breaking code or invalid results. Use at your own risk. For more info please refer to:\n",
      "https://scikit-learn.org/stable/model_persistence.html#security-maintainability-limitations\n",
      "  warnings.warn(\n"
     ]
    },
    {
     "name": "stdout",
     "output_type": "stream",
     "text": [
      "處理網格點：lon=122.0, lat=22.75\n"
     ]
    },
    {
     "name": "stderr",
     "output_type": "stream",
     "text": [
      "c:\\Users\\allen\\.conda\\envs\\termite_model\\lib\\site-packages\\sklearn\\base.py:380: InconsistentVersionWarning: Trying to unpickle estimator LabelBinarizer from version 1.5.1 when using version 1.6.1. This might lead to breaking code or invalid results. Use at your own risk. For more info please refer to:\n",
      "https://scikit-learn.org/stable/model_persistence.html#security-maintainability-limitations\n",
      "  warnings.warn(\n",
      "c:\\Users\\allen\\.conda\\envs\\termite_model\\lib\\site-packages\\sklearn\\base.py:380: InconsistentVersionWarning: Trying to unpickle estimator MLPClassifier from version 1.5.1 when using version 1.6.1. This might lead to breaking code or invalid results. Use at your own risk. For more info please refer to:\n",
      "https://scikit-learn.org/stable/model_persistence.html#security-maintainability-limitations\n",
      "  warnings.warn(\n"
     ]
    },
    {
     "name": "stdout",
     "output_type": "stream",
     "text": [
      "處理網格點：lon=119.75, lat=23.0\n"
     ]
    },
    {
     "name": "stderr",
     "output_type": "stream",
     "text": [
      "c:\\Users\\allen\\.conda\\envs\\termite_model\\lib\\site-packages\\sklearn\\base.py:380: InconsistentVersionWarning: Trying to unpickle estimator LabelBinarizer from version 1.5.1 when using version 1.6.1. This might lead to breaking code or invalid results. Use at your own risk. For more info please refer to:\n",
      "https://scikit-learn.org/stable/model_persistence.html#security-maintainability-limitations\n",
      "  warnings.warn(\n",
      "c:\\Users\\allen\\.conda\\envs\\termite_model\\lib\\site-packages\\sklearn\\base.py:380: InconsistentVersionWarning: Trying to unpickle estimator MLPClassifier from version 1.5.1 when using version 1.6.1. This might lead to breaking code or invalid results. Use at your own risk. For more info please refer to:\n",
      "https://scikit-learn.org/stable/model_persistence.html#security-maintainability-limitations\n",
      "  warnings.warn(\n"
     ]
    },
    {
     "name": "stdout",
     "output_type": "stream",
     "text": [
      "處理網格點：lon=120.0, lat=23.0\n"
     ]
    },
    {
     "name": "stderr",
     "output_type": "stream",
     "text": [
      "c:\\Users\\allen\\.conda\\envs\\termite_model\\lib\\site-packages\\sklearn\\base.py:380: InconsistentVersionWarning: Trying to unpickle estimator LabelBinarizer from version 1.5.1 when using version 1.6.1. This might lead to breaking code or invalid results. Use at your own risk. For more info please refer to:\n",
      "https://scikit-learn.org/stable/model_persistence.html#security-maintainability-limitations\n",
      "  warnings.warn(\n",
      "c:\\Users\\allen\\.conda\\envs\\termite_model\\lib\\site-packages\\sklearn\\base.py:380: InconsistentVersionWarning: Trying to unpickle estimator MLPClassifier from version 1.5.1 when using version 1.6.1. This might lead to breaking code or invalid results. Use at your own risk. For more info please refer to:\n",
      "https://scikit-learn.org/stable/model_persistence.html#security-maintainability-limitations\n",
      "  warnings.warn(\n"
     ]
    },
    {
     "name": "stdout",
     "output_type": "stream",
     "text": [
      "處理網格點：lon=120.25, lat=23.0\n"
     ]
    },
    {
     "name": "stderr",
     "output_type": "stream",
     "text": [
      "c:\\Users\\allen\\.conda\\envs\\termite_model\\lib\\site-packages\\sklearn\\base.py:380: InconsistentVersionWarning: Trying to unpickle estimator LabelBinarizer from version 1.5.1 when using version 1.6.1. This might lead to breaking code or invalid results. Use at your own risk. For more info please refer to:\n",
      "https://scikit-learn.org/stable/model_persistence.html#security-maintainability-limitations\n",
      "  warnings.warn(\n",
      "c:\\Users\\allen\\.conda\\envs\\termite_model\\lib\\site-packages\\sklearn\\base.py:380: InconsistentVersionWarning: Trying to unpickle estimator MLPClassifier from version 1.5.1 when using version 1.6.1. This might lead to breaking code or invalid results. Use at your own risk. For more info please refer to:\n",
      "https://scikit-learn.org/stable/model_persistence.html#security-maintainability-limitations\n",
      "  warnings.warn(\n"
     ]
    },
    {
     "name": "stdout",
     "output_type": "stream",
     "text": [
      "處理網格點：lon=120.5, lat=23.0\n"
     ]
    },
    {
     "name": "stderr",
     "output_type": "stream",
     "text": [
      "c:\\Users\\allen\\.conda\\envs\\termite_model\\lib\\site-packages\\sklearn\\base.py:380: InconsistentVersionWarning: Trying to unpickle estimator LabelBinarizer from version 1.5.1 when using version 1.6.1. This might lead to breaking code or invalid results. Use at your own risk. For more info please refer to:\n",
      "https://scikit-learn.org/stable/model_persistence.html#security-maintainability-limitations\n",
      "  warnings.warn(\n",
      "c:\\Users\\allen\\.conda\\envs\\termite_model\\lib\\site-packages\\sklearn\\base.py:380: InconsistentVersionWarning: Trying to unpickle estimator MLPClassifier from version 1.5.1 when using version 1.6.1. This might lead to breaking code or invalid results. Use at your own risk. For more info please refer to:\n",
      "https://scikit-learn.org/stable/model_persistence.html#security-maintainability-limitations\n",
      "  warnings.warn(\n"
     ]
    },
    {
     "name": "stdout",
     "output_type": "stream",
     "text": [
      "處理網格點：lon=120.75, lat=23.0\n"
     ]
    },
    {
     "name": "stderr",
     "output_type": "stream",
     "text": [
      "c:\\Users\\allen\\.conda\\envs\\termite_model\\lib\\site-packages\\sklearn\\base.py:380: InconsistentVersionWarning: Trying to unpickle estimator LabelBinarizer from version 1.5.1 when using version 1.6.1. This might lead to breaking code or invalid results. Use at your own risk. For more info please refer to:\n",
      "https://scikit-learn.org/stable/model_persistence.html#security-maintainability-limitations\n",
      "  warnings.warn(\n",
      "c:\\Users\\allen\\.conda\\envs\\termite_model\\lib\\site-packages\\sklearn\\base.py:380: InconsistentVersionWarning: Trying to unpickle estimator MLPClassifier from version 1.5.1 when using version 1.6.1. This might lead to breaking code or invalid results. Use at your own risk. For more info please refer to:\n",
      "https://scikit-learn.org/stable/model_persistence.html#security-maintainability-limitations\n",
      "  warnings.warn(\n"
     ]
    },
    {
     "name": "stdout",
     "output_type": "stream",
     "text": [
      "處理網格點：lon=121.0, lat=23.0\n"
     ]
    },
    {
     "name": "stderr",
     "output_type": "stream",
     "text": [
      "c:\\Users\\allen\\.conda\\envs\\termite_model\\lib\\site-packages\\sklearn\\base.py:380: InconsistentVersionWarning: Trying to unpickle estimator LabelBinarizer from version 1.5.1 when using version 1.6.1. This might lead to breaking code or invalid results. Use at your own risk. For more info please refer to:\n",
      "https://scikit-learn.org/stable/model_persistence.html#security-maintainability-limitations\n",
      "  warnings.warn(\n",
      "c:\\Users\\allen\\.conda\\envs\\termite_model\\lib\\site-packages\\sklearn\\base.py:380: InconsistentVersionWarning: Trying to unpickle estimator MLPClassifier from version 1.5.1 when using version 1.6.1. This might lead to breaking code or invalid results. Use at your own risk. For more info please refer to:\n",
      "https://scikit-learn.org/stable/model_persistence.html#security-maintainability-limitations\n",
      "  warnings.warn(\n"
     ]
    },
    {
     "name": "stdout",
     "output_type": "stream",
     "text": [
      "處理網格點：lon=121.25, lat=23.0\n"
     ]
    },
    {
     "name": "stderr",
     "output_type": "stream",
     "text": [
      "c:\\Users\\allen\\.conda\\envs\\termite_model\\lib\\site-packages\\sklearn\\base.py:380: InconsistentVersionWarning: Trying to unpickle estimator LabelBinarizer from version 1.5.1 when using version 1.6.1. This might lead to breaking code or invalid results. Use at your own risk. For more info please refer to:\n",
      "https://scikit-learn.org/stable/model_persistence.html#security-maintainability-limitations\n",
      "  warnings.warn(\n",
      "c:\\Users\\allen\\.conda\\envs\\termite_model\\lib\\site-packages\\sklearn\\base.py:380: InconsistentVersionWarning: Trying to unpickle estimator MLPClassifier from version 1.5.1 when using version 1.6.1. This might lead to breaking code or invalid results. Use at your own risk. For more info please refer to:\n",
      "https://scikit-learn.org/stable/model_persistence.html#security-maintainability-limitations\n",
      "  warnings.warn(\n"
     ]
    },
    {
     "name": "stdout",
     "output_type": "stream",
     "text": [
      "處理網格點：lon=121.5, lat=23.0\n"
     ]
    },
    {
     "name": "stderr",
     "output_type": "stream",
     "text": [
      "c:\\Users\\allen\\.conda\\envs\\termite_model\\lib\\site-packages\\sklearn\\base.py:380: InconsistentVersionWarning: Trying to unpickle estimator LabelBinarizer from version 1.5.1 when using version 1.6.1. This might lead to breaking code or invalid results. Use at your own risk. For more info please refer to:\n",
      "https://scikit-learn.org/stable/model_persistence.html#security-maintainability-limitations\n",
      "  warnings.warn(\n",
      "c:\\Users\\allen\\.conda\\envs\\termite_model\\lib\\site-packages\\sklearn\\base.py:380: InconsistentVersionWarning: Trying to unpickle estimator MLPClassifier from version 1.5.1 when using version 1.6.1. This might lead to breaking code or invalid results. Use at your own risk. For more info please refer to:\n",
      "https://scikit-learn.org/stable/model_persistence.html#security-maintainability-limitations\n",
      "  warnings.warn(\n"
     ]
    },
    {
     "name": "stdout",
     "output_type": "stream",
     "text": [
      "處理網格點：lon=121.75, lat=23.0\n"
     ]
    },
    {
     "name": "stderr",
     "output_type": "stream",
     "text": [
      "c:\\Users\\allen\\.conda\\envs\\termite_model\\lib\\site-packages\\sklearn\\base.py:380: InconsistentVersionWarning: Trying to unpickle estimator LabelBinarizer from version 1.5.1 when using version 1.6.1. This might lead to breaking code or invalid results. Use at your own risk. For more info please refer to:\n",
      "https://scikit-learn.org/stable/model_persistence.html#security-maintainability-limitations\n",
      "  warnings.warn(\n",
      "c:\\Users\\allen\\.conda\\envs\\termite_model\\lib\\site-packages\\sklearn\\base.py:380: InconsistentVersionWarning: Trying to unpickle estimator MLPClassifier from version 1.5.1 when using version 1.6.1. This might lead to breaking code or invalid results. Use at your own risk. For more info please refer to:\n",
      "https://scikit-learn.org/stable/model_persistence.html#security-maintainability-limitations\n",
      "  warnings.warn(\n"
     ]
    },
    {
     "name": "stdout",
     "output_type": "stream",
     "text": [
      "處理網格點：lon=122.0, lat=23.0\n"
     ]
    },
    {
     "name": "stderr",
     "output_type": "stream",
     "text": [
      "c:\\Users\\allen\\.conda\\envs\\termite_model\\lib\\site-packages\\sklearn\\base.py:380: InconsistentVersionWarning: Trying to unpickle estimator LabelBinarizer from version 1.5.1 when using version 1.6.1. This might lead to breaking code or invalid results. Use at your own risk. For more info please refer to:\n",
      "https://scikit-learn.org/stable/model_persistence.html#security-maintainability-limitations\n",
      "  warnings.warn(\n",
      "c:\\Users\\allen\\.conda\\envs\\termite_model\\lib\\site-packages\\sklearn\\base.py:380: InconsistentVersionWarning: Trying to unpickle estimator MLPClassifier from version 1.5.1 when using version 1.6.1. This might lead to breaking code or invalid results. Use at your own risk. For more info please refer to:\n",
      "https://scikit-learn.org/stable/model_persistence.html#security-maintainability-limitations\n",
      "  warnings.warn(\n"
     ]
    },
    {
     "name": "stdout",
     "output_type": "stream",
     "text": [
      "處理網格點：lon=119.75, lat=23.25\n"
     ]
    },
    {
     "name": "stderr",
     "output_type": "stream",
     "text": [
      "c:\\Users\\allen\\.conda\\envs\\termite_model\\lib\\site-packages\\sklearn\\base.py:380: InconsistentVersionWarning: Trying to unpickle estimator LabelBinarizer from version 1.5.1 when using version 1.6.1. This might lead to breaking code or invalid results. Use at your own risk. For more info please refer to:\n",
      "https://scikit-learn.org/stable/model_persistence.html#security-maintainability-limitations\n",
      "  warnings.warn(\n",
      "c:\\Users\\allen\\.conda\\envs\\termite_model\\lib\\site-packages\\sklearn\\base.py:380: InconsistentVersionWarning: Trying to unpickle estimator MLPClassifier from version 1.5.1 when using version 1.6.1. This might lead to breaking code or invalid results. Use at your own risk. For more info please refer to:\n",
      "https://scikit-learn.org/stable/model_persistence.html#security-maintainability-limitations\n",
      "  warnings.warn(\n"
     ]
    },
    {
     "name": "stdout",
     "output_type": "stream",
     "text": [
      "處理網格點：lon=120.0, lat=23.25\n"
     ]
    },
    {
     "name": "stderr",
     "output_type": "stream",
     "text": [
      "c:\\Users\\allen\\.conda\\envs\\termite_model\\lib\\site-packages\\sklearn\\base.py:380: InconsistentVersionWarning: Trying to unpickle estimator LabelBinarizer from version 1.5.1 when using version 1.6.1. This might lead to breaking code or invalid results. Use at your own risk. For more info please refer to:\n",
      "https://scikit-learn.org/stable/model_persistence.html#security-maintainability-limitations\n",
      "  warnings.warn(\n",
      "c:\\Users\\allen\\.conda\\envs\\termite_model\\lib\\site-packages\\sklearn\\base.py:380: InconsistentVersionWarning: Trying to unpickle estimator MLPClassifier from version 1.5.1 when using version 1.6.1. This might lead to breaking code or invalid results. Use at your own risk. For more info please refer to:\n",
      "https://scikit-learn.org/stable/model_persistence.html#security-maintainability-limitations\n",
      "  warnings.warn(\n"
     ]
    },
    {
     "name": "stdout",
     "output_type": "stream",
     "text": [
      "處理網格點：lon=120.25, lat=23.25\n"
     ]
    },
    {
     "name": "stderr",
     "output_type": "stream",
     "text": [
      "c:\\Users\\allen\\.conda\\envs\\termite_model\\lib\\site-packages\\sklearn\\base.py:380: InconsistentVersionWarning: Trying to unpickle estimator LabelBinarizer from version 1.5.1 when using version 1.6.1. This might lead to breaking code or invalid results. Use at your own risk. For more info please refer to:\n",
      "https://scikit-learn.org/stable/model_persistence.html#security-maintainability-limitations\n",
      "  warnings.warn(\n",
      "c:\\Users\\allen\\.conda\\envs\\termite_model\\lib\\site-packages\\sklearn\\base.py:380: InconsistentVersionWarning: Trying to unpickle estimator MLPClassifier from version 1.5.1 when using version 1.6.1. This might lead to breaking code or invalid results. Use at your own risk. For more info please refer to:\n",
      "https://scikit-learn.org/stable/model_persistence.html#security-maintainability-limitations\n",
      "  warnings.warn(\n"
     ]
    },
    {
     "name": "stdout",
     "output_type": "stream",
     "text": [
      "處理網格點：lon=120.5, lat=23.25\n"
     ]
    },
    {
     "name": "stderr",
     "output_type": "stream",
     "text": [
      "c:\\Users\\allen\\.conda\\envs\\termite_model\\lib\\site-packages\\sklearn\\base.py:380: InconsistentVersionWarning: Trying to unpickle estimator LabelBinarizer from version 1.5.1 when using version 1.6.1. This might lead to breaking code or invalid results. Use at your own risk. For more info please refer to:\n",
      "https://scikit-learn.org/stable/model_persistence.html#security-maintainability-limitations\n",
      "  warnings.warn(\n",
      "c:\\Users\\allen\\.conda\\envs\\termite_model\\lib\\site-packages\\sklearn\\base.py:380: InconsistentVersionWarning: Trying to unpickle estimator MLPClassifier from version 1.5.1 when using version 1.6.1. This might lead to breaking code or invalid results. Use at your own risk. For more info please refer to:\n",
      "https://scikit-learn.org/stable/model_persistence.html#security-maintainability-limitations\n",
      "  warnings.warn(\n"
     ]
    },
    {
     "name": "stdout",
     "output_type": "stream",
     "text": [
      "處理網格點：lon=120.75, lat=23.25\n"
     ]
    },
    {
     "name": "stderr",
     "output_type": "stream",
     "text": [
      "c:\\Users\\allen\\.conda\\envs\\termite_model\\lib\\site-packages\\sklearn\\base.py:380: InconsistentVersionWarning: Trying to unpickle estimator LabelBinarizer from version 1.5.1 when using version 1.6.1. This might lead to breaking code or invalid results. Use at your own risk. For more info please refer to:\n",
      "https://scikit-learn.org/stable/model_persistence.html#security-maintainability-limitations\n",
      "  warnings.warn(\n",
      "c:\\Users\\allen\\.conda\\envs\\termite_model\\lib\\site-packages\\sklearn\\base.py:380: InconsistentVersionWarning: Trying to unpickle estimator MLPClassifier from version 1.5.1 when using version 1.6.1. This might lead to breaking code or invalid results. Use at your own risk. For more info please refer to:\n",
      "https://scikit-learn.org/stable/model_persistence.html#security-maintainability-limitations\n",
      "  warnings.warn(\n"
     ]
    },
    {
     "name": "stdout",
     "output_type": "stream",
     "text": [
      "處理網格點：lon=121.0, lat=23.25\n"
     ]
    },
    {
     "name": "stderr",
     "output_type": "stream",
     "text": [
      "c:\\Users\\allen\\.conda\\envs\\termite_model\\lib\\site-packages\\sklearn\\base.py:380: InconsistentVersionWarning: Trying to unpickle estimator LabelBinarizer from version 1.5.1 when using version 1.6.1. This might lead to breaking code or invalid results. Use at your own risk. For more info please refer to:\n",
      "https://scikit-learn.org/stable/model_persistence.html#security-maintainability-limitations\n",
      "  warnings.warn(\n",
      "c:\\Users\\allen\\.conda\\envs\\termite_model\\lib\\site-packages\\sklearn\\base.py:380: InconsistentVersionWarning: Trying to unpickle estimator MLPClassifier from version 1.5.1 when using version 1.6.1. This might lead to breaking code or invalid results. Use at your own risk. For more info please refer to:\n",
      "https://scikit-learn.org/stable/model_persistence.html#security-maintainability-limitations\n",
      "  warnings.warn(\n"
     ]
    },
    {
     "name": "stdout",
     "output_type": "stream",
     "text": [
      "處理網格點：lon=121.25, lat=23.25\n"
     ]
    },
    {
     "name": "stderr",
     "output_type": "stream",
     "text": [
      "c:\\Users\\allen\\.conda\\envs\\termite_model\\lib\\site-packages\\sklearn\\base.py:380: InconsistentVersionWarning: Trying to unpickle estimator LabelBinarizer from version 1.5.1 when using version 1.6.1. This might lead to breaking code or invalid results. Use at your own risk. For more info please refer to:\n",
      "https://scikit-learn.org/stable/model_persistence.html#security-maintainability-limitations\n",
      "  warnings.warn(\n",
      "c:\\Users\\allen\\.conda\\envs\\termite_model\\lib\\site-packages\\sklearn\\base.py:380: InconsistentVersionWarning: Trying to unpickle estimator MLPClassifier from version 1.5.1 when using version 1.6.1. This might lead to breaking code or invalid results. Use at your own risk. For more info please refer to:\n",
      "https://scikit-learn.org/stable/model_persistence.html#security-maintainability-limitations\n",
      "  warnings.warn(\n"
     ]
    },
    {
     "name": "stdout",
     "output_type": "stream",
     "text": [
      "處理網格點：lon=121.5, lat=23.25\n"
     ]
    },
    {
     "name": "stderr",
     "output_type": "stream",
     "text": [
      "c:\\Users\\allen\\.conda\\envs\\termite_model\\lib\\site-packages\\sklearn\\base.py:380: InconsistentVersionWarning: Trying to unpickle estimator LabelBinarizer from version 1.5.1 when using version 1.6.1. This might lead to breaking code or invalid results. Use at your own risk. For more info please refer to:\n",
      "https://scikit-learn.org/stable/model_persistence.html#security-maintainability-limitations\n",
      "  warnings.warn(\n",
      "c:\\Users\\allen\\.conda\\envs\\termite_model\\lib\\site-packages\\sklearn\\base.py:380: InconsistentVersionWarning: Trying to unpickle estimator MLPClassifier from version 1.5.1 when using version 1.6.1. This might lead to breaking code or invalid results. Use at your own risk. For more info please refer to:\n",
      "https://scikit-learn.org/stable/model_persistence.html#security-maintainability-limitations\n",
      "  warnings.warn(\n"
     ]
    },
    {
     "name": "stdout",
     "output_type": "stream",
     "text": [
      "處理網格點：lon=121.75, lat=23.25\n"
     ]
    },
    {
     "name": "stderr",
     "output_type": "stream",
     "text": [
      "c:\\Users\\allen\\.conda\\envs\\termite_model\\lib\\site-packages\\sklearn\\base.py:380: InconsistentVersionWarning: Trying to unpickle estimator LabelBinarizer from version 1.5.1 when using version 1.6.1. This might lead to breaking code or invalid results. Use at your own risk. For more info please refer to:\n",
      "https://scikit-learn.org/stable/model_persistence.html#security-maintainability-limitations\n",
      "  warnings.warn(\n",
      "c:\\Users\\allen\\.conda\\envs\\termite_model\\lib\\site-packages\\sklearn\\base.py:380: InconsistentVersionWarning: Trying to unpickle estimator MLPClassifier from version 1.5.1 when using version 1.6.1. This might lead to breaking code or invalid results. Use at your own risk. For more info please refer to:\n",
      "https://scikit-learn.org/stable/model_persistence.html#security-maintainability-limitations\n",
      "  warnings.warn(\n"
     ]
    },
    {
     "name": "stdout",
     "output_type": "stream",
     "text": [
      "處理網格點：lon=122.0, lat=23.25\n"
     ]
    },
    {
     "name": "stderr",
     "output_type": "stream",
     "text": [
      "c:\\Users\\allen\\.conda\\envs\\termite_model\\lib\\site-packages\\sklearn\\base.py:380: InconsistentVersionWarning: Trying to unpickle estimator LabelBinarizer from version 1.5.1 when using version 1.6.1. This might lead to breaking code or invalid results. Use at your own risk. For more info please refer to:\n",
      "https://scikit-learn.org/stable/model_persistence.html#security-maintainability-limitations\n",
      "  warnings.warn(\n",
      "c:\\Users\\allen\\.conda\\envs\\termite_model\\lib\\site-packages\\sklearn\\base.py:380: InconsistentVersionWarning: Trying to unpickle estimator MLPClassifier from version 1.5.1 when using version 1.6.1. This might lead to breaking code or invalid results. Use at your own risk. For more info please refer to:\n",
      "https://scikit-learn.org/stable/model_persistence.html#security-maintainability-limitations\n",
      "  warnings.warn(\n"
     ]
    },
    {
     "name": "stdout",
     "output_type": "stream",
     "text": [
      "處理網格點：lon=119.5, lat=23.5\n"
     ]
    },
    {
     "name": "stderr",
     "output_type": "stream",
     "text": [
      "c:\\Users\\allen\\.conda\\envs\\termite_model\\lib\\site-packages\\sklearn\\base.py:380: InconsistentVersionWarning: Trying to unpickle estimator LabelBinarizer from version 1.5.1 when using version 1.6.1. This might lead to breaking code or invalid results. Use at your own risk. For more info please refer to:\n",
      "https://scikit-learn.org/stable/model_persistence.html#security-maintainability-limitations\n",
      "  warnings.warn(\n",
      "c:\\Users\\allen\\.conda\\envs\\termite_model\\lib\\site-packages\\sklearn\\base.py:380: InconsistentVersionWarning: Trying to unpickle estimator MLPClassifier from version 1.5.1 when using version 1.6.1. This might lead to breaking code or invalid results. Use at your own risk. For more info please refer to:\n",
      "https://scikit-learn.org/stable/model_persistence.html#security-maintainability-limitations\n",
      "  warnings.warn(\n"
     ]
    },
    {
     "name": "stdout",
     "output_type": "stream",
     "text": [
      "處理網格點：lon=119.75, lat=23.5\n"
     ]
    },
    {
     "name": "stderr",
     "output_type": "stream",
     "text": [
      "c:\\Users\\allen\\.conda\\envs\\termite_model\\lib\\site-packages\\sklearn\\base.py:380: InconsistentVersionWarning: Trying to unpickle estimator LabelBinarizer from version 1.5.1 when using version 1.6.1. This might lead to breaking code or invalid results. Use at your own risk. For more info please refer to:\n",
      "https://scikit-learn.org/stable/model_persistence.html#security-maintainability-limitations\n",
      "  warnings.warn(\n",
      "c:\\Users\\allen\\.conda\\envs\\termite_model\\lib\\site-packages\\sklearn\\base.py:380: InconsistentVersionWarning: Trying to unpickle estimator MLPClassifier from version 1.5.1 when using version 1.6.1. This might lead to breaking code or invalid results. Use at your own risk. For more info please refer to:\n",
      "https://scikit-learn.org/stable/model_persistence.html#security-maintainability-limitations\n",
      "  warnings.warn(\n"
     ]
    },
    {
     "name": "stdout",
     "output_type": "stream",
     "text": [
      "處理網格點：lon=120.0, lat=23.5\n"
     ]
    },
    {
     "name": "stderr",
     "output_type": "stream",
     "text": [
      "c:\\Users\\allen\\.conda\\envs\\termite_model\\lib\\site-packages\\sklearn\\base.py:380: InconsistentVersionWarning: Trying to unpickle estimator LabelBinarizer from version 1.5.1 when using version 1.6.1. This might lead to breaking code or invalid results. Use at your own risk. For more info please refer to:\n",
      "https://scikit-learn.org/stable/model_persistence.html#security-maintainability-limitations\n",
      "  warnings.warn(\n",
      "c:\\Users\\allen\\.conda\\envs\\termite_model\\lib\\site-packages\\sklearn\\base.py:380: InconsistentVersionWarning: Trying to unpickle estimator MLPClassifier from version 1.5.1 when using version 1.6.1. This might lead to breaking code or invalid results. Use at your own risk. For more info please refer to:\n",
      "https://scikit-learn.org/stable/model_persistence.html#security-maintainability-limitations\n",
      "  warnings.warn(\n"
     ]
    },
    {
     "name": "stdout",
     "output_type": "stream",
     "text": [
      "處理網格點：lon=120.25, lat=23.5\n"
     ]
    },
    {
     "name": "stderr",
     "output_type": "stream",
     "text": [
      "c:\\Users\\allen\\.conda\\envs\\termite_model\\lib\\site-packages\\sklearn\\base.py:380: InconsistentVersionWarning: Trying to unpickle estimator LabelBinarizer from version 1.5.1 when using version 1.6.1. This might lead to breaking code or invalid results. Use at your own risk. For more info please refer to:\n",
      "https://scikit-learn.org/stable/model_persistence.html#security-maintainability-limitations\n",
      "  warnings.warn(\n",
      "c:\\Users\\allen\\.conda\\envs\\termite_model\\lib\\site-packages\\sklearn\\base.py:380: InconsistentVersionWarning: Trying to unpickle estimator MLPClassifier from version 1.5.1 when using version 1.6.1. This might lead to breaking code or invalid results. Use at your own risk. For more info please refer to:\n",
      "https://scikit-learn.org/stable/model_persistence.html#security-maintainability-limitations\n",
      "  warnings.warn(\n"
     ]
    },
    {
     "name": "stdout",
     "output_type": "stream",
     "text": [
      "處理網格點：lon=120.5, lat=23.5\n"
     ]
    },
    {
     "name": "stderr",
     "output_type": "stream",
     "text": [
      "c:\\Users\\allen\\.conda\\envs\\termite_model\\lib\\site-packages\\sklearn\\base.py:380: InconsistentVersionWarning: Trying to unpickle estimator LabelBinarizer from version 1.5.1 when using version 1.6.1. This might lead to breaking code or invalid results. Use at your own risk. For more info please refer to:\n",
      "https://scikit-learn.org/stable/model_persistence.html#security-maintainability-limitations\n",
      "  warnings.warn(\n",
      "c:\\Users\\allen\\.conda\\envs\\termite_model\\lib\\site-packages\\sklearn\\base.py:380: InconsistentVersionWarning: Trying to unpickle estimator MLPClassifier from version 1.5.1 when using version 1.6.1. This might lead to breaking code or invalid results. Use at your own risk. For more info please refer to:\n",
      "https://scikit-learn.org/stable/model_persistence.html#security-maintainability-limitations\n",
      "  warnings.warn(\n"
     ]
    },
    {
     "name": "stdout",
     "output_type": "stream",
     "text": [
      "處理網格點：lon=120.75, lat=23.5\n"
     ]
    },
    {
     "name": "stderr",
     "output_type": "stream",
     "text": [
      "c:\\Users\\allen\\.conda\\envs\\termite_model\\lib\\site-packages\\sklearn\\base.py:380: InconsistentVersionWarning: Trying to unpickle estimator LabelBinarizer from version 1.5.1 when using version 1.6.1. This might lead to breaking code or invalid results. Use at your own risk. For more info please refer to:\n",
      "https://scikit-learn.org/stable/model_persistence.html#security-maintainability-limitations\n",
      "  warnings.warn(\n",
      "c:\\Users\\allen\\.conda\\envs\\termite_model\\lib\\site-packages\\sklearn\\base.py:380: InconsistentVersionWarning: Trying to unpickle estimator MLPClassifier from version 1.5.1 when using version 1.6.1. This might lead to breaking code or invalid results. Use at your own risk. For more info please refer to:\n",
      "https://scikit-learn.org/stable/model_persistence.html#security-maintainability-limitations\n",
      "  warnings.warn(\n"
     ]
    },
    {
     "name": "stdout",
     "output_type": "stream",
     "text": [
      "處理網格點：lon=121.0, lat=23.5\n"
     ]
    },
    {
     "name": "stderr",
     "output_type": "stream",
     "text": [
      "c:\\Users\\allen\\.conda\\envs\\termite_model\\lib\\site-packages\\sklearn\\base.py:380: InconsistentVersionWarning: Trying to unpickle estimator LabelBinarizer from version 1.5.1 when using version 1.6.1. This might lead to breaking code or invalid results. Use at your own risk. For more info please refer to:\n",
      "https://scikit-learn.org/stable/model_persistence.html#security-maintainability-limitations\n",
      "  warnings.warn(\n",
      "c:\\Users\\allen\\.conda\\envs\\termite_model\\lib\\site-packages\\sklearn\\base.py:380: InconsistentVersionWarning: Trying to unpickle estimator MLPClassifier from version 1.5.1 when using version 1.6.1. This might lead to breaking code or invalid results. Use at your own risk. For more info please refer to:\n",
      "https://scikit-learn.org/stable/model_persistence.html#security-maintainability-limitations\n",
      "  warnings.warn(\n"
     ]
    },
    {
     "name": "stdout",
     "output_type": "stream",
     "text": [
      "處理網格點：lon=121.25, lat=23.5\n"
     ]
    },
    {
     "name": "stderr",
     "output_type": "stream",
     "text": [
      "c:\\Users\\allen\\.conda\\envs\\termite_model\\lib\\site-packages\\sklearn\\base.py:380: InconsistentVersionWarning: Trying to unpickle estimator LabelBinarizer from version 1.5.1 when using version 1.6.1. This might lead to breaking code or invalid results. Use at your own risk. For more info please refer to:\n",
      "https://scikit-learn.org/stable/model_persistence.html#security-maintainability-limitations\n",
      "  warnings.warn(\n",
      "c:\\Users\\allen\\.conda\\envs\\termite_model\\lib\\site-packages\\sklearn\\base.py:380: InconsistentVersionWarning: Trying to unpickle estimator MLPClassifier from version 1.5.1 when using version 1.6.1. This might lead to breaking code or invalid results. Use at your own risk. For more info please refer to:\n",
      "https://scikit-learn.org/stable/model_persistence.html#security-maintainability-limitations\n",
      "  warnings.warn(\n"
     ]
    },
    {
     "name": "stdout",
     "output_type": "stream",
     "text": [
      "處理網格點：lon=121.5, lat=23.5\n"
     ]
    },
    {
     "name": "stderr",
     "output_type": "stream",
     "text": [
      "c:\\Users\\allen\\.conda\\envs\\termite_model\\lib\\site-packages\\sklearn\\base.py:380: InconsistentVersionWarning: Trying to unpickle estimator LabelBinarizer from version 1.5.1 when using version 1.6.1. This might lead to breaking code or invalid results. Use at your own risk. For more info please refer to:\n",
      "https://scikit-learn.org/stable/model_persistence.html#security-maintainability-limitations\n",
      "  warnings.warn(\n",
      "c:\\Users\\allen\\.conda\\envs\\termite_model\\lib\\site-packages\\sklearn\\base.py:380: InconsistentVersionWarning: Trying to unpickle estimator MLPClassifier from version 1.5.1 when using version 1.6.1. This might lead to breaking code or invalid results. Use at your own risk. For more info please refer to:\n",
      "https://scikit-learn.org/stable/model_persistence.html#security-maintainability-limitations\n",
      "  warnings.warn(\n"
     ]
    },
    {
     "name": "stdout",
     "output_type": "stream",
     "text": [
      "處理網格點：lon=121.75, lat=23.5\n"
     ]
    },
    {
     "name": "stderr",
     "output_type": "stream",
     "text": [
      "c:\\Users\\allen\\.conda\\envs\\termite_model\\lib\\site-packages\\sklearn\\base.py:380: InconsistentVersionWarning: Trying to unpickle estimator LabelBinarizer from version 1.5.1 when using version 1.6.1. This might lead to breaking code or invalid results. Use at your own risk. For more info please refer to:\n",
      "https://scikit-learn.org/stable/model_persistence.html#security-maintainability-limitations\n",
      "  warnings.warn(\n",
      "c:\\Users\\allen\\.conda\\envs\\termite_model\\lib\\site-packages\\sklearn\\base.py:380: InconsistentVersionWarning: Trying to unpickle estimator MLPClassifier from version 1.5.1 when using version 1.6.1. This might lead to breaking code or invalid results. Use at your own risk. For more info please refer to:\n",
      "https://scikit-learn.org/stable/model_persistence.html#security-maintainability-limitations\n",
      "  warnings.warn(\n"
     ]
    },
    {
     "name": "stdout",
     "output_type": "stream",
     "text": [
      "處理網格點：lon=119.5, lat=23.75\n"
     ]
    },
    {
     "name": "stderr",
     "output_type": "stream",
     "text": [
      "c:\\Users\\allen\\.conda\\envs\\termite_model\\lib\\site-packages\\sklearn\\base.py:380: InconsistentVersionWarning: Trying to unpickle estimator LabelBinarizer from version 1.5.1 when using version 1.6.1. This might lead to breaking code or invalid results. Use at your own risk. For more info please refer to:\n",
      "https://scikit-learn.org/stable/model_persistence.html#security-maintainability-limitations\n",
      "  warnings.warn(\n",
      "c:\\Users\\allen\\.conda\\envs\\termite_model\\lib\\site-packages\\sklearn\\base.py:380: InconsistentVersionWarning: Trying to unpickle estimator MLPClassifier from version 1.5.1 when using version 1.6.1. This might lead to breaking code or invalid results. Use at your own risk. For more info please refer to:\n",
      "https://scikit-learn.org/stable/model_persistence.html#security-maintainability-limitations\n",
      "  warnings.warn(\n"
     ]
    },
    {
     "name": "stdout",
     "output_type": "stream",
     "text": [
      "處理網格點：lon=119.75, lat=23.75\n"
     ]
    },
    {
     "name": "stderr",
     "output_type": "stream",
     "text": [
      "c:\\Users\\allen\\.conda\\envs\\termite_model\\lib\\site-packages\\sklearn\\base.py:380: InconsistentVersionWarning: Trying to unpickle estimator LabelBinarizer from version 1.5.1 when using version 1.6.1. This might lead to breaking code or invalid results. Use at your own risk. For more info please refer to:\n",
      "https://scikit-learn.org/stable/model_persistence.html#security-maintainability-limitations\n",
      "  warnings.warn(\n",
      "c:\\Users\\allen\\.conda\\envs\\termite_model\\lib\\site-packages\\sklearn\\base.py:380: InconsistentVersionWarning: Trying to unpickle estimator MLPClassifier from version 1.5.1 when using version 1.6.1. This might lead to breaking code or invalid results. Use at your own risk. For more info please refer to:\n",
      "https://scikit-learn.org/stable/model_persistence.html#security-maintainability-limitations\n",
      "  warnings.warn(\n"
     ]
    },
    {
     "name": "stdout",
     "output_type": "stream",
     "text": [
      "處理網格點：lon=120.0, lat=23.75\n"
     ]
    },
    {
     "name": "stderr",
     "output_type": "stream",
     "text": [
      "c:\\Users\\allen\\.conda\\envs\\termite_model\\lib\\site-packages\\sklearn\\base.py:380: InconsistentVersionWarning: Trying to unpickle estimator LabelBinarizer from version 1.5.1 when using version 1.6.1. This might lead to breaking code or invalid results. Use at your own risk. For more info please refer to:\n",
      "https://scikit-learn.org/stable/model_persistence.html#security-maintainability-limitations\n",
      "  warnings.warn(\n",
      "c:\\Users\\allen\\.conda\\envs\\termite_model\\lib\\site-packages\\sklearn\\base.py:380: InconsistentVersionWarning: Trying to unpickle estimator MLPClassifier from version 1.5.1 when using version 1.6.1. This might lead to breaking code or invalid results. Use at your own risk. For more info please refer to:\n",
      "https://scikit-learn.org/stable/model_persistence.html#security-maintainability-limitations\n",
      "  warnings.warn(\n"
     ]
    },
    {
     "name": "stdout",
     "output_type": "stream",
     "text": [
      "處理網格點：lon=120.25, lat=23.75\n"
     ]
    },
    {
     "name": "stderr",
     "output_type": "stream",
     "text": [
      "c:\\Users\\allen\\.conda\\envs\\termite_model\\lib\\site-packages\\sklearn\\base.py:380: InconsistentVersionWarning: Trying to unpickle estimator LabelBinarizer from version 1.5.1 when using version 1.6.1. This might lead to breaking code or invalid results. Use at your own risk. For more info please refer to:\n",
      "https://scikit-learn.org/stable/model_persistence.html#security-maintainability-limitations\n",
      "  warnings.warn(\n",
      "c:\\Users\\allen\\.conda\\envs\\termite_model\\lib\\site-packages\\sklearn\\base.py:380: InconsistentVersionWarning: Trying to unpickle estimator MLPClassifier from version 1.5.1 when using version 1.6.1. This might lead to breaking code or invalid results. Use at your own risk. For more info please refer to:\n",
      "https://scikit-learn.org/stable/model_persistence.html#security-maintainability-limitations\n",
      "  warnings.warn(\n"
     ]
    },
    {
     "name": "stdout",
     "output_type": "stream",
     "text": [
      "處理網格點：lon=120.5, lat=23.75\n"
     ]
    },
    {
     "name": "stderr",
     "output_type": "stream",
     "text": [
      "c:\\Users\\allen\\.conda\\envs\\termite_model\\lib\\site-packages\\sklearn\\base.py:380: InconsistentVersionWarning: Trying to unpickle estimator LabelBinarizer from version 1.5.1 when using version 1.6.1. This might lead to breaking code or invalid results. Use at your own risk. For more info please refer to:\n",
      "https://scikit-learn.org/stable/model_persistence.html#security-maintainability-limitations\n",
      "  warnings.warn(\n",
      "c:\\Users\\allen\\.conda\\envs\\termite_model\\lib\\site-packages\\sklearn\\base.py:380: InconsistentVersionWarning: Trying to unpickle estimator MLPClassifier from version 1.5.1 when using version 1.6.1. This might lead to breaking code or invalid results. Use at your own risk. For more info please refer to:\n",
      "https://scikit-learn.org/stable/model_persistence.html#security-maintainability-limitations\n",
      "  warnings.warn(\n"
     ]
    },
    {
     "name": "stdout",
     "output_type": "stream",
     "text": [
      "處理網格點：lon=120.75, lat=23.75\n"
     ]
    },
    {
     "name": "stderr",
     "output_type": "stream",
     "text": [
      "c:\\Users\\allen\\.conda\\envs\\termite_model\\lib\\site-packages\\sklearn\\base.py:380: InconsistentVersionWarning: Trying to unpickle estimator LabelBinarizer from version 1.5.1 when using version 1.6.1. This might lead to breaking code or invalid results. Use at your own risk. For more info please refer to:\n",
      "https://scikit-learn.org/stable/model_persistence.html#security-maintainability-limitations\n",
      "  warnings.warn(\n",
      "c:\\Users\\allen\\.conda\\envs\\termite_model\\lib\\site-packages\\sklearn\\base.py:380: InconsistentVersionWarning: Trying to unpickle estimator MLPClassifier from version 1.5.1 when using version 1.6.1. This might lead to breaking code or invalid results. Use at your own risk. For more info please refer to:\n",
      "https://scikit-learn.org/stable/model_persistence.html#security-maintainability-limitations\n",
      "  warnings.warn(\n"
     ]
    },
    {
     "name": "stdout",
     "output_type": "stream",
     "text": [
      "處理網格點：lon=121.0, lat=23.75\n"
     ]
    },
    {
     "name": "stderr",
     "output_type": "stream",
     "text": [
      "c:\\Users\\allen\\.conda\\envs\\termite_model\\lib\\site-packages\\sklearn\\base.py:380: InconsistentVersionWarning: Trying to unpickle estimator LabelBinarizer from version 1.5.1 when using version 1.6.1. This might lead to breaking code or invalid results. Use at your own risk. For more info please refer to:\n",
      "https://scikit-learn.org/stable/model_persistence.html#security-maintainability-limitations\n",
      "  warnings.warn(\n",
      "c:\\Users\\allen\\.conda\\envs\\termite_model\\lib\\site-packages\\sklearn\\base.py:380: InconsistentVersionWarning: Trying to unpickle estimator MLPClassifier from version 1.5.1 when using version 1.6.1. This might lead to breaking code or invalid results. Use at your own risk. For more info please refer to:\n",
      "https://scikit-learn.org/stable/model_persistence.html#security-maintainability-limitations\n",
      "  warnings.warn(\n"
     ]
    },
    {
     "name": "stdout",
     "output_type": "stream",
     "text": [
      "處理網格點：lon=121.25, lat=23.75\n"
     ]
    },
    {
     "name": "stderr",
     "output_type": "stream",
     "text": [
      "c:\\Users\\allen\\.conda\\envs\\termite_model\\lib\\site-packages\\sklearn\\base.py:380: InconsistentVersionWarning: Trying to unpickle estimator LabelBinarizer from version 1.5.1 when using version 1.6.1. This might lead to breaking code or invalid results. Use at your own risk. For more info please refer to:\n",
      "https://scikit-learn.org/stable/model_persistence.html#security-maintainability-limitations\n",
      "  warnings.warn(\n",
      "c:\\Users\\allen\\.conda\\envs\\termite_model\\lib\\site-packages\\sklearn\\base.py:380: InconsistentVersionWarning: Trying to unpickle estimator MLPClassifier from version 1.5.1 when using version 1.6.1. This might lead to breaking code or invalid results. Use at your own risk. For more info please refer to:\n",
      "https://scikit-learn.org/stable/model_persistence.html#security-maintainability-limitations\n",
      "  warnings.warn(\n"
     ]
    },
    {
     "name": "stdout",
     "output_type": "stream",
     "text": [
      "處理網格點：lon=121.5, lat=23.75\n"
     ]
    },
    {
     "name": "stderr",
     "output_type": "stream",
     "text": [
      "c:\\Users\\allen\\.conda\\envs\\termite_model\\lib\\site-packages\\sklearn\\base.py:380: InconsistentVersionWarning: Trying to unpickle estimator LabelBinarizer from version 1.5.1 when using version 1.6.1. This might lead to breaking code or invalid results. Use at your own risk. For more info please refer to:\n",
      "https://scikit-learn.org/stable/model_persistence.html#security-maintainability-limitations\n",
      "  warnings.warn(\n",
      "c:\\Users\\allen\\.conda\\envs\\termite_model\\lib\\site-packages\\sklearn\\base.py:380: InconsistentVersionWarning: Trying to unpickle estimator MLPClassifier from version 1.5.1 when using version 1.6.1. This might lead to breaking code or invalid results. Use at your own risk. For more info please refer to:\n",
      "https://scikit-learn.org/stable/model_persistence.html#security-maintainability-limitations\n",
      "  warnings.warn(\n"
     ]
    },
    {
     "name": "stdout",
     "output_type": "stream",
     "text": [
      "處理網格點：lon=121.75, lat=23.75\n"
     ]
    },
    {
     "name": "stderr",
     "output_type": "stream",
     "text": [
      "c:\\Users\\allen\\.conda\\envs\\termite_model\\lib\\site-packages\\sklearn\\base.py:380: InconsistentVersionWarning: Trying to unpickle estimator LabelBinarizer from version 1.5.1 when using version 1.6.1. This might lead to breaking code or invalid results. Use at your own risk. For more info please refer to:\n",
      "https://scikit-learn.org/stable/model_persistence.html#security-maintainability-limitations\n",
      "  warnings.warn(\n",
      "c:\\Users\\allen\\.conda\\envs\\termite_model\\lib\\site-packages\\sklearn\\base.py:380: InconsistentVersionWarning: Trying to unpickle estimator MLPClassifier from version 1.5.1 when using version 1.6.1. This might lead to breaking code or invalid results. Use at your own risk. For more info please refer to:\n",
      "https://scikit-learn.org/stable/model_persistence.html#security-maintainability-limitations\n",
      "  warnings.warn(\n"
     ]
    },
    {
     "name": "stdout",
     "output_type": "stream",
     "text": [
      "處理網格點：lon=119.5, lat=24.0\n"
     ]
    },
    {
     "name": "stderr",
     "output_type": "stream",
     "text": [
      "c:\\Users\\allen\\.conda\\envs\\termite_model\\lib\\site-packages\\sklearn\\base.py:380: InconsistentVersionWarning: Trying to unpickle estimator LabelBinarizer from version 1.5.1 when using version 1.6.1. This might lead to breaking code or invalid results. Use at your own risk. For more info please refer to:\n",
      "https://scikit-learn.org/stable/model_persistence.html#security-maintainability-limitations\n",
      "  warnings.warn(\n",
      "c:\\Users\\allen\\.conda\\envs\\termite_model\\lib\\site-packages\\sklearn\\base.py:380: InconsistentVersionWarning: Trying to unpickle estimator MLPClassifier from version 1.5.1 when using version 1.6.1. This might lead to breaking code or invalid results. Use at your own risk. For more info please refer to:\n",
      "https://scikit-learn.org/stable/model_persistence.html#security-maintainability-limitations\n",
      "  warnings.warn(\n"
     ]
    },
    {
     "name": "stdout",
     "output_type": "stream",
     "text": [
      "處理網格點：lon=119.75, lat=24.0\n"
     ]
    },
    {
     "name": "stderr",
     "output_type": "stream",
     "text": [
      "c:\\Users\\allen\\.conda\\envs\\termite_model\\lib\\site-packages\\sklearn\\base.py:380: InconsistentVersionWarning: Trying to unpickle estimator LabelBinarizer from version 1.5.1 when using version 1.6.1. This might lead to breaking code or invalid results. Use at your own risk. For more info please refer to:\n",
      "https://scikit-learn.org/stable/model_persistence.html#security-maintainability-limitations\n",
      "  warnings.warn(\n",
      "c:\\Users\\allen\\.conda\\envs\\termite_model\\lib\\site-packages\\sklearn\\base.py:380: InconsistentVersionWarning: Trying to unpickle estimator MLPClassifier from version 1.5.1 when using version 1.6.1. This might lead to breaking code or invalid results. Use at your own risk. For more info please refer to:\n",
      "https://scikit-learn.org/stable/model_persistence.html#security-maintainability-limitations\n",
      "  warnings.warn(\n"
     ]
    },
    {
     "name": "stdout",
     "output_type": "stream",
     "text": [
      "處理網格點：lon=120.0, lat=24.0\n"
     ]
    },
    {
     "name": "stderr",
     "output_type": "stream",
     "text": [
      "c:\\Users\\allen\\.conda\\envs\\termite_model\\lib\\site-packages\\sklearn\\base.py:380: InconsistentVersionWarning: Trying to unpickle estimator LabelBinarizer from version 1.5.1 when using version 1.6.1. This might lead to breaking code or invalid results. Use at your own risk. For more info please refer to:\n",
      "https://scikit-learn.org/stable/model_persistence.html#security-maintainability-limitations\n",
      "  warnings.warn(\n",
      "c:\\Users\\allen\\.conda\\envs\\termite_model\\lib\\site-packages\\sklearn\\base.py:380: InconsistentVersionWarning: Trying to unpickle estimator MLPClassifier from version 1.5.1 when using version 1.6.1. This might lead to breaking code or invalid results. Use at your own risk. For more info please refer to:\n",
      "https://scikit-learn.org/stable/model_persistence.html#security-maintainability-limitations\n",
      "  warnings.warn(\n"
     ]
    },
    {
     "name": "stdout",
     "output_type": "stream",
     "text": [
      "處理網格點：lon=120.25, lat=24.0\n"
     ]
    },
    {
     "name": "stderr",
     "output_type": "stream",
     "text": [
      "c:\\Users\\allen\\.conda\\envs\\termite_model\\lib\\site-packages\\sklearn\\base.py:380: InconsistentVersionWarning: Trying to unpickle estimator LabelBinarizer from version 1.5.1 when using version 1.6.1. This might lead to breaking code or invalid results. Use at your own risk. For more info please refer to:\n",
      "https://scikit-learn.org/stable/model_persistence.html#security-maintainability-limitations\n",
      "  warnings.warn(\n",
      "c:\\Users\\allen\\.conda\\envs\\termite_model\\lib\\site-packages\\sklearn\\base.py:380: InconsistentVersionWarning: Trying to unpickle estimator MLPClassifier from version 1.5.1 when using version 1.6.1. This might lead to breaking code or invalid results. Use at your own risk. For more info please refer to:\n",
      "https://scikit-learn.org/stable/model_persistence.html#security-maintainability-limitations\n",
      "  warnings.warn(\n"
     ]
    },
    {
     "name": "stdout",
     "output_type": "stream",
     "text": [
      "處理網格點：lon=120.5, lat=24.0\n"
     ]
    },
    {
     "name": "stderr",
     "output_type": "stream",
     "text": [
      "c:\\Users\\allen\\.conda\\envs\\termite_model\\lib\\site-packages\\sklearn\\base.py:380: InconsistentVersionWarning: Trying to unpickle estimator LabelBinarizer from version 1.5.1 when using version 1.6.1. This might lead to breaking code or invalid results. Use at your own risk. For more info please refer to:\n",
      "https://scikit-learn.org/stable/model_persistence.html#security-maintainability-limitations\n",
      "  warnings.warn(\n",
      "c:\\Users\\allen\\.conda\\envs\\termite_model\\lib\\site-packages\\sklearn\\base.py:380: InconsistentVersionWarning: Trying to unpickle estimator MLPClassifier from version 1.5.1 when using version 1.6.1. This might lead to breaking code or invalid results. Use at your own risk. For more info please refer to:\n",
      "https://scikit-learn.org/stable/model_persistence.html#security-maintainability-limitations\n",
      "  warnings.warn(\n"
     ]
    },
    {
     "name": "stdout",
     "output_type": "stream",
     "text": [
      "處理網格點：lon=120.75, lat=24.0\n"
     ]
    },
    {
     "name": "stderr",
     "output_type": "stream",
     "text": [
      "c:\\Users\\allen\\.conda\\envs\\termite_model\\lib\\site-packages\\sklearn\\base.py:380: InconsistentVersionWarning: Trying to unpickle estimator LabelBinarizer from version 1.5.1 when using version 1.6.1. This might lead to breaking code or invalid results. Use at your own risk. For more info please refer to:\n",
      "https://scikit-learn.org/stable/model_persistence.html#security-maintainability-limitations\n",
      "  warnings.warn(\n",
      "c:\\Users\\allen\\.conda\\envs\\termite_model\\lib\\site-packages\\sklearn\\base.py:380: InconsistentVersionWarning: Trying to unpickle estimator MLPClassifier from version 1.5.1 when using version 1.6.1. This might lead to breaking code or invalid results. Use at your own risk. For more info please refer to:\n",
      "https://scikit-learn.org/stable/model_persistence.html#security-maintainability-limitations\n",
      "  warnings.warn(\n"
     ]
    },
    {
     "name": "stdout",
     "output_type": "stream",
     "text": [
      "處理網格點：lon=121.0, lat=24.0\n"
     ]
    },
    {
     "name": "stderr",
     "output_type": "stream",
     "text": [
      "c:\\Users\\allen\\.conda\\envs\\termite_model\\lib\\site-packages\\sklearn\\base.py:380: InconsistentVersionWarning: Trying to unpickle estimator LabelBinarizer from version 1.5.1 when using version 1.6.1. This might lead to breaking code or invalid results. Use at your own risk. For more info please refer to:\n",
      "https://scikit-learn.org/stable/model_persistence.html#security-maintainability-limitations\n",
      "  warnings.warn(\n",
      "c:\\Users\\allen\\.conda\\envs\\termite_model\\lib\\site-packages\\sklearn\\base.py:380: InconsistentVersionWarning: Trying to unpickle estimator MLPClassifier from version 1.5.1 when using version 1.6.1. This might lead to breaking code or invalid results. Use at your own risk. For more info please refer to:\n",
      "https://scikit-learn.org/stable/model_persistence.html#security-maintainability-limitations\n",
      "  warnings.warn(\n"
     ]
    },
    {
     "name": "stdout",
     "output_type": "stream",
     "text": [
      "處理網格點：lon=121.25, lat=24.0\n"
     ]
    },
    {
     "name": "stderr",
     "output_type": "stream",
     "text": [
      "c:\\Users\\allen\\.conda\\envs\\termite_model\\lib\\site-packages\\sklearn\\base.py:380: InconsistentVersionWarning: Trying to unpickle estimator LabelBinarizer from version 1.5.1 when using version 1.6.1. This might lead to breaking code or invalid results. Use at your own risk. For more info please refer to:\n",
      "https://scikit-learn.org/stable/model_persistence.html#security-maintainability-limitations\n",
      "  warnings.warn(\n",
      "c:\\Users\\allen\\.conda\\envs\\termite_model\\lib\\site-packages\\sklearn\\base.py:380: InconsistentVersionWarning: Trying to unpickle estimator MLPClassifier from version 1.5.1 when using version 1.6.1. This might lead to breaking code or invalid results. Use at your own risk. For more info please refer to:\n",
      "https://scikit-learn.org/stable/model_persistence.html#security-maintainability-limitations\n",
      "  warnings.warn(\n"
     ]
    },
    {
     "name": "stdout",
     "output_type": "stream",
     "text": [
      "處理網格點：lon=121.5, lat=24.0\n"
     ]
    },
    {
     "name": "stderr",
     "output_type": "stream",
     "text": [
      "c:\\Users\\allen\\.conda\\envs\\termite_model\\lib\\site-packages\\sklearn\\base.py:380: InconsistentVersionWarning: Trying to unpickle estimator LabelBinarizer from version 1.5.1 when using version 1.6.1. This might lead to breaking code or invalid results. Use at your own risk. For more info please refer to:\n",
      "https://scikit-learn.org/stable/model_persistence.html#security-maintainability-limitations\n",
      "  warnings.warn(\n",
      "c:\\Users\\allen\\.conda\\envs\\termite_model\\lib\\site-packages\\sklearn\\base.py:380: InconsistentVersionWarning: Trying to unpickle estimator MLPClassifier from version 1.5.1 when using version 1.6.1. This might lead to breaking code or invalid results. Use at your own risk. For more info please refer to:\n",
      "https://scikit-learn.org/stable/model_persistence.html#security-maintainability-limitations\n",
      "  warnings.warn(\n"
     ]
    },
    {
     "name": "stdout",
     "output_type": "stream",
     "text": [
      "處理網格點：lon=121.75, lat=24.0\n"
     ]
    },
    {
     "name": "stderr",
     "output_type": "stream",
     "text": [
      "c:\\Users\\allen\\.conda\\envs\\termite_model\\lib\\site-packages\\sklearn\\base.py:380: InconsistentVersionWarning: Trying to unpickle estimator LabelBinarizer from version 1.5.1 when using version 1.6.1. This might lead to breaking code or invalid results. Use at your own risk. For more info please refer to:\n",
      "https://scikit-learn.org/stable/model_persistence.html#security-maintainability-limitations\n",
      "  warnings.warn(\n",
      "c:\\Users\\allen\\.conda\\envs\\termite_model\\lib\\site-packages\\sklearn\\base.py:380: InconsistentVersionWarning: Trying to unpickle estimator MLPClassifier from version 1.5.1 when using version 1.6.1. This might lead to breaking code or invalid results. Use at your own risk. For more info please refer to:\n",
      "https://scikit-learn.org/stable/model_persistence.html#security-maintainability-limitations\n",
      "  warnings.warn(\n"
     ]
    },
    {
     "name": "stdout",
     "output_type": "stream",
     "text": [
      "處理網格點：lon=119.75, lat=24.25\n"
     ]
    },
    {
     "name": "stderr",
     "output_type": "stream",
     "text": [
      "c:\\Users\\allen\\.conda\\envs\\termite_model\\lib\\site-packages\\sklearn\\base.py:380: InconsistentVersionWarning: Trying to unpickle estimator LabelBinarizer from version 1.5.1 when using version 1.6.1. This might lead to breaking code or invalid results. Use at your own risk. For more info please refer to:\n",
      "https://scikit-learn.org/stable/model_persistence.html#security-maintainability-limitations\n",
      "  warnings.warn(\n",
      "c:\\Users\\allen\\.conda\\envs\\termite_model\\lib\\site-packages\\sklearn\\base.py:380: InconsistentVersionWarning: Trying to unpickle estimator MLPClassifier from version 1.5.1 when using version 1.6.1. This might lead to breaking code or invalid results. Use at your own risk. For more info please refer to:\n",
      "https://scikit-learn.org/stable/model_persistence.html#security-maintainability-limitations\n",
      "  warnings.warn(\n"
     ]
    },
    {
     "name": "stdout",
     "output_type": "stream",
     "text": [
      "處理網格點：lon=120.0, lat=24.25\n"
     ]
    },
    {
     "name": "stderr",
     "output_type": "stream",
     "text": [
      "c:\\Users\\allen\\.conda\\envs\\termite_model\\lib\\site-packages\\sklearn\\base.py:380: InconsistentVersionWarning: Trying to unpickle estimator LabelBinarizer from version 1.5.1 when using version 1.6.1. This might lead to breaking code or invalid results. Use at your own risk. For more info please refer to:\n",
      "https://scikit-learn.org/stable/model_persistence.html#security-maintainability-limitations\n",
      "  warnings.warn(\n",
      "c:\\Users\\allen\\.conda\\envs\\termite_model\\lib\\site-packages\\sklearn\\base.py:380: InconsistentVersionWarning: Trying to unpickle estimator MLPClassifier from version 1.5.1 when using version 1.6.1. This might lead to breaking code or invalid results. Use at your own risk. For more info please refer to:\n",
      "https://scikit-learn.org/stable/model_persistence.html#security-maintainability-limitations\n",
      "  warnings.warn(\n"
     ]
    },
    {
     "name": "stdout",
     "output_type": "stream",
     "text": [
      "處理網格點：lon=120.25, lat=24.25\n"
     ]
    },
    {
     "name": "stderr",
     "output_type": "stream",
     "text": [
      "c:\\Users\\allen\\.conda\\envs\\termite_model\\lib\\site-packages\\sklearn\\base.py:380: InconsistentVersionWarning: Trying to unpickle estimator LabelBinarizer from version 1.5.1 when using version 1.6.1. This might lead to breaking code or invalid results. Use at your own risk. For more info please refer to:\n",
      "https://scikit-learn.org/stable/model_persistence.html#security-maintainability-limitations\n",
      "  warnings.warn(\n",
      "c:\\Users\\allen\\.conda\\envs\\termite_model\\lib\\site-packages\\sklearn\\base.py:380: InconsistentVersionWarning: Trying to unpickle estimator MLPClassifier from version 1.5.1 when using version 1.6.1. This might lead to breaking code or invalid results. Use at your own risk. For more info please refer to:\n",
      "https://scikit-learn.org/stable/model_persistence.html#security-maintainability-limitations\n",
      "  warnings.warn(\n"
     ]
    },
    {
     "name": "stdout",
     "output_type": "stream",
     "text": [
      "處理網格點：lon=120.5, lat=24.25\n"
     ]
    },
    {
     "name": "stderr",
     "output_type": "stream",
     "text": [
      "c:\\Users\\allen\\.conda\\envs\\termite_model\\lib\\site-packages\\sklearn\\base.py:380: InconsistentVersionWarning: Trying to unpickle estimator LabelBinarizer from version 1.5.1 when using version 1.6.1. This might lead to breaking code or invalid results. Use at your own risk. For more info please refer to:\n",
      "https://scikit-learn.org/stable/model_persistence.html#security-maintainability-limitations\n",
      "  warnings.warn(\n",
      "c:\\Users\\allen\\.conda\\envs\\termite_model\\lib\\site-packages\\sklearn\\base.py:380: InconsistentVersionWarning: Trying to unpickle estimator MLPClassifier from version 1.5.1 when using version 1.6.1. This might lead to breaking code or invalid results. Use at your own risk. For more info please refer to:\n",
      "https://scikit-learn.org/stable/model_persistence.html#security-maintainability-limitations\n",
      "  warnings.warn(\n"
     ]
    },
    {
     "name": "stdout",
     "output_type": "stream",
     "text": [
      "處理網格點：lon=120.75, lat=24.25\n"
     ]
    },
    {
     "name": "stderr",
     "output_type": "stream",
     "text": [
      "c:\\Users\\allen\\.conda\\envs\\termite_model\\lib\\site-packages\\sklearn\\base.py:380: InconsistentVersionWarning: Trying to unpickle estimator LabelBinarizer from version 1.5.1 when using version 1.6.1. This might lead to breaking code or invalid results. Use at your own risk. For more info please refer to:\n",
      "https://scikit-learn.org/stable/model_persistence.html#security-maintainability-limitations\n",
      "  warnings.warn(\n",
      "c:\\Users\\allen\\.conda\\envs\\termite_model\\lib\\site-packages\\sklearn\\base.py:380: InconsistentVersionWarning: Trying to unpickle estimator MLPClassifier from version 1.5.1 when using version 1.6.1. This might lead to breaking code or invalid results. Use at your own risk. For more info please refer to:\n",
      "https://scikit-learn.org/stable/model_persistence.html#security-maintainability-limitations\n",
      "  warnings.warn(\n"
     ]
    },
    {
     "name": "stdout",
     "output_type": "stream",
     "text": [
      "處理網格點：lon=121.0, lat=24.25\n"
     ]
    },
    {
     "name": "stderr",
     "output_type": "stream",
     "text": [
      "c:\\Users\\allen\\.conda\\envs\\termite_model\\lib\\site-packages\\sklearn\\base.py:380: InconsistentVersionWarning: Trying to unpickle estimator LabelBinarizer from version 1.5.1 when using version 1.6.1. This might lead to breaking code or invalid results. Use at your own risk. For more info please refer to:\n",
      "https://scikit-learn.org/stable/model_persistence.html#security-maintainability-limitations\n",
      "  warnings.warn(\n",
      "c:\\Users\\allen\\.conda\\envs\\termite_model\\lib\\site-packages\\sklearn\\base.py:380: InconsistentVersionWarning: Trying to unpickle estimator MLPClassifier from version 1.5.1 when using version 1.6.1. This might lead to breaking code or invalid results. Use at your own risk. For more info please refer to:\n",
      "https://scikit-learn.org/stable/model_persistence.html#security-maintainability-limitations\n",
      "  warnings.warn(\n"
     ]
    },
    {
     "name": "stdout",
     "output_type": "stream",
     "text": [
      "處理網格點：lon=121.25, lat=24.25\n"
     ]
    },
    {
     "name": "stderr",
     "output_type": "stream",
     "text": [
      "c:\\Users\\allen\\.conda\\envs\\termite_model\\lib\\site-packages\\sklearn\\base.py:380: InconsistentVersionWarning: Trying to unpickle estimator LabelBinarizer from version 1.5.1 when using version 1.6.1. This might lead to breaking code or invalid results. Use at your own risk. For more info please refer to:\n",
      "https://scikit-learn.org/stable/model_persistence.html#security-maintainability-limitations\n",
      "  warnings.warn(\n",
      "c:\\Users\\allen\\.conda\\envs\\termite_model\\lib\\site-packages\\sklearn\\base.py:380: InconsistentVersionWarning: Trying to unpickle estimator MLPClassifier from version 1.5.1 when using version 1.6.1. This might lead to breaking code or invalid results. Use at your own risk. For more info please refer to:\n",
      "https://scikit-learn.org/stable/model_persistence.html#security-maintainability-limitations\n",
      "  warnings.warn(\n"
     ]
    },
    {
     "name": "stdout",
     "output_type": "stream",
     "text": [
      "處理網格點：lon=121.5, lat=24.25\n"
     ]
    },
    {
     "name": "stderr",
     "output_type": "stream",
     "text": [
      "c:\\Users\\allen\\.conda\\envs\\termite_model\\lib\\site-packages\\sklearn\\base.py:380: InconsistentVersionWarning: Trying to unpickle estimator LabelBinarizer from version 1.5.1 when using version 1.6.1. This might lead to breaking code or invalid results. Use at your own risk. For more info please refer to:\n",
      "https://scikit-learn.org/stable/model_persistence.html#security-maintainability-limitations\n",
      "  warnings.warn(\n",
      "c:\\Users\\allen\\.conda\\envs\\termite_model\\lib\\site-packages\\sklearn\\base.py:380: InconsistentVersionWarning: Trying to unpickle estimator MLPClassifier from version 1.5.1 when using version 1.6.1. This might lead to breaking code or invalid results. Use at your own risk. For more info please refer to:\n",
      "https://scikit-learn.org/stable/model_persistence.html#security-maintainability-limitations\n",
      "  warnings.warn(\n"
     ]
    },
    {
     "name": "stdout",
     "output_type": "stream",
     "text": [
      "處理網格點：lon=121.75, lat=24.25\n"
     ]
    },
    {
     "name": "stderr",
     "output_type": "stream",
     "text": [
      "c:\\Users\\allen\\.conda\\envs\\termite_model\\lib\\site-packages\\sklearn\\base.py:380: InconsistentVersionWarning: Trying to unpickle estimator LabelBinarizer from version 1.5.1 when using version 1.6.1. This might lead to breaking code or invalid results. Use at your own risk. For more info please refer to:\n",
      "https://scikit-learn.org/stable/model_persistence.html#security-maintainability-limitations\n",
      "  warnings.warn(\n",
      "c:\\Users\\allen\\.conda\\envs\\termite_model\\lib\\site-packages\\sklearn\\base.py:380: InconsistentVersionWarning: Trying to unpickle estimator MLPClassifier from version 1.5.1 when using version 1.6.1. This might lead to breaking code or invalid results. Use at your own risk. For more info please refer to:\n",
      "https://scikit-learn.org/stable/model_persistence.html#security-maintainability-limitations\n",
      "  warnings.warn(\n"
     ]
    },
    {
     "name": "stdout",
     "output_type": "stream",
     "text": [
      "處理網格點：lon=119.75, lat=24.5\n"
     ]
    },
    {
     "name": "stderr",
     "output_type": "stream",
     "text": [
      "c:\\Users\\allen\\.conda\\envs\\termite_model\\lib\\site-packages\\sklearn\\base.py:380: InconsistentVersionWarning: Trying to unpickle estimator LabelBinarizer from version 1.5.1 when using version 1.6.1. This might lead to breaking code or invalid results. Use at your own risk. For more info please refer to:\n",
      "https://scikit-learn.org/stable/model_persistence.html#security-maintainability-limitations\n",
      "  warnings.warn(\n",
      "c:\\Users\\allen\\.conda\\envs\\termite_model\\lib\\site-packages\\sklearn\\base.py:380: InconsistentVersionWarning: Trying to unpickle estimator MLPClassifier from version 1.5.1 when using version 1.6.1. This might lead to breaking code or invalid results. Use at your own risk. For more info please refer to:\n",
      "https://scikit-learn.org/stable/model_persistence.html#security-maintainability-limitations\n",
      "  warnings.warn(\n"
     ]
    },
    {
     "name": "stdout",
     "output_type": "stream",
     "text": [
      "處理網格點：lon=120.0, lat=24.5\n"
     ]
    },
    {
     "name": "stderr",
     "output_type": "stream",
     "text": [
      "c:\\Users\\allen\\.conda\\envs\\termite_model\\lib\\site-packages\\sklearn\\base.py:380: InconsistentVersionWarning: Trying to unpickle estimator LabelBinarizer from version 1.5.1 when using version 1.6.1. This might lead to breaking code or invalid results. Use at your own risk. For more info please refer to:\n",
      "https://scikit-learn.org/stable/model_persistence.html#security-maintainability-limitations\n",
      "  warnings.warn(\n",
      "c:\\Users\\allen\\.conda\\envs\\termite_model\\lib\\site-packages\\sklearn\\base.py:380: InconsistentVersionWarning: Trying to unpickle estimator MLPClassifier from version 1.5.1 when using version 1.6.1. This might lead to breaking code or invalid results. Use at your own risk. For more info please refer to:\n",
      "https://scikit-learn.org/stable/model_persistence.html#security-maintainability-limitations\n",
      "  warnings.warn(\n"
     ]
    },
    {
     "name": "stdout",
     "output_type": "stream",
     "text": [
      "處理網格點：lon=120.25, lat=24.5\n"
     ]
    },
    {
     "name": "stderr",
     "output_type": "stream",
     "text": [
      "c:\\Users\\allen\\.conda\\envs\\termite_model\\lib\\site-packages\\sklearn\\base.py:380: InconsistentVersionWarning: Trying to unpickle estimator LabelBinarizer from version 1.5.1 when using version 1.6.1. This might lead to breaking code or invalid results. Use at your own risk. For more info please refer to:\n",
      "https://scikit-learn.org/stable/model_persistence.html#security-maintainability-limitations\n",
      "  warnings.warn(\n",
      "c:\\Users\\allen\\.conda\\envs\\termite_model\\lib\\site-packages\\sklearn\\base.py:380: InconsistentVersionWarning: Trying to unpickle estimator MLPClassifier from version 1.5.1 when using version 1.6.1. This might lead to breaking code or invalid results. Use at your own risk. For more info please refer to:\n",
      "https://scikit-learn.org/stable/model_persistence.html#security-maintainability-limitations\n",
      "  warnings.warn(\n"
     ]
    },
    {
     "name": "stdout",
     "output_type": "stream",
     "text": [
      "處理網格點：lon=120.5, lat=24.5\n"
     ]
    },
    {
     "name": "stderr",
     "output_type": "stream",
     "text": [
      "c:\\Users\\allen\\.conda\\envs\\termite_model\\lib\\site-packages\\sklearn\\base.py:380: InconsistentVersionWarning: Trying to unpickle estimator LabelBinarizer from version 1.5.1 when using version 1.6.1. This might lead to breaking code or invalid results. Use at your own risk. For more info please refer to:\n",
      "https://scikit-learn.org/stable/model_persistence.html#security-maintainability-limitations\n",
      "  warnings.warn(\n",
      "c:\\Users\\allen\\.conda\\envs\\termite_model\\lib\\site-packages\\sklearn\\base.py:380: InconsistentVersionWarning: Trying to unpickle estimator MLPClassifier from version 1.5.1 when using version 1.6.1. This might lead to breaking code or invalid results. Use at your own risk. For more info please refer to:\n",
      "https://scikit-learn.org/stable/model_persistence.html#security-maintainability-limitations\n",
      "  warnings.warn(\n"
     ]
    },
    {
     "name": "stdout",
     "output_type": "stream",
     "text": [
      "處理網格點：lon=120.75, lat=24.5\n"
     ]
    },
    {
     "name": "stderr",
     "output_type": "stream",
     "text": [
      "c:\\Users\\allen\\.conda\\envs\\termite_model\\lib\\site-packages\\sklearn\\base.py:380: InconsistentVersionWarning: Trying to unpickle estimator LabelBinarizer from version 1.5.1 when using version 1.6.1. This might lead to breaking code or invalid results. Use at your own risk. For more info please refer to:\n",
      "https://scikit-learn.org/stable/model_persistence.html#security-maintainability-limitations\n",
      "  warnings.warn(\n",
      "c:\\Users\\allen\\.conda\\envs\\termite_model\\lib\\site-packages\\sklearn\\base.py:380: InconsistentVersionWarning: Trying to unpickle estimator MLPClassifier from version 1.5.1 when using version 1.6.1. This might lead to breaking code or invalid results. Use at your own risk. For more info please refer to:\n",
      "https://scikit-learn.org/stable/model_persistence.html#security-maintainability-limitations\n",
      "  warnings.warn(\n"
     ]
    },
    {
     "name": "stdout",
     "output_type": "stream",
     "text": [
      "處理網格點：lon=121.0, lat=24.5\n"
     ]
    },
    {
     "name": "stderr",
     "output_type": "stream",
     "text": [
      "c:\\Users\\allen\\.conda\\envs\\termite_model\\lib\\site-packages\\sklearn\\base.py:380: InconsistentVersionWarning: Trying to unpickle estimator LabelBinarizer from version 1.5.1 when using version 1.6.1. This might lead to breaking code or invalid results. Use at your own risk. For more info please refer to:\n",
      "https://scikit-learn.org/stable/model_persistence.html#security-maintainability-limitations\n",
      "  warnings.warn(\n",
      "c:\\Users\\allen\\.conda\\envs\\termite_model\\lib\\site-packages\\sklearn\\base.py:380: InconsistentVersionWarning: Trying to unpickle estimator MLPClassifier from version 1.5.1 when using version 1.6.1. This might lead to breaking code or invalid results. Use at your own risk. For more info please refer to:\n",
      "https://scikit-learn.org/stable/model_persistence.html#security-maintainability-limitations\n",
      "  warnings.warn(\n"
     ]
    },
    {
     "name": "stdout",
     "output_type": "stream",
     "text": [
      "處理網格點：lon=121.25, lat=24.5\n"
     ]
    },
    {
     "name": "stderr",
     "output_type": "stream",
     "text": [
      "c:\\Users\\allen\\.conda\\envs\\termite_model\\lib\\site-packages\\sklearn\\base.py:380: InconsistentVersionWarning: Trying to unpickle estimator LabelBinarizer from version 1.5.1 when using version 1.6.1. This might lead to breaking code or invalid results. Use at your own risk. For more info please refer to:\n",
      "https://scikit-learn.org/stable/model_persistence.html#security-maintainability-limitations\n",
      "  warnings.warn(\n",
      "c:\\Users\\allen\\.conda\\envs\\termite_model\\lib\\site-packages\\sklearn\\base.py:380: InconsistentVersionWarning: Trying to unpickle estimator MLPClassifier from version 1.5.1 when using version 1.6.1. This might lead to breaking code or invalid results. Use at your own risk. For more info please refer to:\n",
      "https://scikit-learn.org/stable/model_persistence.html#security-maintainability-limitations\n",
      "  warnings.warn(\n"
     ]
    },
    {
     "name": "stdout",
     "output_type": "stream",
     "text": [
      "處理網格點：lon=121.5, lat=24.5\n"
     ]
    },
    {
     "name": "stderr",
     "output_type": "stream",
     "text": [
      "c:\\Users\\allen\\.conda\\envs\\termite_model\\lib\\site-packages\\sklearn\\base.py:380: InconsistentVersionWarning: Trying to unpickle estimator LabelBinarizer from version 1.5.1 when using version 1.6.1. This might lead to breaking code or invalid results. Use at your own risk. For more info please refer to:\n",
      "https://scikit-learn.org/stable/model_persistence.html#security-maintainability-limitations\n",
      "  warnings.warn(\n",
      "c:\\Users\\allen\\.conda\\envs\\termite_model\\lib\\site-packages\\sklearn\\base.py:380: InconsistentVersionWarning: Trying to unpickle estimator MLPClassifier from version 1.5.1 when using version 1.6.1. This might lead to breaking code or invalid results. Use at your own risk. For more info please refer to:\n",
      "https://scikit-learn.org/stable/model_persistence.html#security-maintainability-limitations\n",
      "  warnings.warn(\n"
     ]
    },
    {
     "name": "stdout",
     "output_type": "stream",
     "text": [
      "處理網格點：lon=120.0, lat=24.75\n"
     ]
    },
    {
     "name": "stderr",
     "output_type": "stream",
     "text": [
      "c:\\Users\\allen\\.conda\\envs\\termite_model\\lib\\site-packages\\sklearn\\base.py:380: InconsistentVersionWarning: Trying to unpickle estimator LabelBinarizer from version 1.5.1 when using version 1.6.1. This might lead to breaking code or invalid results. Use at your own risk. For more info please refer to:\n",
      "https://scikit-learn.org/stable/model_persistence.html#security-maintainability-limitations\n",
      "  warnings.warn(\n",
      "c:\\Users\\allen\\.conda\\envs\\termite_model\\lib\\site-packages\\sklearn\\base.py:380: InconsistentVersionWarning: Trying to unpickle estimator MLPClassifier from version 1.5.1 when using version 1.6.1. This might lead to breaking code or invalid results. Use at your own risk. For more info please refer to:\n",
      "https://scikit-learn.org/stable/model_persistence.html#security-maintainability-limitations\n",
      "  warnings.warn(\n"
     ]
    },
    {
     "name": "stdout",
     "output_type": "stream",
     "text": [
      "處理網格點：lon=120.25, lat=24.75\n"
     ]
    },
    {
     "name": "stderr",
     "output_type": "stream",
     "text": [
      "c:\\Users\\allen\\.conda\\envs\\termite_model\\lib\\site-packages\\sklearn\\base.py:380: InconsistentVersionWarning: Trying to unpickle estimator LabelBinarizer from version 1.5.1 when using version 1.6.1. This might lead to breaking code or invalid results. Use at your own risk. For more info please refer to:\n",
      "https://scikit-learn.org/stable/model_persistence.html#security-maintainability-limitations\n",
      "  warnings.warn(\n",
      "c:\\Users\\allen\\.conda\\envs\\termite_model\\lib\\site-packages\\sklearn\\base.py:380: InconsistentVersionWarning: Trying to unpickle estimator MLPClassifier from version 1.5.1 when using version 1.6.1. This might lead to breaking code or invalid results. Use at your own risk. For more info please refer to:\n",
      "https://scikit-learn.org/stable/model_persistence.html#security-maintainability-limitations\n",
      "  warnings.warn(\n"
     ]
    },
    {
     "name": "stdout",
     "output_type": "stream",
     "text": [
      "處理網格點：lon=120.5, lat=24.75\n"
     ]
    },
    {
     "name": "stderr",
     "output_type": "stream",
     "text": [
      "c:\\Users\\allen\\.conda\\envs\\termite_model\\lib\\site-packages\\sklearn\\base.py:380: InconsistentVersionWarning: Trying to unpickle estimator LabelBinarizer from version 1.5.1 when using version 1.6.1. This might lead to breaking code or invalid results. Use at your own risk. For more info please refer to:\n",
      "https://scikit-learn.org/stable/model_persistence.html#security-maintainability-limitations\n",
      "  warnings.warn(\n",
      "c:\\Users\\allen\\.conda\\envs\\termite_model\\lib\\site-packages\\sklearn\\base.py:380: InconsistentVersionWarning: Trying to unpickle estimator MLPClassifier from version 1.5.1 when using version 1.6.1. This might lead to breaking code or invalid results. Use at your own risk. For more info please refer to:\n",
      "https://scikit-learn.org/stable/model_persistence.html#security-maintainability-limitations\n",
      "  warnings.warn(\n"
     ]
    },
    {
     "name": "stdout",
     "output_type": "stream",
     "text": [
      "處理網格點：lon=120.75, lat=24.75\n"
     ]
    },
    {
     "name": "stderr",
     "output_type": "stream",
     "text": [
      "c:\\Users\\allen\\.conda\\envs\\termite_model\\lib\\site-packages\\sklearn\\base.py:380: InconsistentVersionWarning: Trying to unpickle estimator LabelBinarizer from version 1.5.1 when using version 1.6.1. This might lead to breaking code or invalid results. Use at your own risk. For more info please refer to:\n",
      "https://scikit-learn.org/stable/model_persistence.html#security-maintainability-limitations\n",
      "  warnings.warn(\n",
      "c:\\Users\\allen\\.conda\\envs\\termite_model\\lib\\site-packages\\sklearn\\base.py:380: InconsistentVersionWarning: Trying to unpickle estimator MLPClassifier from version 1.5.1 when using version 1.6.1. This might lead to breaking code or invalid results. Use at your own risk. For more info please refer to:\n",
      "https://scikit-learn.org/stable/model_persistence.html#security-maintainability-limitations\n",
      "  warnings.warn(\n"
     ]
    },
    {
     "name": "stdout",
     "output_type": "stream",
     "text": [
      "處理網格點：lon=121.0, lat=24.75\n"
     ]
    },
    {
     "name": "stderr",
     "output_type": "stream",
     "text": [
      "c:\\Users\\allen\\.conda\\envs\\termite_model\\lib\\site-packages\\sklearn\\base.py:380: InconsistentVersionWarning: Trying to unpickle estimator LabelBinarizer from version 1.5.1 when using version 1.6.1. This might lead to breaking code or invalid results. Use at your own risk. For more info please refer to:\n",
      "https://scikit-learn.org/stable/model_persistence.html#security-maintainability-limitations\n",
      "  warnings.warn(\n",
      "c:\\Users\\allen\\.conda\\envs\\termite_model\\lib\\site-packages\\sklearn\\base.py:380: InconsistentVersionWarning: Trying to unpickle estimator MLPClassifier from version 1.5.1 when using version 1.6.1. This might lead to breaking code or invalid results. Use at your own risk. For more info please refer to:\n",
      "https://scikit-learn.org/stable/model_persistence.html#security-maintainability-limitations\n",
      "  warnings.warn(\n"
     ]
    },
    {
     "name": "stdout",
     "output_type": "stream",
     "text": [
      "處理網格點：lon=121.25, lat=24.75\n"
     ]
    },
    {
     "name": "stderr",
     "output_type": "stream",
     "text": [
      "c:\\Users\\allen\\.conda\\envs\\termite_model\\lib\\site-packages\\sklearn\\base.py:380: InconsistentVersionWarning: Trying to unpickle estimator LabelBinarizer from version 1.5.1 when using version 1.6.1. This might lead to breaking code or invalid results. Use at your own risk. For more info please refer to:\n",
      "https://scikit-learn.org/stable/model_persistence.html#security-maintainability-limitations\n",
      "  warnings.warn(\n",
      "c:\\Users\\allen\\.conda\\envs\\termite_model\\lib\\site-packages\\sklearn\\base.py:380: InconsistentVersionWarning: Trying to unpickle estimator MLPClassifier from version 1.5.1 when using version 1.6.1. This might lead to breaking code or invalid results. Use at your own risk. For more info please refer to:\n",
      "https://scikit-learn.org/stable/model_persistence.html#security-maintainability-limitations\n",
      "  warnings.warn(\n"
     ]
    },
    {
     "name": "stdout",
     "output_type": "stream",
     "text": [
      "處理網格點：lon=121.5, lat=24.75\n"
     ]
    },
    {
     "name": "stderr",
     "output_type": "stream",
     "text": [
      "c:\\Users\\allen\\.conda\\envs\\termite_model\\lib\\site-packages\\sklearn\\base.py:380: InconsistentVersionWarning: Trying to unpickle estimator LabelBinarizer from version 1.5.1 when using version 1.6.1. This might lead to breaking code or invalid results. Use at your own risk. For more info please refer to:\n",
      "https://scikit-learn.org/stable/model_persistence.html#security-maintainability-limitations\n",
      "  warnings.warn(\n",
      "c:\\Users\\allen\\.conda\\envs\\termite_model\\lib\\site-packages\\sklearn\\base.py:380: InconsistentVersionWarning: Trying to unpickle estimator MLPClassifier from version 1.5.1 when using version 1.6.1. This might lead to breaking code or invalid results. Use at your own risk. For more info please refer to:\n",
      "https://scikit-learn.org/stable/model_persistence.html#security-maintainability-limitations\n",
      "  warnings.warn(\n"
     ]
    },
    {
     "name": "stdout",
     "output_type": "stream",
     "text": [
      "處理網格點：lon=120.0, lat=25.0\n"
     ]
    },
    {
     "name": "stderr",
     "output_type": "stream",
     "text": [
      "c:\\Users\\allen\\.conda\\envs\\termite_model\\lib\\site-packages\\sklearn\\base.py:380: InconsistentVersionWarning: Trying to unpickle estimator LabelBinarizer from version 1.5.1 when using version 1.6.1. This might lead to breaking code or invalid results. Use at your own risk. For more info please refer to:\n",
      "https://scikit-learn.org/stable/model_persistence.html#security-maintainability-limitations\n",
      "  warnings.warn(\n",
      "c:\\Users\\allen\\.conda\\envs\\termite_model\\lib\\site-packages\\sklearn\\base.py:380: InconsistentVersionWarning: Trying to unpickle estimator MLPClassifier from version 1.5.1 when using version 1.6.1. This might lead to breaking code or invalid results. Use at your own risk. For more info please refer to:\n",
      "https://scikit-learn.org/stable/model_persistence.html#security-maintainability-limitations\n",
      "  warnings.warn(\n"
     ]
    },
    {
     "name": "stdout",
     "output_type": "stream",
     "text": [
      "處理網格點：lon=120.25, lat=25.0\n"
     ]
    },
    {
     "name": "stderr",
     "output_type": "stream",
     "text": [
      "c:\\Users\\allen\\.conda\\envs\\termite_model\\lib\\site-packages\\sklearn\\base.py:380: InconsistentVersionWarning: Trying to unpickle estimator LabelBinarizer from version 1.5.1 when using version 1.6.1. This might lead to breaking code or invalid results. Use at your own risk. For more info please refer to:\n",
      "https://scikit-learn.org/stable/model_persistence.html#security-maintainability-limitations\n",
      "  warnings.warn(\n",
      "c:\\Users\\allen\\.conda\\envs\\termite_model\\lib\\site-packages\\sklearn\\base.py:380: InconsistentVersionWarning: Trying to unpickle estimator MLPClassifier from version 1.5.1 when using version 1.6.1. This might lead to breaking code or invalid results. Use at your own risk. For more info please refer to:\n",
      "https://scikit-learn.org/stable/model_persistence.html#security-maintainability-limitations\n",
      "  warnings.warn(\n"
     ]
    },
    {
     "name": "stdout",
     "output_type": "stream",
     "text": [
      "處理網格點：lon=120.5, lat=25.0\n"
     ]
    },
    {
     "name": "stderr",
     "output_type": "stream",
     "text": [
      "c:\\Users\\allen\\.conda\\envs\\termite_model\\lib\\site-packages\\sklearn\\base.py:380: InconsistentVersionWarning: Trying to unpickle estimator LabelBinarizer from version 1.5.1 when using version 1.6.1. This might lead to breaking code or invalid results. Use at your own risk. For more info please refer to:\n",
      "https://scikit-learn.org/stable/model_persistence.html#security-maintainability-limitations\n",
      "  warnings.warn(\n",
      "c:\\Users\\allen\\.conda\\envs\\termite_model\\lib\\site-packages\\sklearn\\base.py:380: InconsistentVersionWarning: Trying to unpickle estimator MLPClassifier from version 1.5.1 when using version 1.6.1. This might lead to breaking code or invalid results. Use at your own risk. For more info please refer to:\n",
      "https://scikit-learn.org/stable/model_persistence.html#security-maintainability-limitations\n",
      "  warnings.warn(\n"
     ]
    },
    {
     "name": "stdout",
     "output_type": "stream",
     "text": [
      "處理網格點：lon=120.75, lat=25.0\n"
     ]
    },
    {
     "name": "stderr",
     "output_type": "stream",
     "text": [
      "c:\\Users\\allen\\.conda\\envs\\termite_model\\lib\\site-packages\\sklearn\\base.py:380: InconsistentVersionWarning: Trying to unpickle estimator LabelBinarizer from version 1.5.1 when using version 1.6.1. This might lead to breaking code or invalid results. Use at your own risk. For more info please refer to:\n",
      "https://scikit-learn.org/stable/model_persistence.html#security-maintainability-limitations\n",
      "  warnings.warn(\n",
      "c:\\Users\\allen\\.conda\\envs\\termite_model\\lib\\site-packages\\sklearn\\base.py:380: InconsistentVersionWarning: Trying to unpickle estimator MLPClassifier from version 1.5.1 when using version 1.6.1. This might lead to breaking code or invalid results. Use at your own risk. For more info please refer to:\n",
      "https://scikit-learn.org/stable/model_persistence.html#security-maintainability-limitations\n",
      "  warnings.warn(\n"
     ]
    },
    {
     "name": "stdout",
     "output_type": "stream",
     "text": [
      "處理網格點：lon=121.0, lat=25.0\n"
     ]
    },
    {
     "name": "stderr",
     "output_type": "stream",
     "text": [
      "c:\\Users\\allen\\.conda\\envs\\termite_model\\lib\\site-packages\\sklearn\\base.py:380: InconsistentVersionWarning: Trying to unpickle estimator LabelBinarizer from version 1.5.1 when using version 1.6.1. This might lead to breaking code or invalid results. Use at your own risk. For more info please refer to:\n",
      "https://scikit-learn.org/stable/model_persistence.html#security-maintainability-limitations\n",
      "  warnings.warn(\n",
      "c:\\Users\\allen\\.conda\\envs\\termite_model\\lib\\site-packages\\sklearn\\base.py:380: InconsistentVersionWarning: Trying to unpickle estimator MLPClassifier from version 1.5.1 when using version 1.6.1. This might lead to breaking code or invalid results. Use at your own risk. For more info please refer to:\n",
      "https://scikit-learn.org/stable/model_persistence.html#security-maintainability-limitations\n",
      "  warnings.warn(\n"
     ]
    },
    {
     "name": "stdout",
     "output_type": "stream",
     "text": [
      "處理網格點：lon=121.25, lat=25.0\n"
     ]
    },
    {
     "name": "stderr",
     "output_type": "stream",
     "text": [
      "c:\\Users\\allen\\.conda\\envs\\termite_model\\lib\\site-packages\\sklearn\\base.py:380: InconsistentVersionWarning: Trying to unpickle estimator LabelBinarizer from version 1.5.1 when using version 1.6.1. This might lead to breaking code or invalid results. Use at your own risk. For more info please refer to:\n",
      "https://scikit-learn.org/stable/model_persistence.html#security-maintainability-limitations\n",
      "  warnings.warn(\n",
      "c:\\Users\\allen\\.conda\\envs\\termite_model\\lib\\site-packages\\sklearn\\base.py:380: InconsistentVersionWarning: Trying to unpickle estimator MLPClassifier from version 1.5.1 when using version 1.6.1. This might lead to breaking code or invalid results. Use at your own risk. For more info please refer to:\n",
      "https://scikit-learn.org/stable/model_persistence.html#security-maintainability-limitations\n",
      "  warnings.warn(\n"
     ]
    },
    {
     "name": "stdout",
     "output_type": "stream",
     "text": [
      "處理網格點：lon=120.25, lat=25.25\n"
     ]
    },
    {
     "name": "stderr",
     "output_type": "stream",
     "text": [
      "c:\\Users\\allen\\.conda\\envs\\termite_model\\lib\\site-packages\\sklearn\\base.py:380: InconsistentVersionWarning: Trying to unpickle estimator LabelBinarizer from version 1.5.1 when using version 1.6.1. This might lead to breaking code or invalid results. Use at your own risk. For more info please refer to:\n",
      "https://scikit-learn.org/stable/model_persistence.html#security-maintainability-limitations\n",
      "  warnings.warn(\n",
      "c:\\Users\\allen\\.conda\\envs\\termite_model\\lib\\site-packages\\sklearn\\base.py:380: InconsistentVersionWarning: Trying to unpickle estimator MLPClassifier from version 1.5.1 when using version 1.6.1. This might lead to breaking code or invalid results. Use at your own risk. For more info please refer to:\n",
      "https://scikit-learn.org/stable/model_persistence.html#security-maintainability-limitations\n",
      "  warnings.warn(\n"
     ]
    },
    {
     "name": "stdout",
     "output_type": "stream",
     "text": [
      "處理網格點：lon=120.5, lat=25.25\n"
     ]
    },
    {
     "name": "stderr",
     "output_type": "stream",
     "text": [
      "c:\\Users\\allen\\.conda\\envs\\termite_model\\lib\\site-packages\\sklearn\\base.py:380: InconsistentVersionWarning: Trying to unpickle estimator LabelBinarizer from version 1.5.1 when using version 1.6.1. This might lead to breaking code or invalid results. Use at your own risk. For more info please refer to:\n",
      "https://scikit-learn.org/stable/model_persistence.html#security-maintainability-limitations\n",
      "  warnings.warn(\n",
      "c:\\Users\\allen\\.conda\\envs\\termite_model\\lib\\site-packages\\sklearn\\base.py:380: InconsistentVersionWarning: Trying to unpickle estimator MLPClassifier from version 1.5.1 when using version 1.6.1. This might lead to breaking code or invalid results. Use at your own risk. For more info please refer to:\n",
      "https://scikit-learn.org/stable/model_persistence.html#security-maintainability-limitations\n",
      "  warnings.warn(\n"
     ]
    },
    {
     "name": "stdout",
     "output_type": "stream",
     "text": [
      "處理網格點：lon=120.75, lat=25.25\n"
     ]
    },
    {
     "name": "stderr",
     "output_type": "stream",
     "text": [
      "c:\\Users\\allen\\.conda\\envs\\termite_model\\lib\\site-packages\\sklearn\\base.py:380: InconsistentVersionWarning: Trying to unpickle estimator LabelBinarizer from version 1.5.1 when using version 1.6.1. This might lead to breaking code or invalid results. Use at your own risk. For more info please refer to:\n",
      "https://scikit-learn.org/stable/model_persistence.html#security-maintainability-limitations\n",
      "  warnings.warn(\n",
      "c:\\Users\\allen\\.conda\\envs\\termite_model\\lib\\site-packages\\sklearn\\base.py:380: InconsistentVersionWarning: Trying to unpickle estimator MLPClassifier from version 1.5.1 when using version 1.6.1. This might lead to breaking code or invalid results. Use at your own risk. For more info please refer to:\n",
      "https://scikit-learn.org/stable/model_persistence.html#security-maintainability-limitations\n",
      "  warnings.warn(\n"
     ]
    },
    {
     "name": "stdout",
     "output_type": "stream",
     "text": [
      "處理網格點：lon=121.0, lat=25.25\n"
     ]
    },
    {
     "name": "stderr",
     "output_type": "stream",
     "text": [
      "c:\\Users\\allen\\.conda\\envs\\termite_model\\lib\\site-packages\\sklearn\\base.py:380: InconsistentVersionWarning: Trying to unpickle estimator LabelBinarizer from version 1.5.1 when using version 1.6.1. This might lead to breaking code or invalid results. Use at your own risk. For more info please refer to:\n",
      "https://scikit-learn.org/stable/model_persistence.html#security-maintainability-limitations\n",
      "  warnings.warn(\n",
      "c:\\Users\\allen\\.conda\\envs\\termite_model\\lib\\site-packages\\sklearn\\base.py:380: InconsistentVersionWarning: Trying to unpickle estimator MLPClassifier from version 1.5.1 when using version 1.6.1. This might lead to breaking code or invalid results. Use at your own risk. For more info please refer to:\n",
      "https://scikit-learn.org/stable/model_persistence.html#security-maintainability-limitations\n",
      "  warnings.warn(\n"
     ]
    },
    {
     "name": "stdout",
     "output_type": "stream",
     "text": [
      "儲存預報結果 2025-01-01 至 2_predictions\\2025-01-01.json\n",
      "儲存預報結果 2025-01-02 至 2_predictions\\2025-01-02.json\n",
      "儲存預報結果 2025-01-03 至 2_predictions\\2025-01-03.json\n",
      "儲存預報結果 2025-01-04 至 2_predictions\\2025-01-04.json\n",
      "儲存預報結果 2025-01-05 至 2_predictions\\2025-01-05.json\n",
      "儲存預報結果 2025-01-06 至 2_predictions\\2025-01-06.json\n",
      "儲存預報結果 2025-01-07 至 2_predictions\\2025-01-07.json\n",
      "儲存預報結果 2025-01-08 至 2_predictions\\2025-01-08.json\n",
      "儲存預報結果 2025-01-09 至 2_predictions\\2025-01-09.json\n",
      "儲存預報結果 2025-01-10 至 2_predictions\\2025-01-10.json\n",
      "儲存預報結果 2025-01-11 至 2_predictions\\2025-01-11.json\n",
      "儲存預報結果 2025-01-12 至 2_predictions\\2025-01-12.json\n",
      "儲存預報結果 2025-01-13 至 2_predictions\\2025-01-13.json\n",
      "儲存預報結果 2025-01-14 至 2_predictions\\2025-01-14.json\n",
      "儲存預報結果 2025-01-15 至 2_predictions\\2025-01-15.json\n",
      "儲存預報結果 2025-01-16 至 2_predictions\\2025-01-16.json\n",
      "儲存預報結果 2025-01-17 至 2_predictions\\2025-01-17.json\n",
      "儲存預報結果 2025-01-18 至 2_predictions\\2025-01-18.json\n",
      "儲存預報結果 2025-01-19 至 2_predictions\\2025-01-19.json\n",
      "儲存預報結果 2025-01-20 至 2_predictions\\2025-01-20.json\n",
      "儲存預報結果 2025-01-21 至 2_predictions\\2025-01-21.json\n",
      "儲存預報結果 2025-01-22 至 2_predictions\\2025-01-22.json\n",
      "儲存預報結果 2025-01-23 至 2_predictions\\2025-01-23.json\n",
      "儲存預報結果 2025-01-24 至 2_predictions\\2025-01-24.json\n",
      "儲存預報結果 2025-01-25 至 2_predictions\\2025-01-25.json\n",
      "儲存預報結果 2025-01-26 至 2_predictions\\2025-01-26.json\n",
      "儲存預報結果 2025-01-27 至 2_predictions\\2025-01-27.json\n",
      "儲存預報結果 2025-01-28 至 2_predictions\\2025-01-28.json\n",
      "儲存預報結果 2025-01-29 至 2_predictions\\2025-01-29.json\n",
      "儲存預報結果 2025-01-30 至 2_predictions\\2025-01-30.json\n",
      "儲存預報結果 2025-01-31 至 2_predictions\\2025-01-31.json\n",
      "儲存預報結果 2025-02-01 至 2_predictions\\2025-02-01.json\n",
      "儲存預報結果 2025-02-02 至 2_predictions\\2025-02-02.json\n",
      "儲存預報結果 2025-02-03 至 2_predictions\\2025-02-03.json\n",
      "儲存預報結果 2025-02-04 至 2_predictions\\2025-02-04.json\n",
      "儲存預報結果 2025-02-05 至 2_predictions\\2025-02-05.json\n",
      "儲存預報結果 2025-02-06 至 2_predictions\\2025-02-06.json\n",
      "儲存預報結果 2025-02-07 至 2_predictions\\2025-02-07.json\n",
      "儲存預報結果 2025-02-08 至 2_predictions\\2025-02-08.json\n",
      "儲存預報結果 2025-02-09 至 2_predictions\\2025-02-09.json\n",
      "儲存預報結果 2025-02-10 至 2_predictions\\2025-02-10.json\n",
      "儲存預報結果 2025-02-11 至 2_predictions\\2025-02-11.json\n",
      "儲存預報結果 2025-02-12 至 2_predictions\\2025-02-12.json\n",
      "儲存預報結果 2025-02-13 至 2_predictions\\2025-02-13.json\n",
      "儲存預報結果 2025-02-14 至 2_predictions\\2025-02-14.json\n",
      "儲存預報結果 2025-02-15 至 2_predictions\\2025-02-15.json\n",
      "儲存預報結果 2025-02-16 至 2_predictions\\2025-02-16.json\n",
      "儲存預報結果 2025-02-17 至 2_predictions\\2025-02-17.json\n",
      "儲存預報結果 2025-02-18 至 2_predictions\\2025-02-18.json\n",
      "儲存預報結果 2025-02-19 至 2_predictions\\2025-02-19.json\n",
      "儲存預報結果 2025-02-20 至 2_predictions\\2025-02-20.json\n",
      "儲存預報結果 2025-02-21 至 2_predictions\\2025-02-21.json\n",
      "儲存預報結果 2025-02-22 至 2_predictions\\2025-02-22.json\n",
      "儲存預報結果 2025-02-23 至 2_predictions\\2025-02-23.json\n"
     ]
    }
   ],
   "source": [
    "import os\n",
    "import glob\n",
    "import pickle\n",
    "import numpy as np\n",
    "import pandas as pd\n",
    "from datetime import datetime, date, timedelta\n",
    "import openmeteo_requests\n",
    "import json\n",
    "\n",
    "# =============================================================================\n",
    "# 1. 歷史資料下載：利用 ERA5_land（ECMWF Seamless）資料\n",
    "# =============================================================================\n",
    "\n",
    "HIST_URL = \"https://archive-api.open-meteo.com/v1/archive\"\n",
    "\n",
    "def fetch_climate_data(latitude, longitude, year, month, day, one_single_day=False):\n",
    "    \"\"\"\n",
    "    根據指定經緯度與年份下載該年度的【歷史】日氣象資料（ERA5_land），\n",
    "    回傳一個 dict，各變數皆為 numpy array（或其他對應型態）。\n",
    "\n",
    "    注意：當請求年份為當年時，結束日期(end_date)會自動設定為昨天，\n",
    "          以避免超出 API 允許的歷史資料範圍（end_date 不能超過昨天）。\n",
    "    \"\"\"\n",
    "    # 起始日期固定為當年1月1日\n",
    "    start_date = f\"{year}-01-01\"\n",
    "    date_obj = datetime(year, month, day)\n",
    "    formatted_date = date_obj.strftime(\"%Y-%m-%d\")\n",
    "    # 決定結束日期：若請求年份為當年，則結束日期設為昨天；否則用當年12月31日\n",
    "    today = date.today()\n",
    "    yesterday = today - timedelta(days=1)\n",
    "    if year == today.year:\n",
    "        end_date = yesterday.strftime(\"%Y-%m-%d\")\n",
    "    else:\n",
    "        end_date = f\"{year}-12-31\"\n",
    "    if one_single_day:\n",
    "        start_date = formatted_date\n",
    "        end_date = formatted_date\n",
    "\n",
    "    params = {\n",
    "        \"latitude\": latitude,\n",
    "        \"longitude\": longitude,\n",
    "        \"start_date\": start_date,\n",
    "        \"end_date\": end_date,\n",
    "        \"daily\": [\n",
    "            \"temperature_2m_max\", \"temperature_2m_min\", \"temperature_2m_mean\",\n",
    "            \"apparent_temperature_max\", \"apparent_temperature_min\", \"apparent_temperature_mean\",\n",
    "            \"sunrise\", \"sunset\", \"daylight_duration\", \"sunshine_duration\", \"precipitation_sum\",\n",
    "            \"rain_sum\", \"precipitation_hours\", \"wind_speed_10m_max\", \"wind_gusts_10m_max\",\n",
    "            \"wind_direction_10m_dominant\", \"shortwave_radiation_sum\", \"et0_fao_evapotranspiration\"\n",
    "        ],\n",
    "        \"timezone\": \"Asia/Singapore\",\n",
    "        \"models\": \"era5_seamless\"\n",
    "    }\n",
    "\n",
    "    client = openmeteo_requests.Client()\n",
    "    responses = client.weather_api(HIST_URL, params=params)\n",
    "    response = responses[0]\n",
    "\n",
    "    daily = response.Daily()\n",
    "    elevation = response.Elevation()\n",
    "    # 順序必須與 params[\"daily\"] 中指定的順序一致\n",
    "    daily_temperature_2m_max = daily.Variables(0).ValuesAsNumpy()\n",
    "    daily_temperature_2m_min = daily.Variables(1).ValuesAsNumpy()\n",
    "    daily_temperature_2m_mean = daily.Variables(2).ValuesAsNumpy()\n",
    "    daily_apparent_temperature_max = daily.Variables(3).ValuesAsNumpy()\n",
    "    daily_apparent_temperature_min = daily.Variables(4).ValuesAsNumpy()\n",
    "    daily_apparent_temperature_mean = daily.Variables(5).ValuesAsNumpy()\n",
    "    daily_daylight_duration = daily.Variables(8).ValuesAsNumpy()\n",
    "    daily_sunshine_duration = daily.Variables(9).ValuesAsNumpy()\n",
    "    daily_precipitation_sum = daily.Variables(10).ValuesAsNumpy()\n",
    "    daily_rain_sum = daily.Variables(11).ValuesAsNumpy()\n",
    "    daily_precipitation_hours = daily.Variables(12).ValuesAsNumpy()\n",
    "    daily_wind_speed_10m_max = daily.Variables(13).ValuesAsNumpy()\n",
    "    daily_wind_gusts_10m_max = daily.Variables(14).ValuesAsNumpy()\n",
    "    daily_wind_direction_10m_dominant = daily.Variables(15).ValuesAsNumpy()\n",
    "    daily_shortwave_radiation_sum = daily.Variables(16).ValuesAsNumpy()\n",
    "    daily_et0_fao_evapotranspiration = daily.Variables(17).ValuesAsNumpy()\n",
    "\n",
    "    daily_data = {\"date\": pd.date_range(\n",
    "        start=pd.to_datetime(daily.Time(), unit=\"s\", utc=True),\n",
    "        end=pd.to_datetime(daily.TimeEnd(), unit=\"s\", utc=True),\n",
    "        freq=pd.Timedelta(seconds=daily.Interval()),\n",
    "        inclusive=\"left\"\n",
    "    )}\n",
    "\n",
    "    daily_data[\"elevation\"] = elevation\n",
    "    daily_data[\"temperature_2m_max\"] = daily_temperature_2m_max\n",
    "    daily_data[\"temperature_2m_min\"] = daily_temperature_2m_min\n",
    "    daily_data[\"temperature_2m_mean\"] = daily_temperature_2m_mean\n",
    "    daily_data[\"apparent_temperature_max\"] = daily_apparent_temperature_max\n",
    "    daily_data[\"apparent_temperature_min\"] = daily_apparent_temperature_min\n",
    "    daily_data[\"apparent_temperature_mean\"] = daily_apparent_temperature_mean\n",
    "    daily_data[\"daylight_duration\"] = daily_daylight_duration\n",
    "    daily_data[\"sunshine_duration\"] = daily_sunshine_duration\n",
    "    daily_data[\"precipitation_sum\"] = daily_precipitation_sum\n",
    "    daily_data[\"rain_sum\"] = daily_rain_sum\n",
    "    daily_data[\"precipitation_hours\"] = daily_precipitation_hours\n",
    "    daily_data[\"wind_speed_10m_max\"] = daily_wind_speed_10m_max\n",
    "    daily_data[\"wind_gusts_10m_max\"] = daily_wind_gusts_10m_max\n",
    "    daily_data[\"wind_direction_10m_dominant\"] = daily_wind_direction_10m_dominant\n",
    "    daily_data[\"shortwave_radiation_sum\"] = daily_shortwave_radiation_sum\n",
    "    daily_data[\"et0_fao_evapotranspiration\"] = daily_et0_fao_evapotranspiration\n",
    "\n",
    "    return daily_data\n",
    "\n",
    "# =============================================================================\n",
    "# 2. 預報資料下載：利用 ECMWF IFS 預報資料\n",
    "# =============================================================================\n",
    "\n",
    "def fetch_forecast_data(latitude, longitude, forecast_days=16):\n",
    "    \"\"\"\n",
    "    利用 ECMWF IFS 模型下載預報資料，回傳一個 dict，\n",
    "    日變數順序依照下列列表：\n",
    "      [\"temperature_2m_max\", \"temperature_2m_min\", \"temperature_2m_mean\",\n",
    "       \"apparent_temperature_max\", \"apparent_temperature_min\", \"apparent_temperature_mean\",\n",
    "       \"daylight_duration\", \"sunshine_duration\", \"precipitation_sum\", \"rain_sum\",\n",
    "       \"precipitation_hours\", \"wind_speed_10m_max\", \"wind_gusts_10m_max\",\n",
    "       \"wind_direction_10m_dominant\", \"shortwave_radiation_sum\", \"et0_fao_evapotranspiration\"]\n",
    "    \"\"\"\n",
    "    import requests_cache\n",
    "    from retry_requests import retry\n",
    "    cache_session = requests_cache.CachedSession('.cache', expire_after=3600)\n",
    "    retry_session = retry(cache_session, retries=5, backoff_factor=0.2)\n",
    "    forecast_client = openmeteo_requests.Client(session=retry_session)\n",
    "    fc_url = \"https://api.open-meteo.com/v1/forecast\"\n",
    "    daily_vars = [\n",
    "        \"temperature_2m_max\", \"temperature_2m_min\", \"temperature_2m_mean\",\n",
    "        \"apparent_temperature_max\", \"apparent_temperature_min\", \"apparent_temperature_mean\",\n",
    "        \"daylight_duration\", \"sunshine_duration\", \"precipitation_sum\", \"rain_sum\",\n",
    "        \"precipitation_hours\", \"wind_speed_10m_max\", \"wind_gusts_10m_max\",\n",
    "        \"wind_direction_10m_dominant\", \"shortwave_radiation_sum\", \"et0_fao_evapotranspiration\"\n",
    "    ]\n",
    "    params = {\n",
    "        \"latitude\": latitude,\n",
    "        \"longitude\": longitude,\n",
    "        \"daily\": daily_vars,\n",
    "        \"timezone\": \"Asia/Singapore\",\n",
    "        \"past_days\": 10,\n",
    "        \"forecast_days\": forecast_days,\n",
    "        \"models\": \"best_match\"\n",
    "    }\n",
    "    responses = forecast_client.weather_api(fc_url, params=params)\n",
    "    response = responses[0]\n",
    "    daily = response.Daily()\n",
    "    forecast_data = {\"date\": pd.date_range(\n",
    "        start=pd.to_datetime(daily.Time(), unit=\"s\", utc=True),\n",
    "        end=pd.to_datetime(daily.TimeEnd(), unit=\"s\", utc=True),\n",
    "        freq=pd.Timedelta(seconds=daily.Interval()),\n",
    "        inclusive=\"left\"\n",
    "    )}\n",
    "    forecast_data[\"temperature_2m_max\"] = daily.Variables(0).ValuesAsNumpy()\n",
    "    forecast_data[\"temperature_2m_min\"] = daily.Variables(1).ValuesAsNumpy()\n",
    "    forecast_data[\"temperature_2m_mean\"] = daily.Variables(2).ValuesAsNumpy()\n",
    "    forecast_data[\"apparent_temperature_max\"] = daily.Variables(3).ValuesAsNumpy()\n",
    "    forecast_data[\"apparent_temperature_min\"] = daily.Variables(4).ValuesAsNumpy()\n",
    "    forecast_data[\"apparent_temperature_mean\"] = daily.Variables(5).ValuesAsNumpy()\n",
    "    forecast_data[\"daylight_duration\"] = daily.Variables(6).ValuesAsNumpy()\n",
    "    forecast_data[\"sunshine_duration\"] = daily.Variables(7).ValuesAsNumpy()\n",
    "    forecast_data[\"precipitation_sum\"] = daily.Variables(8).ValuesAsNumpy()\n",
    "    forecast_data[\"rain_sum\"] = daily.Variables(9).ValuesAsNumpy()\n",
    "    forecast_data[\"precipitation_hours\"] = daily.Variables(10).ValuesAsNumpy()\n",
    "    forecast_data[\"wind_speed_10m_max\"] = daily.Variables(11).ValuesAsNumpy()\n",
    "    forecast_data[\"wind_gusts_10m_max\"] = daily.Variables(12).ValuesAsNumpy()\n",
    "    forecast_data[\"wind_direction_10m_dominant\"] = daily.Variables(13).ValuesAsNumpy()\n",
    "    forecast_data[\"shortwave_radiation_sum\"] = daily.Variables(14).ValuesAsNumpy()\n",
    "    forecast_data[\"et0_fao_evapotranspiration\"] = daily.Variables(15).ValuesAsNumpy()\n",
    "    return forecast_data\n",
    "\n",
    "# =============================================================================\n",
    "# 3. 針對整個日期區間進行預測\n",
    "# =============================================================================\n",
    "def predict_termite_over_period(latitude, longitude, forecast_days=16):\n",
    "    \"\"\"\n",
    "    針對從當年1月1日至執行當天加上 forecast_days（例如16天）內的每一天，\n",
    "    依序執行白蟻預測，並回傳每一天的各模型預測結果與 ensemble 結果。\n",
    "    \n",
    "    預測所用的特徵包含每日值與累積值：\n",
    "      - 每日特徵（訓練時使用的）：  \n",
    "        [\"elevation\", \"temperature_2m_max\", \"temperature_2m_min\", \"temperature_2m_mean\",\n",
    "         \"apparent_temperature_max\", \"apparent_temperature_min\", \"apparent_temperature_mean\",\n",
    "         \"daylight_duration\", \"precipitation_sum\", \"rain_sum\", \"precipitation_hours\",\n",
    "         \"wind_speed_10m_max\", \"wind_gusts_10m_max\", \"shortwave_radiation_sum\",\n",
    "         \"et0_fao_evapotranspiration\", \"latitude\", \"longitude\", \"day\"]\n",
    "      - 累積特徵：累加從1月1日起的每日數值（變數依 cum_vars 定義）\n",
    "    \"\"\"\n",
    "    global combined_df  # 方便除錯時檢查資料\n",
    "    exec_date = pd.Timestamp.now().normalize()\n",
    "    year = exec_date.year\n",
    "\n",
    "    # -----------------------------\n",
    "    # 下載歷史資料（ERA5_land）\n",
    "    # -----------------------------\n",
    "    historical_data = fetch_climate_data(latitude, longitude, year, 1, 1, one_single_day=False)\n",
    "    hist_dates = pd.to_datetime(historical_data[\"date\"]).tz_localize(None)\n",
    "    hist_mask = hist_dates < exec_date\n",
    "    hist_dict = {}\n",
    "    for var in historical_data:\n",
    "        if var == \"date\":\n",
    "            continue\n",
    "        val = historical_data[var]\n",
    "        if np.isscalar(val):\n",
    "            hist_dict[var] = np.full(np.sum(hist_mask), val)\n",
    "        else:\n",
    "            hist_dict[var] = np.array(val)[hist_mask]\n",
    "    hist_df = pd.DataFrame(hist_dict)\n",
    "    hist_df[\"date\"] = hist_dates[hist_mask]\n",
    "    hist_df = hist_df.dropna()  # 若有 NaN (例如更新延遲)則剔除\n",
    "    hist_df.sort_values(\"date\", inplace=True)\n",
    "\n",
    "    # -----------------------------\n",
    "    # 下載預報資料（ECMWF IFS / Best match）\n",
    "    # -----------------------------\n",
    "    forecast_data = fetch_forecast_data(latitude, longitude, forecast_days=forecast_days)\n",
    "    fc_dates = pd.to_datetime(forecast_data[\"date\"]).tz_localize(None)\n",
    "    fc_dict = {}\n",
    "    for var in forecast_data:\n",
    "        if var == \"date\":\n",
    "            continue\n",
    "        fc_dict[var] = np.array(forecast_data[var])\n",
    "    fc_df = pd.DataFrame(fc_dict)\n",
    "    fc_df[\"date\"] = fc_dates\n",
    "    fc_df.sort_values(\"date\", inplace=True)\n",
    "\n",
    "    # -----------------------------\n",
    "    # 串接歷史與預報資料\n",
    "    # -----------------------------\n",
    "    combined_df = pd.concat([hist_df, fc_df], ignore_index=True)\n",
    "    combined_df.drop_duplicates(subset=\"date\", keep=\"first\", inplace=True)\n",
    "    combined_df.sort_values(\"date\", inplace=True)\n",
    "    combined_df.reset_index(drop=True, inplace=True)\n",
    "    # 填補預報中 elevation 為 NaN 的情形\n",
    "    combined_df[\"elevation\"] = combined_df[\"elevation\"].fillna(combined_df[\"elevation\"].iloc[0])\n",
    "    \n",
    "    start_date = pd.Timestamp(f\"{year}-01-01\")\n",
    "    end_date = exec_date + pd.Timedelta(days=forecast_days)\n",
    "    combined_df = combined_df[(combined_df[\"date\"] >= start_date) & (combined_df[\"date\"] <= end_date)]\n",
    "    combined_df.reset_index(drop=True, inplace=True)\n",
    "\n",
    "    # -----------------------------\n",
    "    # 計算累積特徵（從1月1日開始累加）\n",
    "    # -----------------------------\n",
    "    cum_vars = [\"temperature_2m_mean\", \"apparent_temperature_mean\", \"daylight_duration\",\n",
    "                \"sunshine_duration\", \"precipitation_sum\", \"rain_sum\", \"precipitation_hours\",\n",
    "                \"shortwave_radiation_sum\", \"et0_fao_evapotranspiration\"]\n",
    "    for var in cum_vars:\n",
    "        combined_df[f\"cumulative_{var}\"] = combined_df[var].cumsum()\n",
    "\n",
    "    # -----------------------------\n",
    "    # 加入每日「日數」與經緯度常數\n",
    "    # -----------------------------\n",
    "    combined_df[\"day\"] = combined_df[\"date\"].dt.dayofyear\n",
    "    combined_df[\"latitude\"] = latitude\n",
    "    combined_df[\"longitude\"] = longitude\n",
    "\n",
    "    # -----------------------------\n",
    "    # 讀取預訓練模型\n",
    "    # -----------------------------\n",
    "    model_files = glob.glob(os.path.join(\"models\", \"*_model.pkl\"))\n",
    "    models = {}\n",
    "    for mf in model_files:\n",
    "        model_name = os.path.splitext(os.path.basename(mf))[0]\n",
    "        try:\n",
    "            with open(mf, \"rb\") as f:\n",
    "                models[model_name] = pickle.load(f)\n",
    "        except Exception as e:\n",
    "            print(f\"讀取模型 {mf} 時發生錯誤: {e}\")\n",
    "\n",
    "    # -----------------------------\n",
    "    # 逐日預測\n",
    "    # -----------------------------\n",
    "    expected_daily_keys = [\"elevation\", \"temperature_2m_max\", \"temperature_2m_min\", \"temperature_2m_mean\",\n",
    "                           \"apparent_temperature_max\", \"apparent_temperature_min\", \"apparent_temperature_mean\",\n",
    "                           \"daylight_duration\", \"precipitation_sum\", \"rain_sum\", \"precipitation_hours\",\n",
    "                           \"wind_speed_10m_max\", \"wind_gusts_10m_max\", \"shortwave_radiation_sum\",\n",
    "                           \"et0_fao_evapotranspiration\", \"latitude\", \"longitude\", \"day\"]\n",
    "    expected_cum_keys = [f\"cumulative_{var}\" for var in cum_vars]\n",
    "\n",
    "    results_list = []\n",
    "    for idx, row in combined_df.iterrows():\n",
    "        feature_dict = {k: row[k] for k in expected_daily_keys}\n",
    "        for k in expected_cum_keys:\n",
    "            feature_dict[k] = round(row[k],4)\n",
    "        X = pd.DataFrame([feature_dict])\n",
    "        individual_preds = {}\n",
    "        cf_preds = []\n",
    "        cg_preds = []\n",
    "        for model_name, model in models.items():\n",
    "            try:\n",
    "                proba = model.predict_proba(X)[:, 1][0]\n",
    "                individual_preds[model_name] = round(proba, 3)\n",
    "                if model_name.startswith(\"cf_\"):\n",
    "                    cf_preds.append(proba)\n",
    "                elif model_name.startswith(\"cg_\"):\n",
    "                    cg_preds.append(proba)\n",
    "            except Exception as e:\n",
    "                print(f\"模型 {model_name} 在日期 {row['date'].date()} 預測時發生錯誤: {e}\")\n",
    "        ensemble_cf = float(np.mean(cf_preds)) if cf_preds else None\n",
    "        ensemble_cg = float(np.mean(cg_preds)) if cg_preds else None\n",
    "        ensemble_overall = float(np.mean(list(individual_preds.values()))) if individual_preds else None\n",
    "\n",
    "        results_list.append({\n",
    "            \"date\": row[\"date\"],\n",
    "            \"individual_predictions\": individual_preds,\n",
    "            \"ensemble\": {\n",
    "                \"cf\": ensemble_cf,\n",
    "                \"cg\": ensemble_cg,\n",
    "                \"overall\": ensemble_overall\n",
    "            },\n",
    "            #\"features\": feature_dict\n",
    "            # 只保留\"latitude\", \"longitude\"\n",
    "            \"features\": {\"latitude\": feature_dict[\"latitude\"], \"longitude\": feature_dict[\"longitude\"]}\n",
    "        })\n",
    "\n",
    "    return results_list\n",
    "\n",
    "# =============================================================================\n",
    "# 4. 主程式：讀取網格點並對所有經緯度點執行預報，依預報日期存成 JSON 檔\n",
    "# =============================================================================\n",
    "\n",
    "def main():\n",
    "    # 讀取網格點 CSV，假設欄位名稱為 lon, lat, elevation_m\n",
    "    grid_df = pd.read_csv(\"./1_grid_points/taiwan_grid.csv\")\n",
    "    # 建立一個字典，用於依預報日期彙整所有網格點預報結果\n",
    "    forecasts_by_date = {}\n",
    "\n",
    "    # 針對每一個網格點執行預報\n",
    "    for index, row in grid_df.iterrows():\n",
    "        lon = row[\"lon\"]\n",
    "        lat = row[\"lat\"]\n",
    "        print(f\"處理網格點：lon={lon}, lat={lat}\")\n",
    "        try:\n",
    "            results = predict_termite_over_period(lat, lon, forecast_days=16)\n",
    "        except Exception as e:\n",
    "            print(f\"網格點 {lon}, {lat} 執行預報失敗: {e}\")\n",
    "            continue\n",
    "        # 將此網格點每一天的預報結果依日期彙整\n",
    "        for forecast in results:\n",
    "            # 將日期轉為字串格式，例如 \"2025-02-09\"\n",
    "            date_str = forecast[\"date\"].strftime(\"%Y-%m-%d\")\n",
    "            if date_str not in forecasts_by_date:\n",
    "                forecasts_by_date[date_str] = []\n",
    "            # 將此筆預報結果加入列表，預報結果內含各模型預測與 ensemble 結果\n",
    "            forecasts_by_date[date_str].append(forecast)\n",
    "\n",
    "    # 建立輸出資料夾\n",
    "    os.makedirs(\"./2_predictions\", exist_ok=True)\n",
    "    # 將每個日期的預報結果存成 JSON 檔\n",
    "    for date_str, forecast_list in forecasts_by_date.items():\n",
    "        # 若 forecast_list 中的 \"date\" 欄位為 Timestamp，轉成字串\n",
    "        for forecast in forecast_list:\n",
    "            if isinstance(forecast.get(\"date\"), pd.Timestamp):\n",
    "                forecast[\"date\"] = forecast[\"date\"].strftime(\"%Y-%m-%d\")\n",
    "        out_path = os.path.join(\"2_predictions\", f\"{date_str}.json\")\n",
    "        with open(out_path, \"w\", encoding=\"utf-8\") as f:\n",
    "            json.dump(forecast_list, f, ensure_ascii=False, indent=2)\n",
    "        print(f\"儲存預報結果 {date_str} 至 {out_path}\")\n",
    "\n",
    "if __name__ == \"__main__\":\n",
    "    main()\n"
   ]
  },
  {
   "cell_type": "code",
   "execution_count": 1,
   "metadata": {},
   "outputs": [],
   "source": [
    "import os\n",
    "import glob\n",
    "import pickle\n",
    "import numpy as np\n",
    "import pandas as pd\n",
    "from datetime import datetime, date, timedelta\n",
    "import openmeteo_requests\n",
    "import json\n",
    "import time\n",
    "import logging\n",
    "\n",
    "# 設定 logging (這裡預設輸出 INFO 等級以上訊息)\n",
    "logging.basicConfig(level=logging.INFO, format='%(asctime)s - %(levelname)s - %(message)s')\n",
    "\n",
    "# =============================================================================\n",
    "# 1. 下載歷史氣象資料：利用 ERA5_land（ECMWF Seamless）資料\n",
    "# =============================================================================\n",
    "\n",
    "HIST_URL = \"https://archive-api.open-meteo.com/v1/archive\"\n",
    "\n",
    "def fetch_climate_data(latitude, longitude, year, month, day, one_single_day=False):\n",
    "    \"\"\"\n",
    "    根據指定經緯度與年份下載該年度的【歷史】日氣象資料（ERA5_land），\n",
    "    回傳一個 dict，各變數皆為 numpy array（或其他對應型態）。\n",
    "\n",
    "    注意：當請求年份為當年時，結束日期會自動設定為昨天，\n",
    "          以避免超出 API 允許的歷史資料範圍。\n",
    "    \"\"\"\n",
    "    start_date = f\"{year}-01-01\"\n",
    "    date_obj = datetime(year, month, day)\n",
    "    formatted_date = date_obj.strftime(\"%Y-%m-%d\")\n",
    "    today = date.today()\n",
    "    yesterday = today - timedelta(days=1)\n",
    "    if year == today.year:\n",
    "        end_date = yesterday.strftime(\"%Y-%m-%d\")\n",
    "    else:\n",
    "        end_date = f\"{year}-12-31\"\n",
    "    if one_single_day:\n",
    "        start_date = formatted_date\n",
    "        end_date = formatted_date\n",
    "\n",
    "    params = {\n",
    "        \"latitude\": latitude,\n",
    "        \"longitude\": longitude,\n",
    "        \"start_date\": start_date,\n",
    "        \"end_date\": end_date,\n",
    "        \"daily\": [\n",
    "            \"temperature_2m_max\", \"temperature_2m_min\", \"temperature_2m_mean\",\n",
    "            \"apparent_temperature_max\", \"apparent_temperature_min\", \"apparent_temperature_mean\",\n",
    "            \"sunrise\", \"sunset\", \"daylight_duration\", \"sunshine_duration\", \"precipitation_sum\",\n",
    "            \"rain_sum\", \"precipitation_hours\", \"wind_speed_10m_max\", \"wind_gusts_10m_max\",\n",
    "            \"wind_direction_10m_dominant\", \"shortwave_radiation_sum\", \"et0_fao_evapotranspiration\"\n",
    "        ],\n",
    "        \"timezone\": \"Asia/Singapore\",\n",
    "        \"models\": \"era5_seamless\"\n",
    "    }\n",
    "    logging.info(f\"Fetching historical weather data for lat={latitude}, lon={longitude}, \"\n",
    "                 f\"from {start_date} to {end_date}.\")\n",
    "    client = openmeteo_requests.Client()\n",
    "    responses = client.weather_api(HIST_URL, params=params)\n",
    "    response = responses[0]\n",
    "    daily = response.Daily()\n",
    "    elevation = response.Elevation()\n",
    "\n",
    "    daily_data = {\"date\": pd.date_range(\n",
    "        start=pd.to_datetime(daily.Time(), unit=\"s\", utc=True),\n",
    "        end=pd.to_datetime(daily.TimeEnd(), unit=\"s\", utc=True),\n",
    "        freq=pd.Timedelta(seconds=daily.Interval()),\n",
    "        inclusive=\"left\"\n",
    "    )}\n",
    "    daily_data[\"elevation\"] = elevation\n",
    "    daily_data[\"temperature_2m_max\"] = daily.Variables(0).ValuesAsNumpy()\n",
    "    daily_data[\"temperature_2m_min\"] = daily.Variables(1).ValuesAsNumpy()\n",
    "    daily_data[\"temperature_2m_mean\"] = daily.Variables(2).ValuesAsNumpy()\n",
    "    daily_data[\"apparent_temperature_max\"] = daily.Variables(3).ValuesAsNumpy()\n",
    "    daily_data[\"apparent_temperature_min\"] = daily.Variables(4).ValuesAsNumpy()\n",
    "    daily_data[\"apparent_temperature_mean\"] = daily.Variables(5).ValuesAsNumpy()\n",
    "    daily_data[\"daylight_duration\"] = daily.Variables(8).ValuesAsNumpy()\n",
    "    daily_data[\"sunshine_duration\"] = daily.Variables(9).ValuesAsNumpy()\n",
    "    daily_data[\"precipitation_sum\"] = daily.Variables(10).ValuesAsNumpy()\n",
    "    daily_data[\"rain_sum\"] = daily.Variables(11).ValuesAsNumpy()\n",
    "    daily_data[\"precipitation_hours\"] = daily.Variables(12).ValuesAsNumpy()\n",
    "    daily_data[\"wind_speed_10m_max\"] = daily.Variables(13).ValuesAsNumpy()\n",
    "    daily_data[\"wind_gusts_10m_max\"] = daily.Variables(14).ValuesAsNumpy()\n",
    "    daily_data[\"wind_direction_10m_dominant\"] = daily.Variables(15).ValuesAsNumpy()\n",
    "    daily_data[\"shortwave_radiation_sum\"] = daily.Variables(16).ValuesAsNumpy()\n",
    "    daily_data[\"et0_fao_evapotranspiration\"] = daily.Variables(17).ValuesAsNumpy()\n",
    "\n",
    "    return daily_data\n",
    "\n",
    "# =============================================================================\n",
    "# 2. 下載預報氣象資料：利用 ECMWF IFS 預報資料\n",
    "# =============================================================================\n",
    "\n",
    "def fetch_forecast_data(latitude, longitude, forecast_days=16):\n",
    "    \"\"\"\n",
    "    利用 ECMWF IFS 模型下載預報資料，回傳一個 dict，\n",
    "    變數順序依下列列表：\n",
    "      [\"temperature_2m_max\", \"temperature_2m_min\", \"temperature_2m_mean\",\n",
    "       \"apparent_temperature_max\", \"apparent_temperature_min\", \"apparent_temperature_mean\",\n",
    "       \"daylight_duration\", \"sunshine_duration\", \"precipitation_sum\", \"rain_sum\",\n",
    "       \"precipitation_hours\", \"wind_speed_10m_max\", \"wind_gusts_10m_max\",\n",
    "       \"wind_direction_10m_dominant\", \"shortwave_radiation_sum\", \"et0_fao_evapotranspiration\"]\n",
    "    \"\"\"\n",
    "    import requests_cache\n",
    "    from retry_requests import retry\n",
    "    cache_session = requests_cache.CachedSession('.cache', expire_after=3600)\n",
    "    retry_session = retry(cache_session, retries=5, backoff_factor=0.2)\n",
    "    forecast_client = openmeteo_requests.Client(session=retry_session)\n",
    "    fc_url = \"https://api.open-meteo.com/v1/forecast\"\n",
    "    daily_vars = [\n",
    "        \"temperature_2m_max\", \"temperature_2m_min\", \"temperature_2m_mean\",\n",
    "        \"apparent_temperature_max\", \"apparent_temperature_min\", \"apparent_temperature_mean\",\n",
    "        \"daylight_duration\", \"sunshine_duration\", \"precipitation_sum\", \"rain_sum\",\n",
    "        \"precipitation_hours\", \"wind_speed_10m_max\", \"wind_gusts_10m_max\",\n",
    "        \"wind_direction_10m_dominant\", \"shortwave_radiation_sum\", \"et0_fao_evapotranspiration\"\n",
    "    ]\n",
    "    params = {\n",
    "        \"latitude\": latitude,\n",
    "        \"longitude\": longitude,\n",
    "        \"daily\": daily_vars,\n",
    "        \"timezone\": \"Asia/Singapore\",\n",
    "        \"past_days\": 10,\n",
    "        \"forecast_days\": forecast_days,\n",
    "        \"models\": \"best_match\"\n",
    "    }\n",
    "    logging.info(f\"Fetching forecast weather data for lat={latitude}, lon={longitude}, \"\n",
    "                 f\"forecast for {forecast_days} days.\")\n",
    "    responses = forecast_client.weather_api(fc_url, params=params)\n",
    "    response = responses[0]\n",
    "    daily = response.Daily()\n",
    "    forecast_data = {\"date\": pd.date_range(\n",
    "        start=pd.to_datetime(daily.Time(), unit=\"s\", utc=True),\n",
    "        end=pd.to_datetime(daily.TimeEnd(), unit=\"s\", utc=True),\n",
    "        freq=pd.Timedelta(seconds=daily.Interval()),\n",
    "        inclusive=\"left\"\n",
    "    )}\n",
    "    forecast_data[\"temperature_2m_max\"] = daily.Variables(0).ValuesAsNumpy()\n",
    "    forecast_data[\"temperature_2m_min\"] = daily.Variables(1).ValuesAsNumpy()\n",
    "    forecast_data[\"temperature_2m_mean\"] = daily.Variables(2).ValuesAsNumpy()\n",
    "    forecast_data[\"apparent_temperature_max\"] = daily.Variables(3).ValuesAsNumpy()\n",
    "    forecast_data[\"apparent_temperature_min\"] = daily.Variables(4).ValuesAsNumpy()\n",
    "    forecast_data[\"apparent_temperature_mean\"] = daily.Variables(5).ValuesAsNumpy()\n",
    "    forecast_data[\"daylight_duration\"] = daily.Variables(6).ValuesAsNumpy()\n",
    "    forecast_data[\"sunshine_duration\"] = daily.Variables(7).ValuesAsNumpy()\n",
    "    forecast_data[\"precipitation_sum\"] = daily.Variables(8).ValuesAsNumpy()\n",
    "    forecast_data[\"rain_sum\"] = daily.Variables(9).ValuesAsNumpy()\n",
    "    forecast_data[\"precipitation_hours\"] = daily.Variables(10).ValuesAsNumpy()\n",
    "    forecast_data[\"wind_speed_10m_max\"] = daily.Variables(11).ValuesAsNumpy()\n",
    "    forecast_data[\"wind_gusts_10m_max\"] = daily.Variables(12).ValuesAsNumpy()\n",
    "    forecast_data[\"wind_direction_10m_dominant\"] = daily.Variables(13).ValuesAsNumpy()\n",
    "    forecast_data[\"shortwave_radiation_sum\"] = daily.Variables(14).ValuesAsNumpy()\n",
    "    forecast_data[\"et0_fao_evapotranspiration\"] = daily.Variables(15).ValuesAsNumpy()\n",
    "    return forecast_data\n",
    "\n",
    "# =============================================================================\n",
    "# 3. 下載並合併氣象資料（歷史 + 預報） for 一個網格點\n",
    "# =============================================================================\n",
    "def download_weather_data_for_grid(lat, lon, forecast_days=16):\n",
    "    logging.info(f\"開始下載網格點資料：lat={lat}, lon={lon}\")\n",
    "    current_year = datetime.now().year\n",
    "    hist_data = fetch_climate_data(lat, lon, current_year, 1, 1, one_single_day=False)\n",
    "    hist_dates = pd.to_datetime(hist_data[\"date\"]).tz_localize(None)\n",
    "    exec_date = pd.Timestamp.now().normalize()\n",
    "    hist_mask = hist_dates < exec_date\n",
    "    hist_dict = {}\n",
    "    for var in hist_data:\n",
    "        if var == \"date\":\n",
    "            continue\n",
    "        val = hist_data[var]\n",
    "        if np.isscalar(val):\n",
    "            hist_dict[var] = np.full(np.sum(hist_mask), val)\n",
    "        else:\n",
    "            hist_dict[var] = np.array(val)[hist_mask]\n",
    "    hist_df = pd.DataFrame(hist_dict)\n",
    "    hist_df[\"date\"] = hist_dates[hist_mask]\n",
    "    hist_df = hist_df.dropna()\n",
    "    hist_df.sort_values(\"date\", inplace=True)\n",
    "    logging.info(f\"歷史資料下載完成，資料筆數：{len(hist_df)}\")\n",
    "\n",
    "    forecast_data = fetch_forecast_data(lat, lon, forecast_days=forecast_days)\n",
    "    fc_dates = pd.to_datetime(forecast_data[\"date\"]).tz_localize(None)\n",
    "    fc_dict = {}\n",
    "    for var in forecast_data:\n",
    "        if var == \"date\":\n",
    "            continue\n",
    "        fc_dict[var] = np.array(forecast_data[var])\n",
    "    fc_df = pd.DataFrame(fc_dict)\n",
    "    fc_df[\"date\"] = fc_dates\n",
    "    fc_df.sort_values(\"date\", inplace=True)\n",
    "    logging.info(f\"預報資料下載完成，資料筆數：{len(fc_df)}\")\n",
    "\n",
    "    combined_df = pd.concat([hist_df, fc_df], ignore_index=True)\n",
    "    combined_df.drop_duplicates(subset=\"date\", keep=\"first\", inplace=True)\n",
    "    combined_df.sort_values(\"date\", inplace=True)\n",
    "    combined_df.reset_index(drop=True, inplace=True)\n",
    "    combined_df[\"elevation\"] = combined_df[\"elevation\"].fillna(combined_df[\"elevation\"].iloc[0])\n",
    "    \n",
    "    start_date = pd.Timestamp(f\"{current_year}-01-01\")\n",
    "    end_date = exec_date + pd.Timedelta(days=forecast_days)\n",
    "    combined_df = combined_df[(combined_df[\"date\"] >= start_date) & (combined_df[\"date\"] <= end_date)]\n",
    "    combined_df.reset_index(drop=True, inplace=True)\n",
    "\n",
    "    cum_vars = [\"temperature_2m_mean\", \"apparent_temperature_mean\", \"daylight_duration\",\n",
    "                \"sunshine_duration\", \"precipitation_sum\", \"rain_sum\", \"precipitation_hours\",\n",
    "                \"shortwave_radiation_sum\", \"et0_fao_evapotranspiration\"]\n",
    "    for var in cum_vars:\n",
    "        combined_df[f\"cumulative_{var}\"] = combined_df[var].cumsum()\n",
    "\n",
    "    combined_df[\"day\"] = combined_df[\"date\"].dt.dayofyear\n",
    "    combined_df[\"latitude\"] = lat\n",
    "    combined_df[\"longitude\"] = lon\n",
    "\n",
    "    logging.info(f\"網格點資料合併完成，總筆數：{len(combined_df)}\")\n",
    "    return combined_df\n",
    "\n",
    "# =============================================================================\n",
    "# 更新所有網格點的氣象資料，存成 CSV 至 ./weather_data_tmp/\n",
    "# =============================================================================\n",
    "def update_weather_data(forecast_days=16):\n",
    "    grid_path = \"./1_grid_points/taiwan_grid.csv\"\n",
    "    output_dir = \"./weather_data_tmp\"\n",
    "    os.makedirs(output_dir, exist_ok=True)\n",
    "    \n",
    "    grid_df = pd.read_csv(grid_path)\n",
    "    logging.info(f\"讀取網格點資料，共 {len(grid_df)} 筆。\")\n",
    "    for index, row in grid_df.iterrows():\n",
    "        lon = row[\"lon\"]\n",
    "        lat = row[\"lat\"]\n",
    "        file_name = f\"lat_{lat}_lon_{lon}.csv\"\n",
    "        file_path = os.path.join(output_dir, file_name)\n",
    "        if os.path.exists(file_path):\n",
    "            mod_time = os.path.getmtime(file_path)\n",
    "            if time.time() - mod_time < 24 * 3600:\n",
    "                logging.info(f\"檔案 {file_name} 在 24 小時內已更新，跳過下載。\")\n",
    "                continue\n",
    "        try:\n",
    "            logging.info(f\"開始下載網格點：lat={lat}, lon={lon}\")\n",
    "            df = download_weather_data_for_grid(lat, lon, forecast_days=forecast_days)\n",
    "            df.to_csv(file_path, index=False)\n",
    "            logging.info(f\"儲存網格點 {file_name} 至 {file_path}\")\n",
    "        except Exception as e:\n",
    "            logging.error(f\"下載網格點 lat={lat}, lon={lon} 失敗：{e}\")\n",
    "\n",
    "# =============================================================================\n",
    "# 預報功能：從 ./weather_data_tmp/ 載入所有氣象資料檔案，並依日期進行預測\n",
    "# =============================================================================\n",
    "def run_forecast_from_weather_data():\n",
    "    logging.info(\"開始讀取預先訓練的模型...\")\n",
    "    model_files = glob.glob(os.path.join(\"models\", \"*_model.pkl\"))\n",
    "    models = {}\n",
    "    for mf in model_files:\n",
    "        model_name = os.path.splitext(os.path.basename(mf))[0]\n",
    "        try:\n",
    "            with open(mf, \"rb\") as f:\n",
    "                models[model_name] = pickle.load(f)\n",
    "            logging.info(f\"成功讀取模型：{model_name}\")\n",
    "        except Exception as e:\n",
    "            logging.error(f\"讀取模型 {mf} 時發生錯誤: {e}\")\n",
    "\n",
    "    expected_daily_keys = [\"elevation\", \"temperature_2m_max\", \"temperature_2m_min\", \"temperature_2m_mean\",\n",
    "                           \"apparent_temperature_max\", \"apparent_temperature_min\", \"apparent_temperature_mean\",\n",
    "                           \"daylight_duration\", \"precipitation_sum\", \"rain_sum\", \"precipitation_hours\",\n",
    "                           \"wind_speed_10m_max\", \"wind_gusts_10m_max\", \"shortwave_radiation_sum\",\n",
    "                           \"et0_fao_evapotranspiration\", \"latitude\", \"longitude\", \"day\"]\n",
    "    cum_vars = [\"temperature_2m_mean\", \"apparent_temperature_mean\", \"daylight_duration\",\n",
    "                \"sunshine_duration\", \"precipitation_sum\", \"rain_sum\", \"precipitation_hours\",\n",
    "                \"shortwave_radiation_sum\", \"et0_fao_evapotranspiration\"]\n",
    "    expected_cum_keys = [f\"cumulative_{var}\" for var in cum_vars]\n",
    "\n",
    "    weather_files = glob.glob(os.path.join(\"./weather_data_tmp\", \"*.csv\"))\n",
    "    logging.info(f\"找到 {len(weather_files)} 個氣象資料檔案。\")\n",
    "    all_results = []\n",
    "    for wf in weather_files:\n",
    "        try:\n",
    "            df = pd.read_csv(wf)\n",
    "            logging.info(f\"處理檔案：{wf}，共 {len(df)} 筆資料。\")\n",
    "        except Exception as e:\n",
    "            logging.error(f\"讀取檔案 {wf} 失敗：{e}\")\n",
    "            continue\n",
    "        base = os.path.basename(wf)\n",
    "        try:\n",
    "            parts = base.replace(\".csv\", \"\").split(\"_\")\n",
    "            lat_val = float(parts[1])\n",
    "            lon_val = float(parts[3])\n",
    "        except Exception as e:\n",
    "            logging.error(f\"解析檔名 {base} 失敗：{e}\")\n",
    "            continue\n",
    "\n",
    "        for idx, row in df.iterrows():\n",
    "            feature_dict = {k: row[k] for k in expected_daily_keys if k in row}\n",
    "            for k in expected_cum_keys:\n",
    "                if k in row:\n",
    "                    feature_dict[k] = round(row[k], 4)\n",
    "            X = pd.DataFrame([feature_dict])\n",
    "            individual_preds = {}\n",
    "            cf_preds = []\n",
    "            cg_preds = []\n",
    "            for model_name, model in models.items():\n",
    "                try:\n",
    "                    proba = model.predict_proba(X)[:, 1][0]\n",
    "                    individual_preds[model_name] = round(proba, 3)\n",
    "                    if model_name.startswith(\"cf_\"):\n",
    "                        cf_preds.append(proba)\n",
    "                    elif model_name.startswith(\"cg_\"):\n",
    "                        cg_preds.append(proba)\n",
    "                except Exception as e:\n",
    "                    logging.error(f\"模型 {model_name} 在 {row['date']} 預測失敗：{e}\")\n",
    "            ensemble_cf = float(np.mean(cf_preds)) if cf_preds else None\n",
    "            ensemble_cg = float(np.mean(cg_preds)) if cg_preds else None\n",
    "            ensemble_overall = float(np.mean(list(individual_preds.values()))) if individual_preds else None\n",
    "            result = {\n",
    "                \"date\": row[\"date\"],\n",
    "                \"individual_predictions\": individual_preds,\n",
    "                \"ensemble\": {\n",
    "                    \"cf\": ensemble_cf,\n",
    "                    \"cg\": ensemble_cg,\n",
    "                    \"overall\": ensemble_overall\n",
    "                },\n",
    "                \"features\": {\"latitude\": lat_val, \"longitude\": lon_val}\n",
    "            }\n",
    "            all_results.append(result)\n",
    "\n",
    "    logging.info(f\"共預測出 {len(all_results)} 筆結果。\")\n",
    "    forecasts_by_date = {}\n",
    "    for res in all_results:\n",
    "        ds = pd.to_datetime(res[\"date\"]).strftime(\"%Y-%m-%d\")\n",
    "        if ds not in forecasts_by_date:\n",
    "            forecasts_by_date[ds] = []\n",
    "        forecasts_by_date[ds].append(res)\n",
    "\n",
    "    output_dir = \"./2_predictions\"\n",
    "    os.makedirs(output_dir, exist_ok=True)\n",
    "    for ds, results_list in forecasts_by_date.items():\n",
    "        out_path = os.path.join(output_dir, f\"{ds}.json\")\n",
    "        for item in results_list:\n",
    "            if isinstance(item.get(\"date\"), (pd.Timestamp, datetime)):\n",
    "                item[\"date\"] = pd.to_datetime(item[\"date\"]).strftime(\"%Y-%m-%d\")\n",
    "        with open(out_path, \"w\", encoding=\"utf-8\") as f:\n",
    "            json.dump(results_list, f, ensure_ascii=False, indent=2)\n",
    "        logging.info(f\"儲存預報結果 {ds} 至 {out_path}\")\n",
    "\n",
    "\n"
   ]
  },
  {
   "cell_type": "code",
   "execution_count": 3,
   "metadata": {},
   "outputs": [
    {
     "name": "stderr",
     "output_type": "stream",
     "text": [
      "2025-02-10 20:16:00,752 - INFO - 開始更新氣象資料...\n",
      "2025-02-10 20:16:00,760 - INFO - 讀取網格點資料，共 322 筆。\n",
      "2025-02-10 20:16:00,762 - INFO - 檔案 lat_25.2_lon_119.2.csv 在 24 小時內已更新，跳過下載。\n",
      "2025-02-10 20:16:00,763 - INFO - 檔案 lat_25.3_lon_119.2.csv 在 24 小時內已更新，跳過下載。\n",
      "2025-02-10 20:16:00,760 - INFO - 讀取網格點資料，共 322 筆。\n",
      "2025-02-10 20:16:00,762 - INFO - 檔案 lat_25.2_lon_119.2.csv 在 24 小時內已更新，跳過下載。\n",
      "2025-02-10 20:16:00,763 - INFO - 檔案 lat_25.3_lon_119.2.csv 在 24 小時內已更新，跳過下載。\n",
      "2025-02-10 20:16:00,764 - INFO - 檔案 lat_25.3_lon_119.3.csv 在 24 小時內已更新，跳過下載。\n",
      "2025-02-10 20:16:00,766 - INFO - 檔案 lat_23.6_lon_119.5.csv 在 24 小時內已更新，跳過下載。\n",
      "2025-02-10 20:16:00,768 - INFO - 檔案 lat_25.2_lon_119.5.csv 在 24 小時內已更新，跳過下載。\n",
      "2025-02-10 20:16:00,770 - INFO - 檔案 lat_23.6_lon_119.6.csv 在 24 小時內已更新，跳過下載。\n",
      "2025-02-10 20:16:00,773 - INFO - 檔案 lat_23.1_lon_120.1.csv 在 24 小時內已更新，跳過下載。\n",
      "2025-02-10 20:16:00,778 - INFO - 檔案 lat_23.2_lon_120.1.csv 在 24 小時內已更新，跳過下載。\n",
      "2025-02-10 20:16:00,779 - INFO - 檔案 lat_22.9_lon_120.2.csv 在 24 小時內已更新，跳過下載。\n",
      "2025-02-10 20:16:00,781 - INFO - 檔案 lat_23.0_lon_120.2.csv 在 24 小時內已更新，跳過下載。\n",
      "2025-02-10 20:16:00,782 - INFO - 檔案 lat_23.1_lon_120.2.csv 在 24 小時內已更新，跳過下載。\n",
      "2025-02-10 20:16:00,783 - INFO - 檔案 lat_23.2_lon_120.2.csv 在 24 小時內已更新，跳過下載。\n",
      "2025-02-10 20:16:00,784 - INFO - 檔案 lat_23.3_lon_120.2.csv 在 24 小時內已更新，跳過下載。\n",
      "2025-02-10 20:16:00,785 - INFO - 檔案 lat_23.4_lon_120.2.csv 在 24 小時內已更新，跳過下載。\n",
      "2025-02-10 20:16:00,787 - INFO - 檔案 lat_23.5_lon_120.2.csv 在 24 小時內已更新，跳過下載。\n",
      "2025-02-10 20:16:00,791 - INFO - 檔案 lat_23.6_lon_120.2.csv 在 24 小時內已更新，跳過下載。\n",
      "2025-02-10 20:16:00,792 - INFO - 檔案 lat_23.7_lon_120.2.csv 在 24 小時內已更新，跳過下載。\n",
      "2025-02-10 20:16:00,794 - INFO - 檔案 lat_22.6_lon_120.3.csv 在 24 小時內已更新，跳過下載。\n",
      "2025-02-10 20:16:00,795 - INFO - 檔案 lat_22.7_lon_120.3.csv 在 24 小時內已更新，跳過下載。\n",
      "2025-02-10 20:16:00,796 - INFO - 檔案 lat_22.8_lon_120.3.csv 在 24 小時內已更新，跳過下載。\n",
      "2025-02-10 20:16:00,798 - INFO - 檔案 lat_22.9_lon_120.3.csv 在 24 小時內已更新，跳過下載。\n",
      "2025-02-10 20:16:00,799 - INFO - 檔案 lat_23.0_lon_120.3.csv 在 24 小時內已更新，跳過下載。\n",
      "2025-02-10 20:16:00,800 - INFO - 檔案 lat_23.1_lon_120.3.csv 在 24 小時內已更新，跳過下載。\n",
      "2025-02-10 20:16:00,802 - INFO - 檔案 lat_23.2_lon_120.3.csv 在 24 小時內已更新，跳過下載。\n",
      "2025-02-10 20:16:00,804 - INFO - 檔案 lat_23.3_lon_120.3.csv 在 24 小時內已更新，跳過下載。\n",
      "2025-02-10 20:16:00,809 - INFO - 檔案 lat_23.4_lon_120.3.csv 在 24 小時內已更新，跳過下載。\n",
      "2025-02-10 20:16:00,810 - INFO - 檔案 lat_23.5_lon_120.3.csv 在 24 小時內已更新，跳過下載。\n",
      "2025-02-10 20:16:00,812 - INFO - 檔案 lat_23.6_lon_120.3.csv 在 24 小時內已更新，跳過下載。\n",
      "2025-02-10 20:16:00,813 - INFO - 檔案 lat_23.7_lon_120.3.csv 在 24 小時內已更新，跳過下載。\n",
      "2025-02-10 20:16:00,814 - INFO - 檔案 lat_23.8_lon_120.3.csv 在 24 小時內已更新，跳過下載。\n",
      "2025-02-10 20:16:00,816 - INFO - 檔案 lat_23.9_lon_120.3.csv 在 24 小時內已更新，跳過下載。\n",
      "2025-02-10 20:16:00,817 - INFO - 檔案 lat_22.5_lon_120.4.csv 在 24 小時內已更新，跳過下載。\n",
      "2025-02-10 20:16:00,820 - INFO - 檔案 lat_22.6_lon_120.4.csv 在 24 小時內已更新，跳過下載。\n",
      "2025-02-10 20:16:00,824 - INFO - 檔案 lat_22.7_lon_120.4.csv 在 24 小時內已更新，跳過下載。\n",
      "2025-02-10 20:16:00,827 - INFO - 檔案 lat_22.8_lon_120.4.csv 在 24 小時內已更新，跳過下載。\n",
      "2025-02-10 20:16:00,857 - INFO - 檔案 lat_22.9_lon_120.4.csv 在 24 小時內已更新，跳過下載。\n",
      "2025-02-10 20:16:00,859 - INFO - 檔案 lat_23.0_lon_120.4.csv 在 24 小時內已更新，跳過下載。\n",
      "2025-02-10 20:16:00,860 - INFO - 檔案 lat_23.1_lon_120.4.csv 在 24 小時內已更新，跳過下載。\n",
      "2025-02-10 20:16:00,861 - INFO - 檔案 lat_23.2_lon_120.4.csv 在 24 小時內已更新，跳過下載。\n",
      "2025-02-10 20:16:00,863 - INFO - 檔案 lat_23.3_lon_120.4.csv 在 24 小時內已更新，跳過下載。\n",
      "2025-02-10 20:16:00,864 - INFO - 檔案 lat_23.4_lon_120.4.csv 在 24 小時內已更新，跳過下載。\n",
      "2025-02-10 20:16:00,865 - INFO - 檔案 lat_23.5_lon_120.4.csv 在 24 小時內已更新，跳過下載。\n",
      "2025-02-10 20:16:00,867 - INFO - 檔案 lat_23.6_lon_120.4.csv 在 24 小時內已更新，跳過下載。\n",
      "2025-02-10 20:16:00,868 - INFO - 檔案 lat_23.7_lon_120.4.csv 在 24 小時內已更新，跳過下載。\n",
      "2025-02-10 20:16:00,877 - INFO - 檔案 lat_23.8_lon_120.4.csv 在 24 小時內已更新，跳過下載。\n",
      "2025-02-10 20:16:00,879 - INFO - 檔案 lat_23.9_lon_120.4.csv 在 24 小時內已更新，跳過下載。\n",
      "2025-02-10 20:16:00,880 - INFO - 檔案 lat_24.0_lon_120.4.csv 在 24 小時內已更新，跳過下載。\n",
      "2025-02-10 20:16:00,882 - INFO - 檔案 lat_22.5_lon_120.5.csv 在 24 小時內已更新，跳過下載。\n",
      "2025-02-10 20:16:00,884 - INFO - 檔案 lat_22.6_lon_120.5.csv 在 24 小時內已更新，跳過下載。\n",
      "2025-02-10 20:16:00,885 - INFO - 檔案 lat_22.7_lon_120.5.csv 在 24 小時內已更新，跳過下載。\n",
      "2025-02-10 20:16:00,887 - INFO - 檔案 lat_22.8_lon_120.5.csv 在 24 小時內已更新，跳過下載。\n",
      "2025-02-10 20:16:00,891 - INFO - 檔案 lat_22.9_lon_120.5.csv 在 24 小時內已更新，跳過下載。\n",
      "2025-02-10 20:16:00,893 - INFO - 檔案 lat_23.0_lon_120.5.csv 在 24 小時內已更新，跳過下載。\n",
      "2025-02-10 20:16:00,894 - INFO - 檔案 lat_23.1_lon_120.5.csv 在 24 小時內已更新，跳過下載。\n",
      "2025-02-10 20:16:00,896 - INFO - 檔案 lat_23.2_lon_120.5.csv 在 24 小時內已更新，跳過下載。\n",
      "2025-02-10 20:16:00,897 - INFO - 檔案 lat_23.3_lon_120.5.csv 在 24 小時內已更新，跳過下載。\n",
      "2025-02-10 20:16:00,898 - INFO - 檔案 lat_23.4_lon_120.5.csv 在 24 小時內已更新，跳過下載。\n",
      "2025-02-10 20:16:00,899 - INFO - 檔案 lat_23.5_lon_120.5.csv 在 24 小時內已更新，跳過下載。\n",
      "2025-02-10 20:16:00,900 - INFO - 檔案 lat_23.6_lon_120.5.csv 在 24 小時內已更新，跳過下載。\n",
      "2025-02-10 20:16:00,901 - INFO - 檔案 lat_23.7_lon_120.5.csv 在 24 小時內已更新，跳過下載。\n",
      "2025-02-10 20:16:00,902 - INFO - 檔案 lat_23.8_lon_120.5.csv 在 24 小時內已更新，跳過下載。\n",
      "2025-02-10 20:16:00,904 - INFO - 檔案 lat_23.9_lon_120.5.csv 在 24 小時內已更新，跳過下載。\n",
      "2025-02-10 20:16:00,908 - INFO - 檔案 lat_24.0_lon_120.5.csv 在 24 小時內已更新，跳過下載。\n",
      "2025-02-10 20:16:00,909 - INFO - 檔案 lat_24.1_lon_120.5.csv 在 24 小時內已更新，跳過下載。\n",
      "2025-02-10 20:16:00,910 - INFO - 檔案 lat_24.2_lon_120.5.csv 在 24 小時內已更新，跳過下載。\n",
      "2025-02-10 20:16:00,912 - INFO - 檔案 lat_22.4_lon_120.6.csv 在 24 小時內已更新，跳過下載。\n",
      "2025-02-10 20:16:00,913 - INFO - 檔案 lat_22.5_lon_120.6.csv 在 24 小時內已更新，跳過下載。\n",
      "2025-02-10 20:16:00,914 - INFO - 檔案 lat_22.6_lon_120.6.csv 在 24 小時內已更新，跳過下載。\n",
      "2025-02-10 20:16:00,915 - INFO - 檔案 lat_22.7_lon_120.6.csv 在 24 小時內已更新，跳過下載。\n",
      "2025-02-10 20:16:00,916 - INFO - 檔案 lat_22.8_lon_120.6.csv 在 24 小時內已更新，跳過下載。\n",
      "2025-02-10 20:16:00,917 - INFO - 檔案 lat_22.9_lon_120.6.csv 在 24 小時內已更新，跳過下載。\n",
      "2025-02-10 20:16:00,918 - INFO - 檔案 lat_23.0_lon_120.6.csv 在 24 小時內已更新，跳過下載。\n",
      "2025-02-10 20:16:00,919 - INFO - 檔案 lat_23.1_lon_120.6.csv 在 24 小時內已更新，跳過下載。\n",
      "2025-02-10 20:16:00,922 - INFO - 檔案 lat_23.2_lon_120.6.csv 在 24 小時內已更新，跳過下載。\n",
      "2025-02-10 20:16:00,925 - INFO - 檔案 lat_23.3_lon_120.6.csv 在 24 小時內已更新，跳過下載。\n",
      "2025-02-10 20:16:00,926 - INFO - 檔案 lat_23.4_lon_120.6.csv 在 24 小時內已更新，跳過下載。\n",
      "2025-02-10 20:16:00,927 - INFO - 檔案 lat_23.5_lon_120.6.csv 在 24 小時內已更新，跳過下載。\n",
      "2025-02-10 20:16:00,928 - INFO - 檔案 lat_23.6_lon_120.6.csv 在 24 小時內已更新，跳過下載。\n",
      "2025-02-10 20:16:00,929 - INFO - 檔案 lat_23.7_lon_120.6.csv 在 24 小時內已更新，跳過下載。\n",
      "2025-02-10 20:16:00,931 - INFO - 檔案 lat_23.8_lon_120.6.csv 在 24 小時內已更新，跳過下載。\n",
      "2025-02-10 20:16:00,932 - INFO - 檔案 lat_23.9_lon_120.6.csv 在 24 小時內已更新，跳過下載。\n",
      "2025-02-10 20:16:00,933 - INFO - 檔案 lat_24.0_lon_120.6.csv 在 24 小時內已更新，跳過下載。\n",
      "2025-02-10 20:16:00,934 - INFO - 檔案 lat_24.1_lon_120.6.csv 在 24 小時內已更新，跳過下載。\n",
      "2025-02-10 20:16:00,935 - INFO - 檔案 lat_24.2_lon_120.6.csv 在 24 小時內已更新，跳過下載。\n",
      "2025-02-10 20:16:00,936 - INFO - 檔案 lat_24.3_lon_120.6.csv 在 24 小時內已更新，跳過下載。\n",
      "2025-02-10 20:16:00,937 - INFO - 檔案 lat_24.4_lon_120.6.csv 在 24 小時內已更新，跳過下載。\n",
      "2025-02-10 20:16:00,941 - INFO - 檔案 lat_22.0_lon_120.7.csv 在 24 小時內已更新，跳過下載。\n",
      "2025-02-10 20:16:00,943 - INFO - 檔案 lat_22.2_lon_120.7.csv 在 24 小時內已更新，跳過下載。\n",
      "2025-02-10 20:16:00,944 - INFO - 檔案 lat_22.3_lon_120.7.csv 在 24 小時內已更新，跳過下載。\n",
      "2025-02-10 20:16:00,945 - INFO - 檔案 lat_22.4_lon_120.7.csv 在 24 小時內已更新，跳過下載。\n",
      "2025-02-10 20:16:00,946 - INFO - 檔案 lat_22.5_lon_120.7.csv 在 24 小時內已更新，跳過下載。\n",
      "2025-02-10 20:16:00,947 - INFO - 檔案 lat_22.6_lon_120.7.csv 在 24 小時內已更新，跳過下載。\n",
      "2025-02-10 20:16:00,948 - INFO - 檔案 lat_22.7_lon_120.7.csv 在 24 小時內已更新，跳過下載。\n",
      "2025-02-10 20:16:00,949 - INFO - 檔案 lat_22.8_lon_120.7.csv 在 24 小時內已更新，跳過下載。\n",
      "2025-02-10 20:16:00,950 - INFO - 檔案 lat_22.9_lon_120.7.csv 在 24 小時內已更新，跳過下載。\n",
      "2025-02-10 20:16:00,952 - INFO - 檔案 lat_23.0_lon_120.7.csv 在 24 小時內已更新，跳過下載。\n",
      "2025-02-10 20:16:00,955 - INFO - 檔案 lat_23.1_lon_120.7.csv 在 24 小時內已更新，跳過下載。\n",
      "2025-02-10 20:16:00,961 - INFO - 檔案 lat_23.2_lon_120.7.csv 在 24 小時內已更新，跳過下載。\n",
      "2025-02-10 20:16:00,962 - INFO - 檔案 lat_23.3_lon_120.7.csv 在 24 小時內已更新，跳過下載。\n",
      "2025-02-10 20:16:00,963 - INFO - 檔案 lat_23.4_lon_120.7.csv 在 24 小時內已更新，跳過下載。\n",
      "2025-02-10 20:16:00,965 - INFO - 檔案 lat_23.5_lon_120.7.csv 在 24 小時內已更新，跳過下載。\n",
      "2025-02-10 20:16:00,966 - INFO - 檔案 lat_23.6_lon_120.7.csv 在 24 小時內已更新，跳過下載。\n",
      "2025-02-10 20:16:00,967 - INFO - 檔案 lat_23.7_lon_120.7.csv 在 24 小時內已更新，跳過下載。\n",
      "2025-02-10 20:16:00,968 - INFO - 檔案 lat_23.8_lon_120.7.csv 在 24 小時內已更新，跳過下載。\n",
      "2025-02-10 20:16:00,969 - INFO - 檔案 lat_23.9_lon_120.7.csv 在 24 小時內已更新，跳過下載。\n",
      "2025-02-10 20:16:00,970 - INFO - 檔案 lat_24.0_lon_120.7.csv 在 24 小時內已更新，跳過下載。\n",
      "2025-02-10 20:16:00,973 - INFO - 檔案 lat_24.1_lon_120.7.csv 在 24 小時內已更新，跳過下載。\n",
      "2025-02-10 20:16:00,976 - INFO - 檔案 lat_24.2_lon_120.7.csv 在 24 小時內已更新，跳過下載。\n",
      "2025-02-10 20:16:00,977 - INFO - 檔案 lat_24.3_lon_120.7.csv 在 24 小時內已更新，跳過下載。\n",
      "2025-02-10 20:16:00,979 - INFO - 檔案 lat_24.4_lon_120.7.csv 在 24 小時內已更新，跳過下載。\n",
      "2025-02-10 20:16:00,980 - INFO - 檔案 lat_24.5_lon_120.7.csv 在 24 小時內已更新，跳過下載。\n",
      "2025-02-10 20:16:00,981 - INFO - 檔案 lat_22.0_lon_120.8.csv 在 24 小時內已更新，跳過下載。\n",
      "2025-02-10 20:16:00,982 - INFO - 檔案 lat_22.1_lon_120.8.csv 在 24 小時內已更新，跳過下載。\n",
      "2025-02-10 20:16:00,983 - INFO - 檔案 lat_22.2_lon_120.8.csv 在 24 小時內已更新，跳過下載。\n",
      "2025-02-10 20:16:00,984 - INFO - 檔案 lat_22.3_lon_120.8.csv 在 24 小時內已更新，跳過下載。\n",
      "2025-02-10 20:16:00,985 - INFO - 檔案 lat_22.4_lon_120.8.csv 在 24 小時內已更新，跳過下載。\n",
      "2025-02-10 20:16:00,986 - INFO - 檔案 lat_22.5_lon_120.8.csv 在 24 小時內已更新，跳過下載。\n",
      "2025-02-10 20:16:00,991 - INFO - 檔案 lat_22.6_lon_120.8.csv 在 24 小時內已更新，跳過下載。\n",
      "2025-02-10 20:16:00,993 - INFO - 檔案 lat_22.7_lon_120.8.csv 在 24 小時內已更新，跳過下載。\n",
      "2025-02-10 20:16:00,994 - INFO - 檔案 lat_22.8_lon_120.8.csv 在 24 小時內已更新，跳過下載。\n",
      "2025-02-10 20:16:00,995 - INFO - 檔案 lat_22.9_lon_120.8.csv 在 24 小時內已更新，跳過下載。\n",
      "2025-02-10 20:16:00,996 - INFO - 檔案 lat_23.0_lon_120.8.csv 在 24 小時內已更新，跳過下載。\n",
      "2025-02-10 20:16:00,997 - INFO - 檔案 lat_23.1_lon_120.8.csv 在 24 小時內已更新，跳過下載。\n",
      "2025-02-10 20:16:00,998 - INFO - 檔案 lat_23.2_lon_120.8.csv 在 24 小時內已更新，跳過下載。\n",
      "2025-02-10 20:16:00,999 - INFO - 檔案 lat_23.3_lon_120.8.csv 在 24 小時內已更新，跳過下載。\n",
      "2025-02-10 20:16:01,000 - INFO - 檔案 lat_23.4_lon_120.8.csv 在 24 小時內已更新，跳過下載。\n",
      "2025-02-10 20:16:01,001 - INFO - 檔案 lat_23.5_lon_120.8.csv 在 24 小時內已更新，跳過下載。\n",
      "2025-02-10 20:16:01,002 - INFO - 檔案 lat_23.6_lon_120.8.csv 在 24 小時內已更新，跳過下載。\n",
      "2025-02-10 20:16:01,008 - INFO - 檔案 lat_23.7_lon_120.8.csv 在 24 小時內已更新，跳過下載。\n",
      "2025-02-10 20:16:01,010 - INFO - 檔案 lat_23.8_lon_120.8.csv 在 24 小時內已更新，跳過下載。\n",
      "2025-02-10 20:16:01,011 - INFO - 檔案 lat_23.9_lon_120.8.csv 在 24 小時內已更新，跳過下載。\n",
      "2025-02-10 20:16:01,012 - INFO - 檔案 lat_24.0_lon_120.8.csv 在 24 小時內已更新，跳過下載。\n",
      "2025-02-10 20:16:01,013 - INFO - 檔案 lat_24.1_lon_120.8.csv 在 24 小時內已更新，跳過下載。\n",
      "2025-02-10 20:16:01,014 - INFO - 檔案 lat_24.2_lon_120.8.csv 在 24 小時內已更新，跳過下載。\n",
      "2025-02-10 20:16:01,015 - INFO - 檔案 lat_24.3_lon_120.8.csv 在 24 小時內已更新，跳過下載。\n",
      "2025-02-10 20:16:01,016 - INFO - 檔案 lat_24.4_lon_120.8.csv 在 24 小時內已更新，跳過下載。\n",
      "2025-02-10 20:16:01,017 - INFO - 檔案 lat_24.5_lon_120.8.csv 在 24 小時內已更新，跳過下載。\n",
      "2025-02-10 20:16:01,018 - INFO - 檔案 lat_24.6_lon_120.8.csv 在 24 小時內已更新，跳過下載。\n",
      "2025-02-10 20:16:01,019 - INFO - 檔案 lat_22.4_lon_120.9.csv 在 24 小時內已更新，跳過下載。\n",
      "2025-02-10 20:16:01,020 - INFO - 檔案 lat_22.5_lon_120.9.csv 在 24 小時內已更新，跳過下載。\n",
      "2025-02-10 20:16:01,024 - INFO - 檔案 lat_22.6_lon_120.9.csv 在 24 小時內已更新，跳過下載。\n",
      "2025-02-10 20:16:01,025 - INFO - 檔案 lat_22.7_lon_120.9.csv 在 24 小時內已更新，跳過下載。\n",
      "2025-02-10 20:16:01,026 - INFO - 檔案 lat_22.8_lon_120.9.csv 在 24 小時內已更新，跳過下載。\n",
      "2025-02-10 20:16:01,028 - INFO - 檔案 lat_22.9_lon_120.9.csv 在 24 小時內已更新，跳過下載。\n",
      "2025-02-10 20:16:01,028 - INFO - 檔案 lat_23.0_lon_120.9.csv 在 24 小時內已更新，跳過下載。\n",
      "2025-02-10 20:16:01,029 - INFO - 檔案 lat_23.1_lon_120.9.csv 在 24 小時內已更新，跳過下載。\n",
      "2025-02-10 20:16:01,030 - INFO - 檔案 lat_23.2_lon_120.9.csv 在 24 小時內已更新，跳過下載。\n",
      "2025-02-10 20:16:01,031 - INFO - 檔案 lat_23.3_lon_120.9.csv 在 24 小時內已更新，跳過下載。\n",
      "2025-02-10 20:16:01,032 - INFO - 檔案 lat_23.4_lon_120.9.csv 在 24 小時內已更新，跳過下載。\n",
      "2025-02-10 20:16:01,033 - INFO - 檔案 lat_23.5_lon_120.9.csv 在 24 小時內已更新，跳過下載。\n",
      "2025-02-10 20:16:01,034 - INFO - 檔案 lat_23.6_lon_120.9.csv 在 24 小時內已更新，跳過下載。\n",
      "2025-02-10 20:16:01,035 - INFO - 檔案 lat_23.7_lon_120.9.csv 在 24 小時內已更新，跳過下載。\n",
      "2025-02-10 20:16:01,037 - INFO - 檔案 lat_23.8_lon_120.9.csv 在 24 小時內已更新，跳過下載。\n",
      "2025-02-10 20:16:01,041 - INFO - 檔案 lat_23.9_lon_120.9.csv 在 24 小時內已更新，跳過下載。\n",
      "2025-02-10 20:16:01,042 - INFO - 檔案 lat_24.0_lon_120.9.csv 在 24 小時內已更新，跳過下載。\n",
      "2025-02-10 20:16:01,043 - INFO - 檔案 lat_24.1_lon_120.9.csv 在 24 小時內已更新，跳過下載。\n",
      "2025-02-10 20:16:01,044 - INFO - 檔案 lat_24.2_lon_120.9.csv 在 24 小時內已更新，跳過下載。\n",
      "2025-02-10 20:16:01,046 - INFO - 檔案 lat_24.3_lon_120.9.csv 在 24 小時內已更新，跳過下載。\n",
      "2025-02-10 20:16:01,047 - INFO - 檔案 lat_24.4_lon_120.9.csv 在 24 小時內已更新，跳過下載。\n",
      "2025-02-10 20:16:01,048 - INFO - 檔案 lat_24.5_lon_120.9.csv 在 24 小時內已更新，跳過下載。\n",
      "2025-02-10 20:16:01,049 - INFO - 檔案 lat_24.6_lon_120.9.csv 在 24 小時內已更新，跳過下載。\n",
      "2025-02-10 20:16:01,050 - INFO - 檔案 lat_24.7_lon_120.9.csv 在 24 小時內已更新，跳過下載。\n",
      "2025-02-10 20:16:01,051 - INFO - 檔案 lat_22.6_lon_121.0.csv 在 24 小時內已更新，跳過下載。\n",
      "2025-02-10 20:16:01,052 - INFO - 檔案 lat_22.7_lon_121.0.csv 在 24 小時內已更新，跳過下載。\n",
      "2025-02-10 20:16:01,055 - INFO - 檔案 lat_22.8_lon_121.0.csv 在 24 小時內已更新，跳過下載。\n",
      "2025-02-10 20:16:01,083 - INFO - 檔案 lat_22.9_lon_121.0.csv 在 24 小時內已更新，跳過下載。\n",
      "2025-02-10 20:16:01,085 - INFO - 檔案 lat_23.0_lon_121.0.csv 在 24 小時內已更新，跳過下載。\n",
      "2025-02-10 20:16:01,086 - INFO - 檔案 lat_23.1_lon_121.0.csv 在 24 小時內已更新，跳過下載。\n",
      "2025-02-10 20:16:01,095 - INFO - 檔案 lat_23.2_lon_121.0.csv 在 24 小時內已更新，跳過下載。\n",
      "2025-02-10 20:16:01,097 - INFO - 檔案 lat_23.3_lon_121.0.csv 在 24 小時內已更新，跳過下載。\n",
      "2025-02-10 20:16:01,099 - INFO - 檔案 lat_23.4_lon_121.0.csv 在 24 小時內已更新，跳過下載。\n",
      "2025-02-10 20:16:01,101 - INFO - 檔案 lat_23.5_lon_121.0.csv 在 24 小時內已更新，跳過下載。\n",
      "2025-02-10 20:16:01,102 - INFO - 檔案 lat_23.6_lon_121.0.csv 在 24 小時內已更新，跳過下載。\n",
      "2025-02-10 20:16:01,103 - INFO - 檔案 lat_23.7_lon_121.0.csv 在 24 小時內已更新，跳過下載。\n",
      "2025-02-10 20:16:01,108 - INFO - 檔案 lat_23.8_lon_121.0.csv 在 24 小時內已更新，跳過下載。\n",
      "2025-02-10 20:16:01,109 - INFO - 檔案 lat_23.9_lon_121.0.csv 在 24 小時內已更新，跳過下載。\n",
      "2025-02-10 20:16:01,111 - INFO - 檔案 lat_24.0_lon_121.0.csv 在 24 小時內已更新，跳過下載。\n",
      "2025-02-10 20:16:01,112 - INFO - 檔案 lat_24.1_lon_121.0.csv 在 24 小時內已更新，跳過下載。\n",
      "2025-02-10 20:16:01,113 - INFO - 檔案 lat_24.2_lon_121.0.csv 在 24 小時內已更新，跳過下載。\n",
      "2025-02-10 20:16:01,115 - INFO - 檔案 lat_24.3_lon_121.0.csv 在 24 小時內已更新，跳過下載。\n",
      "2025-02-10 20:16:01,116 - INFO - 檔案 lat_24.4_lon_121.0.csv 在 24 小時內已更新，跳過下載。\n",
      "2025-02-10 20:16:01,117 - INFO - 檔案 lat_24.5_lon_121.0.csv 在 24 小時內已更新，跳過下載。\n",
      "2025-02-10 20:16:01,119 - INFO - 檔案 lat_24.6_lon_121.0.csv 在 24 小時內已更新，跳過下載。\n",
      "2025-02-10 20:16:01,124 - INFO - 檔案 lat_24.7_lon_121.0.csv 在 24 小時內已更新，跳過下載。\n",
      "2025-02-10 20:16:01,126 - INFO - 檔案 lat_24.8_lon_121.0.csv 在 24 小時內已更新，跳過下載。\n",
      "2025-02-10 20:16:01,128 - INFO - 檔案 lat_24.9_lon_121.0.csv 在 24 小時內已更新，跳過下載。\n",
      "2025-02-10 20:16:01,129 - INFO - 檔案 lat_22.7_lon_121.1.csv 在 24 小時內已更新，跳過下載。\n",
      "2025-02-10 20:16:01,131 - INFO - 檔案 lat_22.8_lon_121.1.csv 在 24 小時內已更新，跳過下載。\n",
      "2025-02-10 20:16:01,132 - INFO - 檔案 lat_22.9_lon_121.1.csv 在 24 小時內已更新，跳過下載。\n",
      "2025-02-10 20:16:01,133 - INFO - 檔案 lat_23.0_lon_121.1.csv 在 24 小時內已更新，跳過下載。\n",
      "2025-02-10 20:16:01,134 - INFO - 檔案 lat_23.1_lon_121.1.csv 在 24 小時內已更新，跳過下載。\n",
      "2025-02-10 20:16:01,136 - INFO - 檔案 lat_23.2_lon_121.1.csv 在 24 小時內已更新，跳過下載。\n",
      "2025-02-10 20:16:01,138 - INFO - 檔案 lat_23.3_lon_121.1.csv 在 24 小時內已更新，跳過下載。\n",
      "2025-02-10 20:16:01,142 - INFO - 檔案 lat_23.4_lon_121.1.csv 在 24 小時內已更新，跳過下載。\n",
      "2025-02-10 20:16:01,143 - INFO - 檔案 lat_23.5_lon_121.1.csv 在 24 小時內已更新，跳過下載。\n",
      "2025-02-10 20:16:01,144 - INFO - 檔案 lat_23.6_lon_121.1.csv 在 24 小時內已更新，跳過下載。\n",
      "2025-02-10 20:16:01,145 - INFO - 檔案 lat_23.7_lon_121.1.csv 在 24 小時內已更新，跳過下載。\n",
      "2025-02-10 20:16:01,146 - INFO - 檔案 lat_23.8_lon_121.1.csv 在 24 小時內已更新，跳過下載。\n",
      "2025-02-10 20:16:01,147 - INFO - 檔案 lat_23.9_lon_121.1.csv 在 24 小時內已更新，跳過下載。\n",
      "2025-02-10 20:16:01,148 - INFO - 檔案 lat_24.0_lon_121.1.csv 在 24 小時內已更新，跳過下載。\n",
      "2025-02-10 20:16:01,150 - INFO - 檔案 lat_24.1_lon_121.1.csv 在 24 小時內已更新，跳過下載。\n",
      "2025-02-10 20:16:01,151 - INFO - 檔案 lat_24.2_lon_121.1.csv 在 24 小時內已更新，跳過下載。\n",
      "2025-02-10 20:16:01,152 - INFO - 檔案 lat_24.3_lon_121.1.csv 在 24 小時內已更新，跳過下載。\n",
      "2025-02-10 20:16:01,153 - INFO - 檔案 lat_24.4_lon_121.1.csv 在 24 小時內已更新，跳過下載。\n",
      "2025-02-10 20:16:01,157 - INFO - 檔案 lat_24.5_lon_121.1.csv 在 24 小時內已更新，跳過下載。\n",
      "2025-02-10 20:16:01,159 - INFO - 檔案 lat_24.6_lon_121.1.csv 在 24 小時內已更新，跳過下載。\n",
      "2025-02-10 20:16:01,160 - INFO - 檔案 lat_24.7_lon_121.1.csv 在 24 小時內已更新，跳過下載。\n",
      "2025-02-10 20:16:01,161 - INFO - 檔案 lat_24.8_lon_121.1.csv 在 24 小時內已更新，跳過下載。\n",
      "2025-02-10 20:16:01,162 - INFO - 檔案 lat_24.9_lon_121.1.csv 在 24 小時內已更新，跳過下載。\n",
      "2025-02-10 20:16:01,163 - INFO - 檔案 lat_25.0_lon_121.1.csv 在 24 小時內已更新，跳過下載。\n",
      "2025-02-10 20:16:01,164 - INFO - 檔案 lat_22.9_lon_121.2.csv 在 24 小時內已更新，跳過下載。\n",
      "2025-02-10 20:16:01,165 - INFO - 檔案 lat_23.0_lon_121.2.csv 在 24 小時內已更新，跳過下載。\n",
      "2025-02-10 20:16:01,166 - INFO - 檔案 lat_23.1_lon_121.2.csv 在 24 小時內已更新，跳過下載。\n",
      "2025-02-10 20:16:01,167 - INFO - 檔案 lat_23.2_lon_121.2.csv 在 24 小時內已更新，跳過下載。\n",
      "2025-02-10 20:16:01,168 - INFO - 檔案 lat_23.3_lon_121.2.csv 在 24 小時內已更新，跳過下載。\n",
      "2025-02-10 20:16:01,169 - INFO - 檔案 lat_23.4_lon_121.2.csv 在 24 小時內已更新，跳過下載。\n",
      "2025-02-10 20:16:01,173 - INFO - 檔案 lat_23.5_lon_121.2.csv 在 24 小時內已更新，跳過下載。\n",
      "2025-02-10 20:16:01,175 - INFO - 檔案 lat_23.6_lon_121.2.csv 在 24 小時內已更新，跳過下載。\n",
      "2025-02-10 20:16:01,176 - INFO - 檔案 lat_23.7_lon_121.2.csv 在 24 小時內已更新，跳過下載。\n",
      "2025-02-10 20:16:01,177 - INFO - 檔案 lat_23.8_lon_121.2.csv 在 24 小時內已更新，跳過下載。\n",
      "2025-02-10 20:16:01,178 - INFO - 檔案 lat_23.9_lon_121.2.csv 在 24 小時內已更新，跳過下載。\n",
      "2025-02-10 20:16:01,179 - INFO - 檔案 lat_24.0_lon_121.2.csv 在 24 小時內已更新，跳過下載。\n",
      "2025-02-10 20:16:01,181 - INFO - 檔案 lat_24.1_lon_121.2.csv 在 24 小時內已更新，跳過下載。\n",
      "2025-02-10 20:16:01,182 - INFO - 檔案 lat_24.2_lon_121.2.csv 在 24 小時內已更新，跳過下載。\n",
      "2025-02-10 20:16:01,183 - INFO - 檔案 lat_24.3_lon_121.2.csv 在 24 小時內已更新，跳過下載。\n",
      "2025-02-10 20:16:01,184 - INFO - 檔案 lat_24.4_lon_121.2.csv 在 24 小時內已更新，跳過下載。\n",
      "2025-02-10 20:16:01,185 - INFO - 檔案 lat_24.5_lon_121.2.csv 在 24 小時內已更新，跳過下載。\n",
      "2025-02-10 20:16:01,186 - INFO - 檔案 lat_24.6_lon_121.2.csv 在 24 小時內已更新，跳過下載。\n",
      "2025-02-10 20:16:01,189 - INFO - 檔案 lat_24.7_lon_121.2.csv 在 24 小時內已更新，跳過下載。\n",
      "2025-02-10 20:16:01,191 - INFO - 檔案 lat_24.8_lon_121.2.csv 在 24 小時內已更新，跳過下載。\n",
      "2025-02-10 20:16:01,193 - INFO - 檔案 lat_24.9_lon_121.2.csv 在 24 小時內已更新，跳過下載。\n",
      "2025-02-10 20:16:01,194 - INFO - 檔案 lat_25.0_lon_121.2.csv 在 24 小時內已更新，跳過下載。\n",
      "2025-02-10 20:16:01,195 - INFO - 檔案 lat_25.1_lon_121.2.csv 在 24 小時內已更新，跳過下載。\n",
      "2025-02-10 20:16:01,196 - INFO - 檔案 lat_23.0_lon_121.3.csv 在 24 小時內已更新，跳過下載。\n",
      "2025-02-10 20:16:01,197 - INFO - 檔案 lat_23.1_lon_121.3.csv 在 24 小時內已更新，跳過下載。\n",
      "2025-02-10 20:16:01,198 - INFO - 檔案 lat_23.2_lon_121.3.csv 在 24 小時內已更新，跳過下載。\n",
      "2025-02-10 20:16:01,200 - INFO - 檔案 lat_23.3_lon_121.3.csv 在 24 小時內已更新，跳過下載。\n",
      "2025-02-10 20:16:01,201 - INFO - 檔案 lat_23.4_lon_121.3.csv 在 24 小時內已更新，跳過下載。\n",
      "2025-02-10 20:16:01,203 - INFO - 檔案 lat_23.5_lon_121.3.csv 在 24 小時內已更新，跳過下載。\n",
      "2025-02-10 20:16:01,207 - INFO - 檔案 lat_23.6_lon_121.3.csv 在 24 小時內已更新，跳過下載。\n",
      "2025-02-10 20:16:01,209 - INFO - 檔案 lat_23.7_lon_121.3.csv 在 24 小時內已更新，跳過下載。\n",
      "2025-02-10 20:16:01,210 - INFO - 檔案 lat_23.8_lon_121.3.csv 在 24 小時內已更新，跳過下載。\n",
      "2025-02-10 20:16:01,211 - INFO - 檔案 lat_23.9_lon_121.3.csv 在 24 小時內已更新，跳過下載。\n",
      "2025-02-10 20:16:01,212 - INFO - 檔案 lat_24.0_lon_121.3.csv 在 24 小時內已更新，跳過下載。\n",
      "2025-02-10 20:16:01,214 - INFO - 檔案 lat_24.1_lon_121.3.csv 在 24 小時內已更新，跳過下載。\n",
      "2025-02-10 20:16:01,215 - INFO - 檔案 lat_24.2_lon_121.3.csv 在 24 小時內已更新，跳過下載。\n",
      "2025-02-10 20:16:01,215 - INFO - 檔案 lat_24.3_lon_121.3.csv 在 24 小時內已更新，跳過下載。\n",
      "2025-02-10 20:16:01,216 - INFO - 檔案 lat_24.4_lon_121.3.csv 在 24 小時內已更新，跳過下載。\n",
      "2025-02-10 20:16:01,217 - INFO - 檔案 lat_24.5_lon_121.3.csv 在 24 小時內已更新，跳過下載。\n",
      "2025-02-10 20:16:01,245 - INFO - 檔案 lat_24.6_lon_121.3.csv 在 24 小時內已更新，跳過下載。\n",
      "2025-02-10 20:16:01,247 - INFO - 檔案 lat_24.7_lon_121.3.csv 在 24 小時內已更新，跳過下載。\n",
      "2025-02-10 20:16:01,249 - INFO - 檔案 lat_24.8_lon_121.3.csv 在 24 小時內已更新，跳過下載。\n",
      "2025-02-10 20:16:01,259 - INFO - 檔案 lat_24.9_lon_121.3.csv 在 24 小時內已更新，跳過下載。\n",
      "2025-02-10 20:16:01,261 - INFO - 檔案 lat_25.0_lon_121.3.csv 在 24 小時內已更新，跳過下載。\n",
      "2025-02-10 20:16:01,263 - INFO - 檔案 lat_25.1_lon_121.3.csv 在 24 小時內已更新，跳過下載。\n",
      "2025-02-10 20:16:01,264 - INFO - 檔案 lat_23.3_lon_121.4.csv 在 24 小時內已更新，跳過下載。\n",
      "2025-02-10 20:16:01,266 - INFO - 檔案 lat_23.4_lon_121.4.csv 在 24 小時內已更新，跳過下載。\n",
      "2025-02-10 20:16:01,267 - INFO - 檔案 lat_23.5_lon_121.4.csv 在 24 小時內已更新，跳過下載。\n",
      "2025-02-10 20:16:01,268 - INFO - 檔案 lat_23.6_lon_121.4.csv 在 24 小時內已更新，跳過下載。\n",
      "2025-02-10 20:16:01,270 - INFO - 檔案 lat_23.7_lon_121.4.csv 在 24 小時內已更新，跳過下載。\n",
      "2025-02-10 20:16:01,274 - INFO - 檔案 lat_23.8_lon_121.4.csv 在 24 小時內已更新，跳過下載。\n",
      "2025-02-10 20:16:01,276 - INFO - 檔案 lat_23.9_lon_121.4.csv 在 24 小時內已更新，跳過下載。\n",
      "2025-02-10 20:16:01,277 - INFO - 檔案 lat_24.0_lon_121.4.csv 在 24 小時內已更新，跳過下載。\n",
      "2025-02-10 20:16:01,278 - INFO - 檔案 lat_24.1_lon_121.4.csv 在 24 小時內已更新，跳過下載。\n",
      "2025-02-10 20:16:01,280 - INFO - 檔案 lat_24.2_lon_121.4.csv 在 24 小時內已更新，跳過下載。\n",
      "2025-02-10 20:16:01,281 - INFO - 檔案 lat_24.3_lon_121.4.csv 在 24 小時內已更新，跳過下載。\n",
      "2025-02-10 20:16:01,282 - INFO - 檔案 lat_24.4_lon_121.4.csv 在 24 小時內已更新，跳過下載。\n",
      "2025-02-10 20:16:01,283 - INFO - 檔案 lat_24.5_lon_121.4.csv 在 24 小時內已更新，跳過下載。\n",
      "2025-02-10 20:16:01,284 - INFO - 檔案 lat_24.6_lon_121.4.csv 在 24 小時內已更新，跳過下載。\n",
      "2025-02-10 20:16:01,285 - INFO - 檔案 lat_24.7_lon_121.4.csv 在 24 小時內已更新，跳過下載。\n",
      "2025-02-10 20:16:01,289 - INFO - 檔案 lat_24.8_lon_121.4.csv 在 24 小時內已更新，跳過下載。\n",
      "2025-02-10 20:16:01,291 - INFO - 檔案 lat_24.9_lon_121.4.csv 在 24 小時內已更新，跳過下載。\n",
      "2025-02-10 20:16:01,293 - INFO - 檔案 lat_25.0_lon_121.4.csv 在 24 小時內已更新，跳過下載。\n",
      "2025-02-10 20:16:01,294 - INFO - 檔案 lat_25.1_lon_121.4.csv 在 24 小時內已更新，跳過下載。\n",
      "2025-02-10 20:16:01,295 - INFO - 檔案 lat_23.6_lon_121.5.csv 在 24 小時內已更新，跳過下載。\n",
      "2025-02-10 20:16:01,296 - INFO - 檔案 lat_23.7_lon_121.5.csv 在 24 小時內已更新，跳過下載。\n",
      "2025-02-10 20:16:01,297 - INFO - 檔案 lat_23.8_lon_121.5.csv 在 24 小時內已更新，跳過下載。\n",
      "2025-02-10 20:16:01,299 - INFO - 檔案 lat_23.9_lon_121.5.csv 在 24 小時內已更新，跳過下載。\n",
      "2025-02-10 20:16:01,300 - INFO - 檔案 lat_24.0_lon_121.5.csv 在 24 小時內已更新，跳過下載。\n",
      "2025-02-10 20:16:01,301 - INFO - 檔案 lat_24.1_lon_121.5.csv 在 24 小時內已更新，跳過下載。\n",
      "2025-02-10 20:16:01,302 - INFO - 檔案 lat_24.2_lon_121.5.csv 在 24 小時內已更新，跳過下載。\n",
      "2025-02-10 20:16:01,305 - INFO - 檔案 lat_24.3_lon_121.5.csv 在 24 小時內已更新，跳過下載。\n",
      "2025-02-10 20:16:01,308 - INFO - 檔案 lat_24.4_lon_121.5.csv 在 24 小時內已更新，跳過下載。\n",
      "2025-02-10 20:16:01,309 - INFO - 檔案 lat_24.5_lon_121.5.csv 在 24 小時內已更新，跳過下載。\n",
      "2025-02-10 20:16:01,311 - INFO - 檔案 lat_24.6_lon_121.5.csv 在 24 小時內已更新，跳過下載。\n",
      "2025-02-10 20:16:01,312 - INFO - 檔案 lat_24.7_lon_121.5.csv 在 24 小時內已更新，跳過下載。\n",
      "2025-02-10 20:16:01,313 - INFO - 檔案 lat_24.8_lon_121.5.csv 在 24 小時內已更新，跳過下載。\n",
      "2025-02-10 20:16:01,314 - INFO - 檔案 lat_24.9_lon_121.5.csv 在 24 小時內已更新，跳過下載。\n",
      "2025-02-10 20:16:01,316 - INFO - 檔案 lat_25.0_lon_121.5.csv 在 24 小時內已更新，跳過下載。\n",
      "2025-02-10 20:16:01,317 - INFO - 檔案 lat_25.1_lon_121.5.csv 在 24 小時內已更新，跳過下載。\n",
      "2025-02-10 20:16:01,319 - INFO - 檔案 lat_25.2_lon_121.5.csv 在 24 小時內已更新，跳過下載。\n",
      "2025-02-10 20:16:01,320 - INFO - 檔案 lat_24.0_lon_121.6.csv 在 24 小時內已更新，跳過下載。\n",
      "2025-02-10 20:16:01,325 - INFO - 檔案 lat_24.1_lon_121.6.csv 在 24 小時內已更新，跳過下載。\n",
      "2025-02-10 20:16:01,331 - INFO - 檔案 lat_24.2_lon_121.6.csv 在 24 小時內已更新，跳過下載。\n",
      "2025-02-10 20:16:01,335 - INFO - 檔案 lat_24.3_lon_121.6.csv 在 24 小時內已更新，跳過下載。\n",
      "2025-02-10 20:16:01,341 - INFO - 檔案 lat_24.4_lon_121.6.csv 在 24 小時內已更新，跳過下載。\n",
      "2025-02-10 20:16:01,343 - INFO - 檔案 lat_24.5_lon_121.6.csv 在 24 小時內已更新，跳過下載。\n",
      "2025-02-10 20:16:01,345 - INFO - 檔案 lat_24.6_lon_121.6.csv 在 24 小時內已更新，跳過下載。\n",
      "2025-02-10 20:16:01,346 - INFO - 檔案 lat_24.7_lon_121.6.csv 在 24 小時內已更新，跳過下載。\n",
      "2025-02-10 20:16:01,348 - INFO - 檔案 lat_24.8_lon_121.6.csv 在 24 小時內已更新，跳過下載。\n",
      "2025-02-10 20:16:01,349 - INFO - 檔案 lat_24.9_lon_121.6.csv 在 24 小時內已更新，跳過下載。\n",
      "2025-02-10 20:16:01,350 - INFO - 檔案 lat_25.0_lon_121.6.csv 在 24 小時內已更新，跳過下載。\n",
      "2025-02-10 20:16:01,351 - INFO - 檔案 lat_25.1_lon_121.6.csv 在 24 小時內已更新，跳過下載。\n",
      "2025-02-10 20:16:01,353 - INFO - 檔案 lat_25.2_lon_121.6.csv 在 24 小時內已更新，跳過下載。\n",
      "2025-02-10 20:16:01,357 - INFO - 檔案 lat_24.3_lon_121.7.csv 在 24 小時內已更新，跳過下載。\n",
      "2025-02-10 20:16:01,359 - INFO - 檔案 lat_24.4_lon_121.7.csv 在 24 小時內已更新，跳過下載。\n",
      "2025-02-10 20:16:01,360 - INFO - 檔案 lat_24.5_lon_121.7.csv 在 24 小時內已更新，跳過下載。\n",
      "2025-02-10 20:16:01,361 - INFO - 檔案 lat_24.6_lon_121.7.csv 在 24 小時內已更新，跳過下載。\n",
      "2025-02-10 20:16:01,362 - INFO - 檔案 lat_24.7_lon_121.7.csv 在 24 小時內已更新，跳過下載。\n",
      "2025-02-10 20:16:01,364 - INFO - 檔案 lat_24.8_lon_121.7.csv 在 24 小時內已更新，跳過下載。\n",
      "2025-02-10 20:16:01,366 - INFO - 檔案 lat_24.9_lon_121.7.csv 在 24 小時內已更新，跳過下載。\n",
      "2025-02-10 20:16:01,371 - INFO - 檔案 lat_25.0_lon_121.7.csv 在 24 小時內已更新，跳過下載。\n",
      "2025-02-10 20:16:01,374 - INFO - 檔案 lat_25.1_lon_121.7.csv 在 24 小時內已更新，跳過下載。\n",
      "2025-02-10 20:16:01,375 - INFO - 檔案 lat_24.5_lon_121.8.csv 在 24 小時內已更新，跳過下載。\n",
      "2025-02-10 20:16:01,377 - INFO - 檔案 lat_24.6_lon_121.8.csv 在 24 小時內已更新，跳過下載。\n",
      "2025-02-10 20:16:01,378 - INFO - 檔案 lat_24.7_lon_121.8.csv 在 24 小時內已更新，跳過下載。\n",
      "2025-02-10 20:16:01,380 - INFO - 檔案 lat_24.8_lon_121.8.csv 在 24 小時內已更新，跳過下載。\n",
      "2025-02-10 20:16:01,385 - INFO - 檔案 lat_24.9_lon_121.8.csv 在 24 小時內已更新，跳過下載。\n",
      "2025-02-10 20:16:01,387 - INFO - 檔案 lat_25.0_lon_121.8.csv 在 24 小時內已更新，跳過下載。\n",
      "2025-02-10 20:16:01,394 - INFO - 檔案 lat_25.1_lon_121.8.csv 在 24 小時內已更新，跳過下載。\n",
      "2025-02-10 20:16:01,395 - INFO - 檔案 lat_25.0_lon_121.9.csv 在 24 小時內已更新，跳過下載。\n",
      "2025-02-10 20:16:01,397 - INFO - 檔案 lat_25.1_lon_121.9.csv 在 24 小時內已更新，跳過下載。\n",
      "2025-02-10 20:16:01,398 - INFO - 氣象資料更新完成。\n"
     ]
    }
   ],
   "source": [
    "logging.info(\"開始更新氣象資料...\")\n",
    "update_weather_data(forecast_days=16)\n",
    "logging.info(\"氣象資料更新完成。\")"
   ]
  },
  {
   "cell_type": "code",
   "execution_count": 4,
   "metadata": {},
   "outputs": [
    {
     "name": "stderr",
     "output_type": "stream",
     "text": [
      "2025-02-10 20:16:03,836 - INFO - 開始依氣象資料進行預報...\n",
      "2025-02-10 20:16:03,837 - INFO - 開始讀取預先訓練的模型...\n",
      "2025-02-10 20:16:03,837 - INFO - 開始讀取預先訓練的模型...\n",
      "2025-02-10 20:16:04,725 - INFO - 成功讀取模型：cf_glm_model\n",
      "2025-02-10 20:16:04,734 - INFO - 成功讀取模型：cf_lda_model\n",
      "2025-02-10 20:16:04,755 - INFO - 成功讀取模型：cf_nn_model\n",
      "c:\\Users\\allen\\.conda\\envs\\termite_model\\lib\\site-packages\\sklearn\\base.py:380: InconsistentVersionWarning: Trying to unpickle estimator LabelBinarizer from version 1.5.1 when using version 1.6.1. This might lead to breaking code or invalid results. Use at your own risk. For more info please refer to:\n",
      "https://scikit-learn.org/stable/model_persistence.html#security-maintainability-limitations\n",
      "  warnings.warn(\n",
      "c:\\Users\\allen\\.conda\\envs\\termite_model\\lib\\site-packages\\sklearn\\base.py:380: InconsistentVersionWarning: Trying to unpickle estimator MLPClassifier from version 1.5.1 when using version 1.6.1. This might lead to breaking code or invalid results. Use at your own risk. For more info please refer to:\n",
      "https://scikit-learn.org/stable/model_persistence.html#security-maintainability-limitations\n",
      "  warnings.warn(\n",
      "2025-02-10 20:16:04,765 - INFO - 成功讀取模型：cf_nn_nn_model\n",
      "2025-02-10 20:16:04,867 - INFO - 成功讀取模型：cf_rf_model\n",
      "2025-02-10 20:16:04,881 - INFO - 成功讀取模型：cf_svm_model\n",
      "2025-02-10 20:16:04,886 - INFO - 成功讀取模型：cg_glm_model\n",
      "2025-02-10 20:16:04,891 - INFO - 成功讀取模型：cg_lda_model\n",
      "2025-02-10 20:16:04,904 - INFO - 成功讀取模型：cg_nn_model\n",
      "2025-02-10 20:16:04,926 - INFO - 成功讀取模型：cg_rf_model\n",
      "2025-02-10 20:16:04,936 - INFO - 成功讀取模型：cg_svm_model\n",
      "2025-02-10 20:16:04,948 - INFO - 找到 322 個氣象資料檔案。\n",
      "2025-02-10 20:16:04,997 - INFO - 處理檔案：./weather_data_tmp\\lat_25.2_lon_119.2.csv，共 55 筆資料。\n",
      "2025-02-10 20:16:06,740 - INFO - 處理檔案：./weather_data_tmp\\lat_25.3_lon_119.2.csv，共 55 筆資料。\n",
      "2025-02-10 20:16:09,099 - INFO - 處理檔案：./weather_data_tmp\\lat_25.3_lon_119.3.csv，共 55 筆資料。\n",
      "2025-02-10 20:16:11,892 - INFO - 處理檔案：./weather_data_tmp\\lat_23.6_lon_119.5.csv，共 55 筆資料。\n",
      "2025-02-10 20:16:15,142 - INFO - 處理檔案：./weather_data_tmp\\lat_25.2_lon_119.5.csv，共 55 筆資料。\n",
      "2025-02-10 20:16:20,497 - INFO - 處理檔案：./weather_data_tmp\\lat_23.6_lon_119.6.csv，共 55 筆資料。\n",
      "2025-02-10 20:16:23,170 - INFO - 處理檔案：./weather_data_tmp\\lat_23.1_lon_120.1.csv，共 55 筆資料。\n",
      "2025-02-10 20:16:28,347 - INFO - 處理檔案：./weather_data_tmp\\lat_23.2_lon_120.1.csv，共 55 筆資料。\n",
      "2025-02-10 20:16:31,956 - INFO - 處理檔案：./weather_data_tmp\\lat_22.9_lon_120.2.csv，共 55 筆資料。\n",
      "2025-02-10 20:16:35,218 - INFO - 處理檔案：./weather_data_tmp\\lat_23.0_lon_120.2.csv，共 55 筆資料。\n",
      "2025-02-10 20:16:37,690 - INFO - 處理檔案：./weather_data_tmp\\lat_23.1_lon_120.2.csv，共 55 筆資料。\n",
      "2025-02-10 20:16:40,538 - INFO - 處理檔案：./weather_data_tmp\\lat_23.2_lon_120.2.csv，共 55 筆資料。\n",
      "2025-02-10 20:16:43,224 - INFO - 處理檔案：./weather_data_tmp\\lat_23.3_lon_120.2.csv，共 55 筆資料。\n",
      "2025-02-10 20:16:45,526 - INFO - 處理檔案：./weather_data_tmp\\lat_23.4_lon_120.2.csv，共 55 筆資料。\n",
      "2025-02-10 20:16:48,260 - INFO - 處理檔案：./weather_data_tmp\\lat_23.5_lon_120.2.csv，共 55 筆資料。\n",
      "2025-02-10 20:16:50,946 - INFO - 處理檔案：./weather_data_tmp\\lat_23.6_lon_120.2.csv，共 55 筆資料。\n",
      "2025-02-10 20:16:54,108 - INFO - 處理檔案：./weather_data_tmp\\lat_23.7_lon_120.2.csv，共 55 筆資料。\n",
      "2025-02-10 20:16:57,861 - INFO - 處理檔案：./weather_data_tmp\\lat_22.6_lon_120.3.csv，共 55 筆資料。\n",
      "2025-02-10 20:17:01,550 - INFO - 處理檔案：./weather_data_tmp\\lat_22.7_lon_120.3.csv，共 55 筆資料。\n",
      "2025-02-10 20:17:04,390 - INFO - 處理檔案：./weather_data_tmp\\lat_22.8_lon_120.3.csv，共 55 筆資料。\n",
      "2025-02-10 20:17:07,236 - INFO - 處理檔案：./weather_data_tmp\\lat_22.9_lon_120.3.csv，共 55 筆資料。\n",
      "2025-02-10 20:17:12,177 - INFO - 處理檔案：./weather_data_tmp\\lat_23.0_lon_120.3.csv，共 55 筆資料。\n",
      "2025-02-10 20:17:19,605 - INFO - 處理檔案：./weather_data_tmp\\lat_23.1_lon_120.3.csv，共 55 筆資料。\n",
      "2025-02-10 20:17:26,749 - INFO - 處理檔案：./weather_data_tmp\\lat_23.2_lon_120.3.csv，共 55 筆資料。\n",
      "2025-02-10 20:17:32,639 - INFO - 處理檔案：./weather_data_tmp\\lat_23.3_lon_120.3.csv，共 55 筆資料。\n",
      "2025-02-10 20:17:36,061 - INFO - 處理檔案：./weather_data_tmp\\lat_23.4_lon_120.3.csv，共 55 筆資料。\n",
      "2025-02-10 20:17:39,163 - INFO - 處理檔案：./weather_data_tmp\\lat_23.5_lon_120.3.csv，共 55 筆資料。\n",
      "2025-02-10 20:17:41,852 - INFO - 處理檔案：./weather_data_tmp\\lat_23.6_lon_120.3.csv，共 55 筆資料。\n",
      "2025-02-10 20:17:45,425 - INFO - 處理檔案：./weather_data_tmp\\lat_23.7_lon_120.3.csv，共 55 筆資料。\n",
      "2025-02-10 20:17:48,083 - INFO - 處理檔案：./weather_data_tmp\\lat_23.8_lon_120.3.csv，共 55 筆資料。\n",
      "2025-02-10 20:17:50,211 - INFO - 處理檔案：./weather_data_tmp\\lat_23.9_lon_120.3.csv，共 55 筆資料。\n",
      "2025-02-10 20:17:52,464 - INFO - 處理檔案：./weather_data_tmp\\lat_22.5_lon_120.4.csv，共 55 筆資料。\n",
      "2025-02-10 20:17:54,894 - INFO - 處理檔案：./weather_data_tmp\\lat_22.6_lon_120.4.csv，共 55 筆資料。\n",
      "2025-02-10 20:17:58,580 - INFO - 處理檔案：./weather_data_tmp\\lat_22.7_lon_120.4.csv，共 55 筆資料。\n",
      "2025-02-10 20:18:03,251 - INFO - 處理檔案：./weather_data_tmp\\lat_22.8_lon_120.4.csv，共 55 筆資料。\n",
      "2025-02-10 20:18:06,754 - INFO - 處理檔案：./weather_data_tmp\\lat_22.9_lon_120.4.csv，共 55 筆資料。\n",
      "2025-02-10 20:18:10,876 - INFO - 處理檔案：./weather_data_tmp\\lat_23.0_lon_120.4.csv，共 55 筆資料。\n",
      "2025-02-10 20:18:13,474 - INFO - 處理檔案：./weather_data_tmp\\lat_23.1_lon_120.4.csv，共 55 筆資料。\n",
      "2025-02-10 20:18:15,861 - INFO - 處理檔案：./weather_data_tmp\\lat_23.2_lon_120.4.csv，共 55 筆資料。\n",
      "2025-02-10 20:18:18,451 - INFO - 處理檔案：./weather_data_tmp\\lat_23.3_lon_120.4.csv，共 55 筆資料。\n",
      "2025-02-10 20:18:20,897 - INFO - 處理檔案：./weather_data_tmp\\lat_23.4_lon_120.4.csv，共 55 筆資料。\n",
      "2025-02-10 20:18:23,289 - INFO - 處理檔案：./weather_data_tmp\\lat_23.5_lon_120.4.csv，共 55 筆資料。\n",
      "2025-02-10 20:18:28,191 - INFO - 處理檔案：./weather_data_tmp\\lat_23.6_lon_120.4.csv，共 55 筆資料。\n",
      "2025-02-10 20:18:30,994 - INFO - 處理檔案：./weather_data_tmp\\lat_23.7_lon_120.4.csv，共 55 筆資料。\n",
      "2025-02-10 20:18:33,076 - INFO - 處理檔案：./weather_data_tmp\\lat_23.8_lon_120.4.csv，共 55 筆資料。\n",
      "2025-02-10 20:18:35,288 - INFO - 處理檔案：./weather_data_tmp\\lat_23.9_lon_120.4.csv，共 55 筆資料。\n",
      "2025-02-10 20:18:37,428 - INFO - 處理檔案：./weather_data_tmp\\lat_24.0_lon_120.4.csv，共 55 筆資料。\n",
      "2025-02-10 20:18:40,217 - INFO - 處理檔案：./weather_data_tmp\\lat_22.5_lon_120.5.csv，共 55 筆資料。\n",
      "2025-02-10 20:18:42,536 - INFO - 處理檔案：./weather_data_tmp\\lat_22.6_lon_120.5.csv，共 55 筆資料。\n",
      "2025-02-10 20:18:44,707 - INFO - 處理檔案：./weather_data_tmp\\lat_22.7_lon_120.5.csv，共 55 筆資料。\n",
      "2025-02-10 20:18:47,019 - INFO - 處理檔案：./weather_data_tmp\\lat_22.8_lon_120.5.csv，共 55 筆資料。\n",
      "2025-02-10 20:18:49,796 - INFO - 處理檔案：./weather_data_tmp\\lat_22.9_lon_120.5.csv，共 55 筆資料。\n",
      "2025-02-10 20:18:52,359 - INFO - 處理檔案：./weather_data_tmp\\lat_23.0_lon_120.5.csv，共 55 筆資料。\n",
      "2025-02-10 20:18:54,968 - INFO - 處理檔案：./weather_data_tmp\\lat_23.1_lon_120.5.csv，共 55 筆資料。\n",
      "2025-02-10 20:18:57,559 - INFO - 處理檔案：./weather_data_tmp\\lat_23.2_lon_120.5.csv，共 55 筆資料。\n",
      "2025-02-10 20:18:59,792 - INFO - 處理檔案：./weather_data_tmp\\lat_23.3_lon_120.5.csv，共 55 筆資料。\n",
      "2025-02-10 20:19:02,177 - INFO - 處理檔案：./weather_data_tmp\\lat_23.4_lon_120.5.csv，共 55 筆資料。\n",
      "2025-02-10 20:19:04,400 - INFO - 處理檔案：./weather_data_tmp\\lat_23.5_lon_120.5.csv，共 55 筆資料。\n",
      "2025-02-10 20:19:07,242 - INFO - 處理檔案：./weather_data_tmp\\lat_23.6_lon_120.5.csv，共 55 筆資料。\n",
      "2025-02-10 20:19:10,296 - INFO - 處理檔案：./weather_data_tmp\\lat_23.7_lon_120.5.csv，共 55 筆資料。\n",
      "2025-02-10 20:19:13,899 - INFO - 處理檔案：./weather_data_tmp\\lat_23.8_lon_120.5.csv，共 55 筆資料。\n",
      "2025-02-10 20:19:16,092 - INFO - 處理檔案：./weather_data_tmp\\lat_23.9_lon_120.5.csv，共 55 筆資料。\n",
      "2025-02-10 20:19:18,449 - INFO - 處理檔案：./weather_data_tmp\\lat_24.0_lon_120.5.csv，共 55 筆資料。\n",
      "2025-02-10 20:19:20,615 - INFO - 處理檔案：./weather_data_tmp\\lat_24.1_lon_120.5.csv，共 55 筆資料。\n",
      "2025-02-10 20:19:22,770 - INFO - 處理檔案：./weather_data_tmp\\lat_24.2_lon_120.5.csv，共 55 筆資料。\n",
      "2025-02-10 20:19:25,721 - INFO - 處理檔案：./weather_data_tmp\\lat_22.4_lon_120.6.csv，共 55 筆資料。\n",
      "2025-02-10 20:19:32,213 - INFO - 處理檔案：./weather_data_tmp\\lat_22.5_lon_120.6.csv，共 55 筆資料。\n",
      "2025-02-10 20:19:34,808 - INFO - 處理檔案：./weather_data_tmp\\lat_22.6_lon_120.6.csv，共 55 筆資料。\n",
      "2025-02-10 20:19:36,916 - INFO - 處理檔案：./weather_data_tmp\\lat_22.7_lon_120.6.csv，共 55 筆資料。\n",
      "2025-02-10 20:19:38,890 - INFO - 處理檔案：./weather_data_tmp\\lat_22.8_lon_120.6.csv，共 55 筆資料。\n",
      "2025-02-10 20:19:40,974 - INFO - 處理檔案：./weather_data_tmp\\lat_22.9_lon_120.6.csv，共 55 筆資料。\n",
      "2025-02-10 20:19:42,942 - INFO - 處理檔案：./weather_data_tmp\\lat_23.0_lon_120.6.csv，共 55 筆資料。\n",
      "2025-02-10 20:19:45,085 - INFO - 處理檔案：./weather_data_tmp\\lat_23.1_lon_120.6.csv，共 55 筆資料。\n",
      "2025-02-10 20:19:46,995 - INFO - 處理檔案：./weather_data_tmp\\lat_23.2_lon_120.6.csv，共 55 筆資料。\n",
      "2025-02-10 20:19:49,072 - INFO - 處理檔案：./weather_data_tmp\\lat_23.3_lon_120.6.csv，共 55 筆資料。\n",
      "2025-02-10 20:19:51,007 - INFO - 處理檔案：./weather_data_tmp\\lat_23.4_lon_120.6.csv，共 55 筆資料。\n",
      "2025-02-10 20:19:53,325 - INFO - 處理檔案：./weather_data_tmp\\lat_23.5_lon_120.6.csv，共 55 筆資料。\n",
      "2025-02-10 20:19:55,813 - INFO - 處理檔案：./weather_data_tmp\\lat_23.6_lon_120.6.csv，共 55 筆資料。\n",
      "2025-02-10 20:19:57,909 - INFO - 處理檔案：./weather_data_tmp\\lat_23.7_lon_120.6.csv，共 55 筆資料。\n",
      "2025-02-10 20:19:59,884 - INFO - 處理檔案：./weather_data_tmp\\lat_23.8_lon_120.6.csv，共 55 筆資料。\n",
      "2025-02-10 20:20:01,930 - INFO - 處理檔案：./weather_data_tmp\\lat_23.9_lon_120.6.csv，共 55 筆資料。\n",
      "2025-02-10 20:20:03,972 - INFO - 處理檔案：./weather_data_tmp\\lat_24.0_lon_120.6.csv，共 55 筆資料。\n",
      "2025-02-10 20:20:05,932 - INFO - 處理檔案：./weather_data_tmp\\lat_24.1_lon_120.6.csv，共 55 筆資料。\n",
      "2025-02-10 20:20:08,042 - INFO - 處理檔案：./weather_data_tmp\\lat_24.2_lon_120.6.csv，共 55 筆資料。\n",
      "2025-02-10 20:20:09,991 - INFO - 處理檔案：./weather_data_tmp\\lat_24.3_lon_120.6.csv，共 55 筆資料。\n",
      "2025-02-10 20:20:12,062 - INFO - 處理檔案：./weather_data_tmp\\lat_24.4_lon_120.6.csv，共 55 筆資料。\n",
      "2025-02-10 20:20:14,088 - INFO - 處理檔案：./weather_data_tmp\\lat_22.0_lon_120.7.csv，共 55 筆資料。\n",
      "2025-02-10 20:20:16,303 - INFO - 處理檔案：./weather_data_tmp\\lat_22.2_lon_120.7.csv，共 55 筆資料。\n",
      "2025-02-10 20:20:18,545 - INFO - 處理檔案：./weather_data_tmp\\lat_22.3_lon_120.7.csv，共 55 筆資料。\n",
      "2025-02-10 20:20:20,682 - INFO - 處理檔案：./weather_data_tmp\\lat_22.4_lon_120.7.csv，共 55 筆資料。\n",
      "2025-02-10 20:20:22,678 - INFO - 處理檔案：./weather_data_tmp\\lat_22.5_lon_120.7.csv，共 55 筆資料。\n",
      "2025-02-10 20:20:24,758 - INFO - 處理檔案：./weather_data_tmp\\lat_22.6_lon_120.7.csv，共 55 筆資料。\n",
      "2025-02-10 20:20:26,826 - INFO - 處理檔案：./weather_data_tmp\\lat_22.7_lon_120.7.csv，共 55 筆資料。\n",
      "2025-02-10 20:20:28,869 - INFO - 處理檔案：./weather_data_tmp\\lat_22.8_lon_120.7.csv，共 55 筆資料。\n",
      "2025-02-10 20:20:30,908 - INFO - 處理檔案：./weather_data_tmp\\lat_22.9_lon_120.7.csv，共 55 筆資料。\n",
      "2025-02-10 20:20:33,004 - INFO - 處理檔案：./weather_data_tmp\\lat_23.0_lon_120.7.csv，共 55 筆資料。\n",
      "2025-02-10 20:20:34,911 - INFO - 處理檔案：./weather_data_tmp\\lat_23.1_lon_120.7.csv，共 55 筆資料。\n",
      "2025-02-10 20:20:37,044 - INFO - 處理檔案：./weather_data_tmp\\lat_23.2_lon_120.7.csv，共 55 筆資料。\n",
      "2025-02-10 20:20:39,016 - INFO - 處理檔案：./weather_data_tmp\\lat_23.3_lon_120.7.csv，共 55 筆資料。\n",
      "2025-02-10 20:20:41,750 - INFO - 處理檔案：./weather_data_tmp\\lat_23.4_lon_120.7.csv，共 55 筆資料。\n",
      "2025-02-10 20:20:43,690 - INFO - 處理檔案：./weather_data_tmp\\lat_23.5_lon_120.7.csv，共 55 筆資料。\n",
      "2025-02-10 20:20:45,741 - INFO - 處理檔案：./weather_data_tmp\\lat_23.6_lon_120.7.csv，共 55 筆資料。\n",
      "2025-02-10 20:20:47,637 - INFO - 處理檔案：./weather_data_tmp\\lat_23.7_lon_120.7.csv，共 55 筆資料。\n",
      "2025-02-10 20:20:49,637 - INFO - 處理檔案：./weather_data_tmp\\lat_23.8_lon_120.7.csv，共 55 筆資料。\n",
      "2025-02-10 20:20:51,564 - INFO - 處理檔案：./weather_data_tmp\\lat_23.9_lon_120.7.csv，共 55 筆資料。\n",
      "2025-02-10 20:20:53,608 - INFO - 處理檔案：./weather_data_tmp\\lat_24.0_lon_120.7.csv，共 55 筆資料。\n",
      "2025-02-10 20:20:55,629 - INFO - 處理檔案：./weather_data_tmp\\lat_24.1_lon_120.7.csv，共 55 筆資料。\n",
      "2025-02-10 20:20:58,030 - INFO - 處理檔案：./weather_data_tmp\\lat_24.2_lon_120.7.csv，共 55 筆資料。\n",
      "2025-02-10 20:21:00,432 - INFO - 處理檔案：./weather_data_tmp\\lat_24.3_lon_120.7.csv，共 55 筆資料。\n",
      "2025-02-10 20:21:02,402 - INFO - 處理檔案：./weather_data_tmp\\lat_24.4_lon_120.7.csv，共 55 筆資料。\n",
      "2025-02-10 20:21:04,366 - INFO - 處理檔案：./weather_data_tmp\\lat_24.5_lon_120.7.csv，共 55 筆資料。\n",
      "2025-02-10 20:21:06,349 - INFO - 處理檔案：./weather_data_tmp\\lat_22.0_lon_120.8.csv，共 55 筆資料。\n",
      "2025-02-10 20:21:08,261 - INFO - 處理檔案：./weather_data_tmp\\lat_22.1_lon_120.8.csv，共 55 筆資料。\n",
      "2025-02-10 20:21:10,281 - INFO - 處理檔案：./weather_data_tmp\\lat_22.2_lon_120.8.csv，共 55 筆資料。\n",
      "2025-02-10 20:21:12,199 - INFO - 處理檔案：./weather_data_tmp\\lat_22.3_lon_120.8.csv，共 55 筆資料。\n",
      "2025-02-10 20:21:14,217 - INFO - 處理檔案：./weather_data_tmp\\lat_22.4_lon_120.8.csv，共 55 筆資料。\n",
      "2025-02-10 20:21:16,248 - INFO - 處理檔案：./weather_data_tmp\\lat_22.5_lon_120.8.csv，共 55 筆資料。\n",
      "2025-02-10 20:21:18,499 - INFO - 處理檔案：./weather_data_tmp\\lat_22.6_lon_120.8.csv，共 55 筆資料。\n",
      "2025-02-10 20:21:20,562 - INFO - 處理檔案：./weather_data_tmp\\lat_22.7_lon_120.8.csv，共 55 筆資料。\n",
      "2025-02-10 20:21:22,765 - INFO - 處理檔案：./weather_data_tmp\\lat_22.8_lon_120.8.csv，共 55 筆資料。\n",
      "2025-02-10 20:21:24,957 - INFO - 處理檔案：./weather_data_tmp\\lat_22.9_lon_120.8.csv，共 55 筆資料。\n",
      "2025-02-10 20:21:26,996 - INFO - 處理檔案：./weather_data_tmp\\lat_23.0_lon_120.8.csv，共 55 筆資料。\n",
      "2025-02-10 20:21:29,002 - INFO - 處理檔案：./weather_data_tmp\\lat_23.1_lon_120.8.csv，共 55 筆資料。\n",
      "2025-02-10 20:21:30,973 - INFO - 處理檔案：./weather_data_tmp\\lat_23.2_lon_120.8.csv，共 55 筆資料。\n",
      "2025-02-10 20:21:32,939 - INFO - 處理檔案：./weather_data_tmp\\lat_23.3_lon_120.8.csv，共 55 筆資料。\n",
      "2025-02-10 20:21:34,967 - INFO - 處理檔案：./weather_data_tmp\\lat_23.4_lon_120.8.csv，共 55 筆資料。\n",
      "2025-02-10 20:21:36,909 - INFO - 處理檔案：./weather_data_tmp\\lat_23.5_lon_120.8.csv，共 55 筆資料。\n",
      "2025-02-10 20:21:38,902 - INFO - 處理檔案：./weather_data_tmp\\lat_23.6_lon_120.8.csv，共 55 筆資料。\n",
      "2025-02-10 20:21:40,889 - INFO - 處理檔案：./weather_data_tmp\\lat_23.7_lon_120.8.csv，共 55 筆資料。\n",
      "2025-02-10 20:21:42,955 - INFO - 處理檔案：./weather_data_tmp\\lat_23.8_lon_120.8.csv，共 55 筆資料。\n",
      "2025-02-10 20:21:44,919 - INFO - 處理檔案：./weather_data_tmp\\lat_23.9_lon_120.8.csv，共 55 筆資料。\n",
      "2025-02-10 20:21:46,977 - INFO - 處理檔案：./weather_data_tmp\\lat_24.0_lon_120.8.csv，共 55 筆資料。\n",
      "2025-02-10 20:21:48,895 - INFO - 處理檔案：./weather_data_tmp\\lat_24.1_lon_120.8.csv，共 55 筆資料。\n",
      "2025-02-10 20:21:50,919 - INFO - 處理檔案：./weather_data_tmp\\lat_24.2_lon_120.8.csv，共 55 筆資料。\n",
      "2025-02-10 20:21:52,795 - INFO - 處理檔案：./weather_data_tmp\\lat_24.3_lon_120.8.csv，共 55 筆資料。\n",
      "2025-02-10 20:21:54,805 - INFO - 處理檔案：./weather_data_tmp\\lat_24.4_lon_120.8.csv，共 55 筆資料。\n",
      "2025-02-10 20:21:56,716 - INFO - 處理檔案：./weather_data_tmp\\lat_24.5_lon_120.8.csv，共 55 筆資料。\n",
      "2025-02-10 20:21:58,711 - INFO - 處理檔案：./weather_data_tmp\\lat_24.6_lon_120.8.csv，共 55 筆資料。\n",
      "2025-02-10 20:22:00,745 - INFO - 處理檔案：./weather_data_tmp\\lat_22.4_lon_120.9.csv，共 55 筆資料。\n",
      "2025-02-10 20:22:03,181 - INFO - 處理檔案：./weather_data_tmp\\lat_22.5_lon_120.9.csv，共 55 筆資料。\n",
      "2025-02-10 20:22:05,437 - INFO - 處理檔案：./weather_data_tmp\\lat_22.6_lon_120.9.csv，共 55 筆資料。\n",
      "2025-02-10 20:22:07,350 - INFO - 處理檔案：./weather_data_tmp\\lat_22.7_lon_120.9.csv，共 55 筆資料。\n",
      "2025-02-10 20:22:09,357 - INFO - 處理檔案：./weather_data_tmp\\lat_22.8_lon_120.9.csv，共 55 筆資料。\n",
      "2025-02-10 20:22:11,340 - INFO - 處理檔案：./weather_data_tmp\\lat_22.9_lon_120.9.csv，共 55 筆資料。\n",
      "2025-02-10 20:22:13,249 - INFO - 處理檔案：./weather_data_tmp\\lat_23.0_lon_120.9.csv，共 55 筆資料。\n",
      "2025-02-10 20:22:15,305 - INFO - 處理檔案：./weather_data_tmp\\lat_23.1_lon_120.9.csv，共 55 筆資料。\n",
      "2025-02-10 20:22:17,246 - INFO - 處理檔案：./weather_data_tmp\\lat_23.2_lon_120.9.csv，共 55 筆資料。\n",
      "2025-02-10 20:22:19,332 - INFO - 處理檔案：./weather_data_tmp\\lat_23.3_lon_120.9.csv，共 55 筆資料。\n",
      "2025-02-10 20:22:21,257 - INFO - 處理檔案：./weather_data_tmp\\lat_23.4_lon_120.9.csv，共 55 筆資料。\n",
      "2025-02-10 20:22:23,314 - INFO - 處理檔案：./weather_data_tmp\\lat_23.5_lon_120.9.csv，共 55 筆資料。\n",
      "2025-02-10 20:22:25,294 - INFO - 處理檔案：./weather_data_tmp\\lat_23.6_lon_120.9.csv，共 55 筆資料。\n",
      "2025-02-10 20:22:30,402 - INFO - 處理檔案：./weather_data_tmp\\lat_23.7_lon_120.9.csv，共 55 筆資料。\n",
      "2025-02-10 20:22:36,213 - INFO - 處理檔案：./weather_data_tmp\\lat_23.8_lon_120.9.csv，共 55 筆資料。\n",
      "2025-02-10 20:22:38,680 - INFO - 處理檔案：./weather_data_tmp\\lat_23.9_lon_120.9.csv，共 55 筆資料。\n",
      "2025-02-10 20:22:40,956 - INFO - 處理檔案：./weather_data_tmp\\lat_24.0_lon_120.9.csv，共 55 筆資料。\n",
      "2025-02-10 20:22:43,385 - INFO - 處理檔案：./weather_data_tmp\\lat_24.1_lon_120.9.csv，共 55 筆資料。\n",
      "2025-02-10 20:22:45,635 - INFO - 處理檔案：./weather_data_tmp\\lat_24.2_lon_120.9.csv，共 55 筆資料。\n",
      "2025-02-10 20:22:48,184 - INFO - 處理檔案：./weather_data_tmp\\lat_24.3_lon_120.9.csv，共 55 筆資料。\n",
      "2025-02-10 20:22:50,389 - INFO - 處理檔案：./weather_data_tmp\\lat_24.4_lon_120.9.csv，共 55 筆資料。\n",
      "2025-02-10 20:22:52,527 - INFO - 處理檔案：./weather_data_tmp\\lat_24.5_lon_120.9.csv，共 55 筆資料。\n",
      "2025-02-10 20:22:54,658 - INFO - 處理檔案：./weather_data_tmp\\lat_24.6_lon_120.9.csv，共 55 筆資料。\n",
      "2025-02-10 20:22:57,187 - INFO - 處理檔案：./weather_data_tmp\\lat_24.7_lon_120.9.csv，共 55 筆資料。\n",
      "2025-02-10 20:22:59,475 - INFO - 處理檔案：./weather_data_tmp\\lat_22.6_lon_121.0.csv，共 55 筆資料。\n",
      "2025-02-10 20:23:01,658 - INFO - 處理檔案：./weather_data_tmp\\lat_22.7_lon_121.0.csv，共 55 筆資料。\n",
      "2025-02-10 20:23:03,802 - INFO - 處理檔案：./weather_data_tmp\\lat_22.8_lon_121.0.csv，共 55 筆資料。\n",
      "2025-02-10 20:23:06,417 - INFO - 處理檔案：./weather_data_tmp\\lat_22.9_lon_121.0.csv，共 55 筆資料。\n",
      "2025-02-10 20:23:08,886 - INFO - 處理檔案：./weather_data_tmp\\lat_23.0_lon_121.0.csv，共 55 筆資料。\n",
      "2025-02-10 20:23:11,109 - INFO - 處理檔案：./weather_data_tmp\\lat_23.1_lon_121.0.csv，共 55 筆資料。\n",
      "2025-02-10 20:23:13,198 - INFO - 處理檔案：./weather_data_tmp\\lat_23.2_lon_121.0.csv，共 55 筆資料。\n",
      "2025-02-10 20:23:15,294 - INFO - 處理檔案：./weather_data_tmp\\lat_23.3_lon_121.0.csv，共 55 筆資料。\n",
      "2025-02-10 20:23:17,436 - INFO - 處理檔案：./weather_data_tmp\\lat_23.4_lon_121.0.csv，共 55 筆資料。\n",
      "2025-02-10 20:23:19,538 - INFO - 處理檔案：./weather_data_tmp\\lat_23.5_lon_121.0.csv，共 55 筆資料。\n",
      "2025-02-10 20:23:21,519 - INFO - 處理檔案：./weather_data_tmp\\lat_23.6_lon_121.0.csv，共 55 筆資料。\n",
      "2025-02-10 20:23:23,493 - INFO - 處理檔案：./weather_data_tmp\\lat_23.7_lon_121.0.csv，共 55 筆資料。\n",
      "2025-02-10 20:23:25,495 - INFO - 處理檔案：./weather_data_tmp\\lat_23.8_lon_121.0.csv，共 55 筆資料。\n",
      "2025-02-10 20:23:27,645 - INFO - 處理檔案：./weather_data_tmp\\lat_23.9_lon_121.0.csv，共 55 筆資料。\n",
      "2025-02-10 20:23:29,608 - INFO - 處理檔案：./weather_data_tmp\\lat_24.0_lon_121.0.csv，共 55 筆資料。\n",
      "2025-02-10 20:23:31,684 - INFO - 處理檔案：./weather_data_tmp\\lat_24.1_lon_121.0.csv，共 55 筆資料。\n",
      "2025-02-10 20:23:34,012 - INFO - 處理檔案：./weather_data_tmp\\lat_24.2_lon_121.0.csv，共 55 筆資料。\n",
      "2025-02-10 20:23:36,259 - INFO - 處理檔案：./weather_data_tmp\\lat_24.3_lon_121.0.csv，共 55 筆資料。\n",
      "2025-02-10 20:23:39,125 - INFO - 處理檔案：./weather_data_tmp\\lat_24.4_lon_121.0.csv，共 55 筆資料。\n",
      "2025-02-10 20:23:45,566 - INFO - 處理檔案：./weather_data_tmp\\lat_24.5_lon_121.0.csv，共 55 筆資料。\n",
      "2025-02-10 20:23:50,545 - INFO - 處理檔案：./weather_data_tmp\\lat_24.6_lon_121.0.csv，共 55 筆資料。\n",
      "2025-02-10 20:23:53,106 - INFO - 處理檔案：./weather_data_tmp\\lat_24.7_lon_121.0.csv，共 55 筆資料。\n",
      "2025-02-10 20:23:55,274 - INFO - 處理檔案：./weather_data_tmp\\lat_24.8_lon_121.0.csv，共 55 筆資料。\n",
      "2025-02-10 20:23:57,548 - INFO - 處理檔案：./weather_data_tmp\\lat_24.9_lon_121.0.csv，共 55 筆資料。\n",
      "2025-02-10 20:23:59,765 - INFO - 處理檔案：./weather_data_tmp\\lat_22.7_lon_121.1.csv，共 55 筆資料。\n",
      "2025-02-10 20:24:01,696 - INFO - 處理檔案：./weather_data_tmp\\lat_22.8_lon_121.1.csv，共 55 筆資料。\n",
      "2025-02-10 20:24:03,564 - INFO - 處理檔案：./weather_data_tmp\\lat_22.9_lon_121.1.csv，共 55 筆資料。\n",
      "2025-02-10 20:24:05,575 - INFO - 處理檔案：./weather_data_tmp\\lat_23.0_lon_121.1.csv，共 55 筆資料。\n",
      "2025-02-10 20:24:07,417 - INFO - 處理檔案：./weather_data_tmp\\lat_23.1_lon_121.1.csv，共 55 筆資料。\n",
      "2025-02-10 20:24:09,449 - INFO - 處理檔案：./weather_data_tmp\\lat_23.2_lon_121.1.csv，共 55 筆資料。\n",
      "2025-02-10 20:24:12,366 - INFO - 處理檔案：./weather_data_tmp\\lat_23.3_lon_121.1.csv，共 55 筆資料。\n",
      "2025-02-10 20:24:14,585 - INFO - 處理檔案：./weather_data_tmp\\lat_23.4_lon_121.1.csv，共 55 筆資料。\n",
      "2025-02-10 20:24:16,614 - INFO - 處理檔案：./weather_data_tmp\\lat_23.5_lon_121.1.csv，共 55 筆資料。\n",
      "2025-02-10 20:24:18,844 - INFO - 處理檔案：./weather_data_tmp\\lat_23.6_lon_121.1.csv，共 55 筆資料。\n",
      "2025-02-10 20:24:20,982 - INFO - 處理檔案：./weather_data_tmp\\lat_23.7_lon_121.1.csv，共 55 筆資料。\n",
      "2025-02-10 20:24:23,046 - INFO - 處理檔案：./weather_data_tmp\\lat_23.8_lon_121.1.csv，共 55 筆資料。\n",
      "2025-02-10 20:24:25,629 - INFO - 處理檔案：./weather_data_tmp\\lat_23.9_lon_121.1.csv，共 55 筆資料。\n",
      "2025-02-10 20:24:27,676 - INFO - 處理檔案：./weather_data_tmp\\lat_24.0_lon_121.1.csv，共 55 筆資料。\n",
      "2025-02-10 20:24:29,667 - INFO - 處理檔案：./weather_data_tmp\\lat_24.1_lon_121.1.csv，共 55 筆資料。\n",
      "2025-02-10 20:24:31,700 - INFO - 處理檔案：./weather_data_tmp\\lat_24.2_lon_121.1.csv，共 55 筆資料。\n",
      "2025-02-10 20:24:33,734 - INFO - 處理檔案：./weather_data_tmp\\lat_24.3_lon_121.1.csv，共 55 筆資料。\n",
      "2025-02-10 20:24:36,097 - INFO - 處理檔案：./weather_data_tmp\\lat_24.4_lon_121.1.csv，共 55 筆資料。\n",
      "2025-02-10 20:24:38,479 - INFO - 處理檔案：./weather_data_tmp\\lat_24.5_lon_121.1.csv，共 55 筆資料。\n",
      "2025-02-10 20:24:41,232 - INFO - 處理檔案：./weather_data_tmp\\lat_24.6_lon_121.1.csv，共 55 筆資料。\n",
      "2025-02-10 20:24:43,753 - INFO - 處理檔案：./weather_data_tmp\\lat_24.7_lon_121.1.csv，共 55 筆資料。\n",
      "2025-02-10 20:24:46,264 - INFO - 處理檔案：./weather_data_tmp\\lat_24.8_lon_121.1.csv，共 55 筆資料。\n",
      "2025-02-10 20:24:50,576 - INFO - 處理檔案：./weather_data_tmp\\lat_24.9_lon_121.1.csv，共 55 筆資料。\n",
      "2025-02-10 20:24:56,144 - INFO - 處理檔案：./weather_data_tmp\\lat_25.0_lon_121.1.csv，共 55 筆資料。\n",
      "2025-02-10 20:24:59,476 - INFO - 處理檔案：./weather_data_tmp\\lat_22.9_lon_121.2.csv，共 55 筆資料。\n",
      "2025-02-10 20:25:02,024 - INFO - 處理檔案：./weather_data_tmp\\lat_23.0_lon_121.2.csv，共 55 筆資料。\n",
      "2025-02-10 20:25:04,161 - INFO - 處理檔案：./weather_data_tmp\\lat_23.1_lon_121.2.csv，共 55 筆資料。\n",
      "2025-02-10 20:25:07,936 - INFO - 處理檔案：./weather_data_tmp\\lat_23.2_lon_121.2.csv，共 55 筆資料。\n",
      "2025-02-10 20:25:10,711 - INFO - 處理檔案：./weather_data_tmp\\lat_23.3_lon_121.2.csv，共 55 筆資料。\n",
      "2025-02-10 20:25:12,893 - INFO - 處理檔案：./weather_data_tmp\\lat_23.4_lon_121.2.csv，共 55 筆資料。\n",
      "2025-02-10 20:25:15,400 - INFO - 處理檔案：./weather_data_tmp\\lat_23.5_lon_121.2.csv，共 55 筆資料。\n",
      "2025-02-10 20:25:17,880 - INFO - 處理檔案：./weather_data_tmp\\lat_23.6_lon_121.2.csv，共 55 筆資料。\n",
      "2025-02-10 20:25:19,964 - INFO - 處理檔案：./weather_data_tmp\\lat_23.7_lon_121.2.csv，共 55 筆資料。\n",
      "2025-02-10 20:25:22,106 - INFO - 處理檔案：./weather_data_tmp\\lat_23.8_lon_121.2.csv，共 55 筆資料。\n",
      "2025-02-10 20:25:24,269 - INFO - 處理檔案：./weather_data_tmp\\lat_23.9_lon_121.2.csv，共 55 筆資料。\n",
      "2025-02-10 20:25:26,354 - INFO - 處理檔案：./weather_data_tmp\\lat_24.0_lon_121.2.csv，共 55 筆資料。\n",
      "2025-02-10 20:25:28,605 - INFO - 處理檔案：./weather_data_tmp\\lat_24.1_lon_121.2.csv，共 55 筆資料。\n",
      "2025-02-10 20:25:30,653 - INFO - 處理檔案：./weather_data_tmp\\lat_24.2_lon_121.2.csv，共 55 筆資料。\n",
      "2025-02-10 20:25:32,642 - INFO - 處理檔案：./weather_data_tmp\\lat_24.3_lon_121.2.csv，共 55 筆資料。\n",
      "2025-02-10 20:25:34,597 - INFO - 處理檔案：./weather_data_tmp\\lat_24.4_lon_121.2.csv，共 55 筆資料。\n",
      "2025-02-10 20:25:36,889 - INFO - 處理檔案：./weather_data_tmp\\lat_24.5_lon_121.2.csv，共 55 筆資料。\n",
      "2025-02-10 20:25:38,852 - INFO - 處理檔案：./weather_data_tmp\\lat_24.6_lon_121.2.csv，共 55 筆資料。\n",
      "2025-02-10 20:25:41,168 - INFO - 處理檔案：./weather_data_tmp\\lat_24.7_lon_121.2.csv，共 55 筆資料。\n",
      "2025-02-10 20:25:43,243 - INFO - 處理檔案：./weather_data_tmp\\lat_24.8_lon_121.2.csv，共 55 筆資料。\n",
      "2025-02-10 20:25:45,527 - INFO - 處理檔案：./weather_data_tmp\\lat_24.9_lon_121.2.csv，共 55 筆資料。\n",
      "2025-02-10 20:25:47,873 - INFO - 處理檔案：./weather_data_tmp\\lat_25.0_lon_121.2.csv，共 55 筆資料。\n",
      "2025-02-10 20:25:49,984 - INFO - 處理檔案：./weather_data_tmp\\lat_25.1_lon_121.2.csv，共 55 筆資料。\n",
      "2025-02-10 20:25:52,152 - INFO - 處理檔案：./weather_data_tmp\\lat_23.0_lon_121.3.csv，共 55 筆資料。\n",
      "2025-02-10 20:25:54,332 - INFO - 處理檔案：./weather_data_tmp\\lat_23.1_lon_121.3.csv，共 55 筆資料。\n",
      "2025-02-10 20:25:56,338 - INFO - 處理檔案：./weather_data_tmp\\lat_23.2_lon_121.3.csv，共 55 筆資料。\n",
      "2025-02-10 20:25:58,337 - INFO - 處理檔案：./weather_data_tmp\\lat_23.3_lon_121.3.csv，共 55 筆資料。\n",
      "2025-02-10 20:26:00,316 - INFO - 處理檔案：./weather_data_tmp\\lat_23.4_lon_121.3.csv，共 55 筆資料。\n",
      "2025-02-10 20:26:02,382 - INFO - 處理檔案：./weather_data_tmp\\lat_23.5_lon_121.3.csv，共 55 筆資料。\n",
      "2025-02-10 20:26:04,465 - INFO - 處理檔案：./weather_data_tmp\\lat_23.6_lon_121.3.csv，共 55 筆資料。\n",
      "2025-02-10 20:26:06,433 - INFO - 處理檔案：./weather_data_tmp\\lat_23.7_lon_121.3.csv，共 55 筆資料。\n",
      "2025-02-10 20:26:08,412 - INFO - 處理檔案：./weather_data_tmp\\lat_23.8_lon_121.3.csv，共 55 筆資料。\n",
      "2025-02-10 20:26:10,348 - INFO - 處理檔案：./weather_data_tmp\\lat_23.9_lon_121.3.csv，共 55 筆資料。\n",
      "2025-02-10 20:26:12,361 - INFO - 處理檔案：./weather_data_tmp\\lat_24.0_lon_121.3.csv，共 55 筆資料。\n",
      "2025-02-10 20:26:14,330 - INFO - 處理檔案：./weather_data_tmp\\lat_24.1_lon_121.3.csv，共 55 筆資料。\n",
      "2025-02-10 20:26:16,292 - INFO - 處理檔案：./weather_data_tmp\\lat_24.2_lon_121.3.csv，共 55 筆資料。\n",
      "2025-02-10 20:26:18,457 - INFO - 處理檔案：./weather_data_tmp\\lat_24.3_lon_121.3.csv，共 55 筆資料。\n",
      "2025-02-10 20:26:20,989 - INFO - 處理檔案：./weather_data_tmp\\lat_24.4_lon_121.3.csv，共 55 筆資料。\n",
      "2025-02-10 20:26:23,083 - INFO - 處理檔案：./weather_data_tmp\\lat_24.5_lon_121.3.csv，共 55 筆資料。\n",
      "2025-02-10 20:26:25,097 - INFO - 處理檔案：./weather_data_tmp\\lat_24.6_lon_121.3.csv，共 55 筆資料。\n",
      "2025-02-10 20:26:27,062 - INFO - 處理檔案：./weather_data_tmp\\lat_24.7_lon_121.3.csv，共 55 筆資料。\n",
      "2025-02-10 20:26:29,051 - INFO - 處理檔案：./weather_data_tmp\\lat_24.8_lon_121.3.csv，共 55 筆資料。\n",
      "2025-02-10 20:26:30,942 - INFO - 處理檔案：./weather_data_tmp\\lat_24.9_lon_121.3.csv，共 55 筆資料。\n",
      "2025-02-10 20:26:33,018 - INFO - 處理檔案：./weather_data_tmp\\lat_25.0_lon_121.3.csv，共 55 筆資料。\n",
      "2025-02-10 20:26:34,946 - INFO - 處理檔案：./weather_data_tmp\\lat_25.1_lon_121.3.csv，共 55 筆資料。\n",
      "2025-02-10 20:26:36,989 - INFO - 處理檔案：./weather_data_tmp\\lat_23.3_lon_121.4.csv，共 55 筆資料。\n",
      "2025-02-10 20:26:38,999 - INFO - 處理檔案：./weather_data_tmp\\lat_23.4_lon_121.4.csv，共 55 筆資料。\n",
      "2025-02-10 20:26:40,993 - INFO - 處理檔案：./weather_data_tmp\\lat_23.5_lon_121.4.csv，共 55 筆資料。\n",
      "2025-02-10 20:26:43,241 - INFO - 處理檔案：./weather_data_tmp\\lat_23.6_lon_121.4.csv，共 55 筆資料。\n",
      "2025-02-10 20:26:45,219 - INFO - 處理檔案：./weather_data_tmp\\lat_23.7_lon_121.4.csv，共 55 筆資料。\n",
      "2025-02-10 20:26:47,229 - INFO - 處理檔案：./weather_data_tmp\\lat_23.8_lon_121.4.csv，共 55 筆資料。\n",
      "2025-02-10 20:26:49,385 - INFO - 處理檔案：./weather_data_tmp\\lat_23.9_lon_121.4.csv，共 55 筆資料。\n",
      "2025-02-10 20:26:51,463 - INFO - 處理檔案：./weather_data_tmp\\lat_24.0_lon_121.4.csv，共 55 筆資料。\n",
      "2025-02-10 20:26:53,718 - INFO - 處理檔案：./weather_data_tmp\\lat_24.1_lon_121.4.csv，共 55 筆資料。\n",
      "2025-02-10 20:26:55,752 - INFO - 處理檔案：./weather_data_tmp\\lat_24.2_lon_121.4.csv，共 55 筆資料。\n",
      "2025-02-10 20:26:57,868 - INFO - 處理檔案：./weather_data_tmp\\lat_24.3_lon_121.4.csv，共 55 筆資料。\n",
      "2025-02-10 20:26:59,854 - INFO - 處理檔案：./weather_data_tmp\\lat_24.4_lon_121.4.csv，共 55 筆資料。\n",
      "2025-02-10 20:27:01,918 - INFO - 處理檔案：./weather_data_tmp\\lat_24.5_lon_121.4.csv，共 55 筆資料。\n",
      "2025-02-10 20:27:03,863 - INFO - 處理檔案：./weather_data_tmp\\lat_24.6_lon_121.4.csv，共 55 筆資料。\n",
      "2025-02-10 20:27:05,851 - INFO - 處理檔案：./weather_data_tmp\\lat_24.7_lon_121.4.csv，共 55 筆資料。\n",
      "2025-02-10 20:27:07,886 - INFO - 處理檔案：./weather_data_tmp\\lat_24.8_lon_121.4.csv，共 55 筆資料。\n",
      "2025-02-10 20:27:09,824 - INFO - 處理檔案：./weather_data_tmp\\lat_24.9_lon_121.4.csv，共 55 筆資料。\n",
      "2025-02-10 20:27:11,735 - INFO - 處理檔案：./weather_data_tmp\\lat_25.0_lon_121.4.csv，共 55 筆資料。\n",
      "2025-02-10 20:27:14,217 - INFO - 處理檔案：./weather_data_tmp\\lat_25.1_lon_121.4.csv，共 55 筆資料。\n",
      "2025-02-10 20:27:16,436 - INFO - 處理檔案：./weather_data_tmp\\lat_23.6_lon_121.5.csv，共 55 筆資料。\n",
      "2025-02-10 20:27:18,555 - INFO - 處理檔案：./weather_data_tmp\\lat_23.7_lon_121.5.csv，共 55 筆資料。\n",
      "2025-02-10 20:27:20,641 - INFO - 處理檔案：./weather_data_tmp\\lat_23.8_lon_121.5.csv，共 55 筆資料。\n",
      "2025-02-10 20:27:23,079 - INFO - 處理檔案：./weather_data_tmp\\lat_23.9_lon_121.5.csv，共 55 筆資料。\n",
      "2025-02-10 20:27:25,774 - INFO - 處理檔案：./weather_data_tmp\\lat_24.0_lon_121.5.csv，共 55 筆資料。\n",
      "2025-02-10 20:27:27,994 - INFO - 處理檔案：./weather_data_tmp\\lat_24.1_lon_121.5.csv，共 55 筆資料。\n",
      "2025-02-10 20:27:30,409 - INFO - 處理檔案：./weather_data_tmp\\lat_24.2_lon_121.5.csv，共 55 筆資料。\n",
      "2025-02-10 20:27:32,504 - INFO - 處理檔案：./weather_data_tmp\\lat_24.3_lon_121.5.csv，共 55 筆資料。\n",
      "2025-02-10 20:27:34,771 - INFO - 處理檔案：./weather_data_tmp\\lat_24.4_lon_121.5.csv，共 55 筆資料。\n",
      "2025-02-10 20:27:36,866 - INFO - 處理檔案：./weather_data_tmp\\lat_24.5_lon_121.5.csv，共 55 筆資料。\n",
      "2025-02-10 20:27:39,062 - INFO - 處理檔案：./weather_data_tmp\\lat_24.6_lon_121.5.csv，共 55 筆資料。\n",
      "2025-02-10 20:27:41,113 - INFO - 處理檔案：./weather_data_tmp\\lat_24.7_lon_121.5.csv，共 55 筆資料。\n",
      "2025-02-10 20:27:43,273 - INFO - 處理檔案：./weather_data_tmp\\lat_24.8_lon_121.5.csv，共 55 筆資料。\n",
      "2025-02-10 20:27:45,272 - INFO - 處理檔案：./weather_data_tmp\\lat_24.9_lon_121.5.csv，共 55 筆資料。\n",
      "2025-02-10 20:27:47,524 - INFO - 處理檔案：./weather_data_tmp\\lat_25.0_lon_121.5.csv，共 55 筆資料。\n",
      "2025-02-10 20:27:49,936 - INFO - 處理檔案：./weather_data_tmp\\lat_25.1_lon_121.5.csv，共 55 筆資料。\n",
      "2025-02-10 20:27:52,186 - INFO - 處理檔案：./weather_data_tmp\\lat_25.2_lon_121.5.csv，共 55 筆資料。\n",
      "2025-02-10 20:27:54,277 - INFO - 處理檔案：./weather_data_tmp\\lat_24.0_lon_121.6.csv，共 55 筆資料。\n",
      "2025-02-10 20:27:56,365 - INFO - 處理檔案：./weather_data_tmp\\lat_24.1_lon_121.6.csv，共 55 筆資料。\n",
      "2025-02-10 20:27:58,901 - INFO - 處理檔案：./weather_data_tmp\\lat_24.2_lon_121.6.csv，共 55 筆資料。\n",
      "2025-02-10 20:28:01,201 - INFO - 處理檔案：./weather_data_tmp\\lat_24.3_lon_121.6.csv，共 55 筆資料。\n",
      "2025-02-10 20:28:03,441 - INFO - 處理檔案：./weather_data_tmp\\lat_24.4_lon_121.6.csv，共 55 筆資料。\n",
      "2025-02-10 20:28:05,541 - INFO - 處理檔案：./weather_data_tmp\\lat_24.5_lon_121.6.csv，共 55 筆資料。\n",
      "2025-02-10 20:28:07,686 - INFO - 處理檔案：./weather_data_tmp\\lat_24.6_lon_121.6.csv，共 55 筆資料。\n",
      "2025-02-10 20:28:09,693 - INFO - 處理檔案：./weather_data_tmp\\lat_24.7_lon_121.6.csv，共 55 筆資料。\n",
      "2025-02-10 20:28:11,673 - INFO - 處理檔案：./weather_data_tmp\\lat_24.8_lon_121.6.csv，共 55 筆資料。\n",
      "2025-02-10 20:28:13,592 - INFO - 處理檔案：./weather_data_tmp\\lat_24.9_lon_121.6.csv，共 55 筆資料。\n",
      "2025-02-10 20:28:15,625 - INFO - 處理檔案：./weather_data_tmp\\lat_25.0_lon_121.6.csv，共 55 筆資料。\n",
      "2025-02-10 20:28:17,834 - INFO - 處理檔案：./weather_data_tmp\\lat_25.1_lon_121.6.csv，共 55 筆資料。\n",
      "2025-02-10 20:28:20,044 - INFO - 處理檔案：./weather_data_tmp\\lat_25.2_lon_121.6.csv，共 55 筆資料。\n",
      "2025-02-10 20:28:22,228 - INFO - 處理檔案：./weather_data_tmp\\lat_24.3_lon_121.7.csv，共 55 筆資料。\n",
      "2025-02-10 20:28:24,863 - INFO - 處理檔案：./weather_data_tmp\\lat_24.4_lon_121.7.csv，共 55 筆資料。\n",
      "2025-02-10 20:28:27,652 - INFO - 處理檔案：./weather_data_tmp\\lat_24.5_lon_121.7.csv，共 55 筆資料。\n",
      "2025-02-10 20:28:30,731 - INFO - 處理檔案：./weather_data_tmp\\lat_24.6_lon_121.7.csv，共 55 筆資料。\n",
      "2025-02-10 20:28:33,235 - INFO - 處理檔案：./weather_data_tmp\\lat_24.7_lon_121.7.csv，共 55 筆資料。\n",
      "2025-02-10 20:28:35,589 - INFO - 處理檔案：./weather_data_tmp\\lat_24.8_lon_121.7.csv，共 55 筆資料。\n",
      "2025-02-10 20:28:37,617 - INFO - 處理檔案：./weather_data_tmp\\lat_24.9_lon_121.7.csv，共 55 筆資料。\n",
      "2025-02-10 20:28:39,830 - INFO - 處理檔案：./weather_data_tmp\\lat_25.0_lon_121.7.csv，共 55 筆資料。\n",
      "2025-02-10 20:28:42,246 - INFO - 處理檔案：./weather_data_tmp\\lat_25.1_lon_121.7.csv，共 55 筆資料。\n",
      "2025-02-10 20:28:44,604 - INFO - 處理檔案：./weather_data_tmp\\lat_24.5_lon_121.8.csv，共 55 筆資料。\n",
      "2025-02-10 20:28:46,788 - INFO - 處理檔案：./weather_data_tmp\\lat_24.6_lon_121.8.csv，共 55 筆資料。\n",
      "2025-02-10 20:28:48,962 - INFO - 處理檔案：./weather_data_tmp\\lat_24.7_lon_121.8.csv，共 55 筆資料。\n",
      "2025-02-10 20:28:51,206 - INFO - 處理檔案：./weather_data_tmp\\lat_24.8_lon_121.8.csv，共 55 筆資料。\n",
      "2025-02-10 20:28:53,601 - INFO - 處理檔案：./weather_data_tmp\\lat_24.9_lon_121.8.csv，共 55 筆資料。\n",
      "2025-02-10 20:28:57,048 - INFO - 處理檔案：./weather_data_tmp\\lat_25.0_lon_121.8.csv，共 55 筆資料。\n",
      "2025-02-10 20:29:00,447 - INFO - 處理檔案：./weather_data_tmp\\lat_25.1_lon_121.8.csv，共 55 筆資料。\n",
      "2025-02-10 20:29:03,082 - INFO - 處理檔案：./weather_data_tmp\\lat_25.0_lon_121.9.csv，共 55 筆資料。\n",
      "2025-02-10 20:29:05,319 - INFO - 處理檔案：./weather_data_tmp\\lat_25.1_lon_121.9.csv，共 55 筆資料。\n",
      "2025-02-10 20:29:07,704 - INFO - 共預測出 17710 筆結果。\n",
      "2025-02-10 20:29:16,161 - INFO - 儲存預報結果 2025-01-01 至 ./2_predictions\\2025-01-01.json\n",
      "2025-02-10 20:29:16,194 - INFO - 儲存預報結果 2025-01-02 至 ./2_predictions\\2025-01-02.json\n",
      "2025-02-10 20:29:16,233 - INFO - 儲存預報結果 2025-01-03 至 ./2_predictions\\2025-01-03.json\n",
      "2025-02-10 20:29:16,267 - INFO - 儲存預報結果 2025-01-04 至 ./2_predictions\\2025-01-04.json\n",
      "2025-02-10 20:29:16,299 - INFO - 儲存預報結果 2025-01-05 至 ./2_predictions\\2025-01-05.json\n",
      "2025-02-10 20:29:16,337 - INFO - 儲存預報結果 2025-01-06 至 ./2_predictions\\2025-01-06.json\n",
      "2025-02-10 20:29:16,370 - INFO - 儲存預報結果 2025-01-07 至 ./2_predictions\\2025-01-07.json\n",
      "2025-02-10 20:29:16,402 - INFO - 儲存預報結果 2025-01-08 至 ./2_predictions\\2025-01-08.json\n",
      "2025-02-10 20:29:16,434 - INFO - 儲存預報結果 2025-01-09 至 ./2_predictions\\2025-01-09.json\n",
      "2025-02-10 20:29:16,467 - INFO - 儲存預報結果 2025-01-10 至 ./2_predictions\\2025-01-10.json\n",
      "2025-02-10 20:29:16,509 - INFO - 儲存預報結果 2025-01-11 至 ./2_predictions\\2025-01-11.json\n",
      "2025-02-10 20:29:16,550 - INFO - 儲存預報結果 2025-01-12 至 ./2_predictions\\2025-01-12.json\n",
      "2025-02-10 20:29:16,586 - INFO - 儲存預報結果 2025-01-13 至 ./2_predictions\\2025-01-13.json\n",
      "2025-02-10 20:29:16,621 - INFO - 儲存預報結果 2025-01-14 至 ./2_predictions\\2025-01-14.json\n",
      "2025-02-10 20:29:16,661 - INFO - 儲存預報結果 2025-01-15 至 ./2_predictions\\2025-01-15.json\n",
      "2025-02-10 20:29:16,709 - INFO - 儲存預報結果 2025-01-16 至 ./2_predictions\\2025-01-16.json\n",
      "2025-02-10 20:29:16,750 - INFO - 儲存預報結果 2025-01-17 至 ./2_predictions\\2025-01-17.json\n",
      "2025-02-10 20:29:16,787 - INFO - 儲存預報結果 2025-01-18 至 ./2_predictions\\2025-01-18.json\n",
      "2025-02-10 20:29:16,822 - INFO - 儲存預報結果 2025-01-19 至 ./2_predictions\\2025-01-19.json\n",
      "2025-02-10 20:29:16,860 - INFO - 儲存預報結果 2025-01-20 至 ./2_predictions\\2025-01-20.json\n",
      "2025-02-10 20:29:16,896 - INFO - 儲存預報結果 2025-01-21 至 ./2_predictions\\2025-01-21.json\n",
      "2025-02-10 20:29:16,940 - INFO - 儲存預報結果 2025-01-22 至 ./2_predictions\\2025-01-22.json\n",
      "2025-02-10 20:29:16,989 - INFO - 儲存預報結果 2025-01-23 至 ./2_predictions\\2025-01-23.json\n",
      "2025-02-10 20:29:17,026 - INFO - 儲存預報結果 2025-01-24 至 ./2_predictions\\2025-01-24.json\n",
      "2025-02-10 20:29:17,065 - INFO - 儲存預報結果 2025-01-25 至 ./2_predictions\\2025-01-25.json\n",
      "2025-02-10 20:29:17,103 - INFO - 儲存預報結果 2025-01-26 至 ./2_predictions\\2025-01-26.json\n",
      "2025-02-10 20:29:17,141 - INFO - 儲存預報結果 2025-01-27 至 ./2_predictions\\2025-01-27.json\n",
      "2025-02-10 20:29:17,178 - INFO - 儲存預報結果 2025-01-28 至 ./2_predictions\\2025-01-28.json\n",
      "2025-02-10 20:29:17,221 - INFO - 儲存預報結果 2025-01-29 至 ./2_predictions\\2025-01-29.json\n",
      "2025-02-10 20:29:17,263 - INFO - 儲存預報結果 2025-01-30 至 ./2_predictions\\2025-01-30.json\n",
      "2025-02-10 20:29:17,300 - INFO - 儲存預報結果 2025-01-31 至 ./2_predictions\\2025-01-31.json\n",
      "2025-02-10 20:29:17,338 - INFO - 儲存預報結果 2025-02-01 至 ./2_predictions\\2025-02-01.json\n",
      "2025-02-10 20:29:17,383 - INFO - 儲存預報結果 2025-02-02 至 ./2_predictions\\2025-02-02.json\n",
      "2025-02-10 20:29:17,422 - INFO - 儲存預報結果 2025-02-03 至 ./2_predictions\\2025-02-03.json\n",
      "2025-02-10 20:29:17,460 - INFO - 儲存預報結果 2025-02-04 至 ./2_predictions\\2025-02-04.json\n",
      "2025-02-10 20:29:17,496 - INFO - 儲存預報結果 2025-02-05 至 ./2_predictions\\2025-02-05.json\n",
      "2025-02-10 20:29:17,538 - INFO - 儲存預報結果 2025-02-06 至 ./2_predictions\\2025-02-06.json\n",
      "2025-02-10 20:29:17,576 - INFO - 儲存預報結果 2025-02-07 至 ./2_predictions\\2025-02-07.json\n",
      "2025-02-10 20:29:17,620 - INFO - 儲存預報結果 2025-02-08 至 ./2_predictions\\2025-02-08.json\n",
      "2025-02-10 20:29:17,661 - INFO - 儲存預報結果 2025-02-09 至 ./2_predictions\\2025-02-09.json\n",
      "2025-02-10 20:29:17,704 - INFO - 儲存預報結果 2025-02-10 至 ./2_predictions\\2025-02-10.json\n",
      "2025-02-10 20:29:17,742 - INFO - 儲存預報結果 2025-02-11 至 ./2_predictions\\2025-02-11.json\n",
      "2025-02-10 20:29:17,796 - INFO - 儲存預報結果 2025-02-12 至 ./2_predictions\\2025-02-12.json\n",
      "2025-02-10 20:29:17,833 - INFO - 儲存預報結果 2025-02-13 至 ./2_predictions\\2025-02-13.json\n",
      "2025-02-10 20:29:17,885 - INFO - 儲存預報結果 2025-02-14 至 ./2_predictions\\2025-02-14.json\n",
      "2025-02-10 20:29:17,930 - INFO - 儲存預報結果 2025-02-15 至 ./2_predictions\\2025-02-15.json\n",
      "2025-02-10 20:29:17,976 - INFO - 儲存預報結果 2025-02-16 至 ./2_predictions\\2025-02-16.json\n",
      "2025-02-10 20:29:18,020 - INFO - 儲存預報結果 2025-02-17 至 ./2_predictions\\2025-02-17.json\n",
      "2025-02-10 20:29:18,067 - INFO - 儲存預報結果 2025-02-18 至 ./2_predictions\\2025-02-18.json\n",
      "2025-02-10 20:29:18,109 - INFO - 儲存預報結果 2025-02-19 至 ./2_predictions\\2025-02-19.json\n",
      "2025-02-10 20:29:18,148 - INFO - 儲存預報結果 2025-02-20 至 ./2_predictions\\2025-02-20.json\n",
      "2025-02-10 20:29:18,196 - INFO - 儲存預報結果 2025-02-21 至 ./2_predictions\\2025-02-21.json\n",
      "2025-02-10 20:29:18,245 - INFO - 儲存預報結果 2025-02-22 至 ./2_predictions\\2025-02-22.json\n",
      "2025-02-10 20:29:18,291 - INFO - 儲存預報結果 2025-02-23 至 ./2_predictions\\2025-02-23.json\n",
      "2025-02-10 20:29:18,330 - INFO - 儲存預報結果 2025-02-24 至 ./2_predictions\\2025-02-24.json\n",
      "2025-02-10 20:29:18,354 - INFO - 預報結果已儲存。\n"
     ]
    }
   ],
   "source": [
    "# 預報部分：從已下載的氣象資料產生預報結果\n",
    "logging.info(\"開始依氣象資料進行預報...\")\n",
    "run_forecast_from_weather_data()\n",
    "logging.info(\"預報結果已儲存。\")"
   ]
  },
  {
   "cell_type": "code",
   "execution_count": null,
   "metadata": {},
   "outputs": [],
   "source": []
  }
 ],
 "metadata": {
  "kernelspec": {
   "display_name": "Python 3",
   "language": "python",
   "name": "python3"
  },
  "language_info": {
   "codemirror_mode": {
    "name": "ipython",
    "version": 3
   },
   "file_extension": ".py",
   "mimetype": "text/x-python",
   "name": "python",
   "nbconvert_exporter": "python",
   "pygments_lexer": "ipython3",
   "version": "3.10.16"
  }
 },
 "nbformat": 4,
 "nbformat_minor": 2
}
