{
 "cells": [
  {
   "cell_type": "code",
   "execution_count": 3,
   "metadata": {},
   "outputs": [
    {
     "name": "stdout",
     "output_type": "stream",
     "text": [
      "符合條件的點數: 116\n",
      "CSV 檔案已儲存於: 1_grid_points\\taiwan_grid.csv\n"
     ]
    }
   ],
   "source": [
    "import os\n",
    "import csv\n",
    "import numpy as np\n",
    "import requests\n",
    "from shapely.geometry import Point, Polygon\n",
    "\n",
    "# 建立存放 CSV 的資料夾\n",
    "output_dir = \"1_grid_points\"\n",
    "if not os.path.exists(output_dir):\n",
    "    os.makedirs(output_dir)\n",
    "\n",
    "# 定義一個粗略近似台灣主島的多邊形（座標格式：(lon, lat)）\n",
    "taiwan_polygon = Polygon([\n",
    "    (120.1, 21.9),  # 近南端（屏東附近）\n",
    "    (121.0, 21.9),  # 近東南\n",
    "    (122.0, 22.5),  # 東部海岸往北延伸\n",
    "    (122.0, 23.5),  # 東部中北部\n",
    "    (121.5, 24.5),  # 北部偏東\n",
    "    (120.5, 25.1),  # 北部偏西\n",
    "    (119.5, 24.8),  # 西部北端\n",
    "    (119.0, 23.5),  # 西部中南部\n",
    "    (119.0, 22.5),  # 西部南端\n",
    "    (120.1, 21.9)   # 回到起點\n",
    "])\n",
    "\n",
    "# 設定網格範圍與間距\n",
    "lon_min, lon_max = 119.0, 122.5\n",
    "lat_min, lat_max = 21.5, 25.5\n",
    "step = 0.25\n",
    "\n",
    "# 產生網格點，並利用多邊形篩選台灣陸地上的點\n",
    "points = []\n",
    "lats = np.arange(lat_min, lat_max + step, step)\n",
    "lons = np.arange(lon_min, lon_max + step, step)\n",
    "for lat in lats:\n",
    "    for lon in lons:\n",
    "        point = Point(lon, lat)  # shapely 的 Point 順序為 (lon, lat)\n",
    "        if taiwan_polygon.contains(point):\n",
    "            # 儲存時注意 open-elevation API 需要的欄位名稱為 latitude 與 longitude\n",
    "            points.append({\"latitude\": lat, \"longitude\": lon})\n",
    "\n",
    "print(\"符合條件的點數:\", len(points))\n",
    "\n",
    "# 利用 open-elevation API 取得海拔資料\n",
    "api_url = \"https://api.open-elevation.com/api/v1/lookup\"\n",
    "batch_size = 100  # 一次查詢的點數，可根據需要調整\n",
    "results = []\n",
    "\n",
    "for i in range(0, len(points), batch_size):\n",
    "    batch = points[i:i + batch_size]\n",
    "    payload = {\"locations\": batch}\n",
    "    try:\n",
    "        response = requests.post(api_url, json=payload)\n",
    "        response.raise_for_status()\n",
    "    except requests.RequestException as e:\n",
    "        print(f\"批次從索引 {i} 發生錯誤: {e}\")\n",
    "        continue\n",
    "\n",
    "    data = response.json()\n",
    "    if \"results\" in data:\n",
    "        results.extend(data[\"results\"])\n",
    "    else:\n",
    "        print(f\"批次從索引 {i} 回傳資料格式錯誤: {data}\")\n",
    "\n",
    "# 將結果寫入 CSV\n",
    "csv_path = os.path.join(output_dir, \"taiwan_grid.csv\")\n",
    "with open(csv_path, \"w\", newline=\"\", encoding=\"utf-8\") as csvfile:\n",
    "    writer = csv.writer(csvfile)\n",
    "    writer.writerow([\"lon\", \"lat\", \"elevation_m\"])  # CSV 標題\n",
    "    # API 回傳的每個項目含有 latitude, longitude, elevation\n",
    "    for entry in results:\n",
    "        writer.writerow([entry[\"longitude\"], entry[\"latitude\"], entry[\"elevation\"]])\n",
    "\n",
    "print(\"CSV 檔案已儲存於:\", csv_path)\n"
   ]
  }
 ],
 "metadata": {
  "kernelspec": {
   "display_name": "Python 3",
   "language": "python",
   "name": "python3"
  },
  "language_info": {
   "codemirror_mode": {
    "name": "ipython",
    "version": 3
   },
   "file_extension": ".py",
   "mimetype": "text/x-python",
   "name": "python",
   "nbconvert_exporter": "python",
   "pygments_lexer": "ipython3",
   "version": "3.9.15"
  }
 },
 "nbformat": 4,
 "nbformat_minor": 2
}
